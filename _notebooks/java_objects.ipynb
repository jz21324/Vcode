{
 "cells": [
  {
   "cell_type": "markdown",
   "metadata": {},
   "source": [
    "# Java Objects demonstation\n",
    "> Proof of understanding of objects\n",
    "\n",
    "- toc: true \n",
    "- badges: true\n",
    "- comments: true\n",
    "- categories: [jupyter]"
   ]
  },
  {
   "cell_type": "code",
   "execution_count": null,
   "metadata": {},
   "outputs": [],
   "source": [
    "\n",
    "public class Student {\n",
    "\n",
    "    // instance variables\n",
    "    public String class;\n",
    "    public String teacher;\n",
    "    public int period;\n",
    "\n",
    "\n",
    "    public Student (String class, String teacher, int period) {\n",
    "        this.class = class;\n",
    "        this.teacher = teacher;\n",
    "        this.period = period;\n",
    "    }\n",
    "\n",
    "    public static void main(String[] args) {\n",
    "        Student s = new Student(\"AP Computer Science A\", \"Mr. Mortensen\", 2);\n",
    "        \n",
    "        system.out.println(\"I have \" + s.teacher \" for \" + s.class + \" in \" + s.period);\n",
    "    }\n",
    "}"
   ]
  }
 ],
 "metadata": {
  "kernelspec": {
   "display_name": "Java",
   "language": "java",
   "name": "java"
  },
  "language_info": {
   "codemirror_mode": "java",
   "file_extension": ".jshell",
   "mimetype": "text/x-java-source",
   "name": "java",
   "pygments_lexer": "java",
   "version": "11.0.16+8-post-Ubuntu-0ubuntu120.04"
  },
  "orig_nbformat": 4
 },
 "nbformat": 4,
 "nbformat_minor": 2
}
