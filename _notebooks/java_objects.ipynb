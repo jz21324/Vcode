{
 "cells": [
  {
   "cell_type": "markdown",
   "metadata": {},
   "source": [
    "# Java Objects demonstration\n",
    "> Proof of understanding of objects\n",
    "\n",
    "- toc: true \n",
    "- badges: true\n",
    "- comments: true\n",
    "- categories: [jupyter]\n"
   ]
  },
  {
   "cell_type": "markdown",
   "metadata": {},
   "source": [
    "## Objects\n",
    "The code creates a public class called \"Student\", which takes in three different instance variables: class, teacher, and period. With these a string of \"AP Computer Science A\", another string of \"Mr. Mortensen\", and an integer of 2 are put together to print out the statement, \"I have AP Computer Science A for Mr. Mortensen in period 2\""
   ]
  },
  {
   "cell_type": "code",
   "execution_count": null,
   "metadata": {},
   "outputs": [],
   "source": [
    "\n",
    "public class Student {\n",
    "\n",
    "    // instance variables\n",
    "    public String class;\n",
    "    public String teacher;\n",
    "    public int period;\n",
    "\n",
    "\n",
    "    public Student (String class, String teacher, int period) {\n",
    "        this.class = class;\n",
    "        this.teacher = teacher;\n",
    "        this.period = period;\n",
    "    }\n",
    "\n",
    "    public static void main(String[] args) {\n",
    "        Student s = new Student(\"AP Computer Science A\", \"Mr. Mortensen\", 2);\n",
    "        \n",
    "        system.out.println(\"I have \" + s.teacher \" for \" + s.class + \" in period \" + s.period);\n",
    "    }\n",
    "}"
   ]
  }
 ],
 "metadata": {
  "kernelspec": {
   "display_name": "Java",
   "language": "java",
   "name": "java"
  },
  "language_info": {
   "codemirror_mode": "java",
   "file_extension": ".jshell",
   "mimetype": "text/x-java-source",
   "name": "java",
   "pygments_lexer": "java",
   "version": "11.0.16+8-post-Ubuntu-0ubuntu120.04"
  },
  "orig_nbformat": 4
 },
 "nbformat": 4,
 "nbformat_minor": 2
}
