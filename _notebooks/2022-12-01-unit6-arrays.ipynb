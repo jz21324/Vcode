{
 "cells": [
  {
   "cell_type": "markdown",
   "metadata": {},
   "source": [
    "# Unit 6 Arrays\n",
    "\n",
    "- toc: true \n",
    "- badges: true\n",
    "- comments: true\n",
    "- categories: [jupyter]"
   ]
  },
  {
   "cell_type": "markdown",
   "metadata": {},
   "source": [
    "# Arrays\n",
    "- different data structures\n",
    "- primitive contains single data type\n",
    "- reference contains multiple data types\n",
    "- the element is the value in the array\n",
    "- the index is the position"
   ]
  },
  {
   "cell_type": "code",
   "execution_count": 5,
   "metadata": {
    "vscode": {
     "languageId": "java"
    }
   },
   "outputs": [],
   "source": [
    "int[] array = new int[10];\n",
    "int[] array2 = {1, 2, 3, 4, 5};"
   ]
  },
  {
   "cell_type": "markdown",
   "metadata": {},
   "source": [
    "# Errors\n",
    "- accessing a value that doesn't not exist because it isn't in the bounds\n",
    "- when you initialize a single array but not the whole array"
   ]
  },
  {
   "cell_type": "markdown",
   "metadata": {},
   "source": [
    "# Traverse in Arrays\n",
    "- accessing the inside of an array\n",
    "- a loop or iteration can traverse an array"
   ]
  },
  {
   "cell_type": "code",
   "execution_count": null,
   "metadata": {
    "vscode": {
     "languageId": "java"
    }
   },
   "outputs": [],
   "source": [
    "for (int i = 0; i < array.length; i++) {\n",
    "    System.out.println(array[i]);\n",
    "}"
   ]
  },
  {
   "cell_type": "markdown",
   "metadata": {},
   "source": [
    "Arrays can be configured through \n",
    "* .add \n",
    "* .get\n",
    "* .set \n",
    "* .sort \n",
    "* .clear \n",
    "\n",
    "The .add method adds an index to the array list and the .get calls the specific index number. The .set method sets the index to a new index. The .sort method sorts the indexes in a certain order and .clear will clear all the indexes in the array."
   ]
  },
  {
   "cell_type": "code",
   "execution_count": 1,
   "metadata": {
    "vscode": {
     "languageId": "java"
    }
   },
   "outputs": [
    {
     "name": "stdout",
     "output_type": "stream",
     "text": [
      "[Football, Basketball, Soccer, Baseball, Tennis]\n",
      " \n",
      "Football\n",
      "Basketball\n",
      "Soccer\n",
      "Baseball\n",
      "Tennis\n",
      " \n",
      "The size of the array is 5\n",
      "The 3 array has been changed to Golf\n",
      " \n",
      "The array list is in alphabetical order:\n",
      "Basketball\n",
      "Football\n",
      "Golf\n",
      "Soccer\n",
      "Tennis\n",
      " \n",
      "The array list is now empty and says:[]\n"
     ]
    }
   ],
   "source": [
    "import java.util.ArrayList;\n",
    "import java.util.Collections;\n",
    "\n",
    "public class Main {\n",
    "    public static void main() {\n",
    "        ArrayList<String> sports = new ArrayList<String>(); //Creates a new array\n",
    "        sports.add(\"Football\");\n",
    "        sports.add(\"Basketball\"); //adds different sports to the array\n",
    "        sports.add(\"Soccer\");\n",
    "        sports.add(\"Baseball\");\n",
    "        sports.add(\"Tennis\");\n",
    "        System.out.println(sports); // prints the array\n",
    "\n",
    "        System.out.println(\" \");\n",
    "\n",
    "        for (int i = 0; i < 5; i++) {\n",
    "            System.out.println(sports.get(i)); // prints each array separately\n",
    "        }\n",
    "\n",
    "        System.out.println(\" \");\n",
    "        System.out.println(\"The size of the array is \" + sports.size()); //prints the size of the array\n",
    "\n",
    "        sports.set(3, \"Golf\"); // changes the 3 array to \"Golf\"\n",
    "        System.out.println(\"The 3 array has been changed to \" + sports.get(3));\n",
    "\n",
    "        System.out.println(\" \");\n",
    "\n",
    "        Collections.sort(sports); //sorts the array in alphabetical order\n",
    "        System.out.println(\"The array list is in alphabetical order:\");\n",
    "        for (String i : sports) {\n",
    "            System.out.println(i);\n",
    "        }\n",
    "\n",
    "        System.out.println(\" \");\n",
    "        sports.clear(); //clears the array\n",
    "        System.out.println(\"The array list is now empty and says:\" + sports);\n",
    "    }\n",
    "}\n",
    "\n",
    "Main.main();"
   ]
  },
  {
   "cell_type": "markdown",
   "metadata": {},
   "source": [
    "# Homework\n",
    "[Homework](https://jz21324.github.io/Vcode/jupyter/2022/11/30/arrays_hw.html)"
   ]
  }
 ],
 "metadata": {
  "kernelspec": {
   "display_name": "Java",
   "language": "java",
   "name": "java"
  },
  "language_info": {
   "codemirror_mode": "java",
   "file_extension": ".jshell",
   "mimetype": "text/x-java-source",
   "name": "Java",
   "pygments_lexer": "java",
   "version": "11.0.16+8-post-Ubuntu-0ubuntu120.04"
  },
  "orig_nbformat": 4,
  "vscode": {
   "interpreter": {
    "hash": "916dbcbb3f70747c44a77c7bcd40155683ae19c65e1c03b4aa3499c5328201f1"
   }
  }
 },
 "nbformat": 4,
 "nbformat_minor": 2
}
