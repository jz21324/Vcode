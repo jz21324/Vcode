{
 "cells": [
  {
   "cell_type": "markdown",
   "metadata": {},
   "source": [
    "# Unit 5 Classes\n",
    "\n",
    "- toc: true \n",
    "- badges: true\n",
    "- comments: true\n",
    "- categories: [jupyter]"
   ]
  },
  {
   "cell_type": "markdown",
   "metadata": {},
   "source": [
    "# Class Naming\n",
    "\n",
    "When creating java classes, it is important to have a good name for your class. The name of the class should\n",
    "* have words that are relevant to the code\n",
    "* aren't similar to another class name where they might be confused\n",
    "* not single letter\n",
    "\n",
    "# Static variables\n",
    "\n",
    "<mark>Static variables or class variables</mark> are in a class and is only initialized once at the beginning of the execution. It belongs to the class, not the object.\n",
    "\n",
    "# Main and Tester Method\n",
    "\n",
    "<mark>Main and tester</mark> methods are used hold a collection of code to perform certain tasks. The main will create the code and the tester will actually run the code to test the result.\n",
    "\n",
    "A class can be extended with the <mark>extends keyword</mark> which inherits a class from a <mark>superclass</mark>. A <mark>subclass</mark> will be the one that inherits from the superclass.\n",
    "\n",
    "# Overloading and Overriding\n",
    "\n",
    "<mark>Method overloading</mark> lets a class have more than one method with the same name, but with different parameters. <mark>Overriding</mark> occurs when the subclass has the same method as the superclass."
   ]
  },
  {
   "cell_type": "markdown",
   "metadata": {},
   "source": [
    "# Abstract Class and Method\n",
    "\n",
    "An <mark>abstract class</mark> is a class that is restricted so it can't be used to make objects. An <mark>abstract method</mark> can only be in an abstract class and doesn't have a body."
   ]
  },
  {
   "cell_type": "code",
   "execution_count": 1,
   "metadata": {
    "vscode": {
     "languageId": "java"
    }
   },
   "outputs": [],
   "source": [
    "abstract class Animal {\n",
    "    public abstract void animalSound();\n",
    "    public void sleep() {\n",
    "      System.out.println(\"Zzz\");\n",
    "    }\n",
    "    // Animal myObj = new Animal(); will cause an error\n",
    "  }"
   ]
  },
  {
   "cell_type": "markdown",
   "metadata": {},
   "source": [
    "# Homework\n",
    "[Homework](https://jz21324.github.io/Vcode/jupyter/2022/11/30/classes-hw.html)"
   ]
  }
 ],
 "metadata": {
  "kernelspec": {
   "display_name": "Java",
   "language": "java",
   "name": "java"
  },
  "language_info": {
   "codemirror_mode": "java",
   "file_extension": ".jshell",
   "mimetype": "text/x-java-source",
   "name": "Java",
   "pygments_lexer": "java",
   "version": "11.0.16+8-post-Ubuntu-0ubuntu120.04"
  },
  "orig_nbformat": 4,
  "vscode": {
   "interpreter": {
    "hash": "916dbcbb3f70747c44a77c7bcd40155683ae19c65e1c03b4aa3499c5328201f1"
   }
  }
 },
 "nbformat": 4,
 "nbformat_minor": 2
}
