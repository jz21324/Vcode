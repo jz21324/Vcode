{
 "cells": [
  {
   "cell_type": "markdown",
   "metadata": {},
   "source": [
    "# Learnings from Java Primitives lesson\n",
    "\n",
    "- toc: true \n",
    "- badges: true\n",
    "- comments: true\n",
    "- categories: [jupyter]"
   ]
  },
  {
   "cell_type": "markdown",
   "metadata": {},
   "source": [
    "# Primitives\n",
    "Booleans\n",
    "* true and false\n",
    "* one bit\n",
    "\n",
    "Integers\n",
    "* int values\n",
    "* 2-3 bits\n",
    "\n",
    "Double\n",
    "* decimal values\n",
    "* 64 bits"
   ]
  },
  {
   "cell_type": "code",
   "execution_count": 1,
   "metadata": {
    "vscode": {
     "languageId": "java"
    }
   },
   "outputs": [],
   "source": [
    "boolean a = true;\n",
    "int b = 5;\n",
    "double c = 7.5;"
   ]
  },
  {
   "cell_type": "markdown",
   "metadata": {},
   "source": [
    "# Operators\n",
    "addition: +\n",
    "subtraction: -\n",
    "division: /\n",
    "multiplication: *\n",
    "increase varaible by 1: ++"
   ]
  },
  {
   "cell_type": "code",
   "execution_count": 5,
   "metadata": {
    "vscode": {
     "languageId": "java"
    }
   },
   "outputs": [
    {
     "name": "stdout",
     "output_type": "stream",
     "text": [
      "60\n"
     ]
    }
   ],
   "source": [
    "int a = 5 + 10;\n",
    "int b = 20 - 5;\n",
    "int c = 45 / 3;\n",
    "int d = 5 * 3;\n",
    "System.out.println(a + b + c + d);"
   ]
  },
  {
   "cell_type": "markdown",
   "metadata": {},
   "source": [
    "# Video Learning Notes\n",
    "[Primitive Data Types in Java](https://www.youtube.com/watch?v=WQ7mvQFSmYc)\n",
    "\n",
    "A byte is just 8 bits. Int is used for integer values. Floats are used for values with few decimal digits, while doubles are used for values with many decimal digits. A boolean is used for false or true values. A char will have a single character. A string will have multiple characters."
   ]
  },
  {
   "cell_type": "code",
   "execution_count": 12,
   "metadata": {
    "vscode": {
     "languageId": "java"
    }
   },
   "outputs": [],
   "source": [
    "byte a = 12;\n",
    "int b = 5;\n",
    "float c = 6.3f;\n",
    "double d = 7.344345542;\n",
    "boolean e = true;\n",
    "char f = 'W';\n",
    "String g = \"Hello\";"
   ]
  }
 ],
 "metadata": {
  "kernelspec": {
   "display_name": "Java",
   "language": "java",
   "name": "java"
  },
  "language_info": {
   "codemirror_mode": "java",
   "file_extension": ".jshell",
   "mimetype": "text/x-java-source",
   "name": "Java",
   "pygments_lexer": "java",
   "version": "11.0.16+8-post-Ubuntu-0ubuntu120.04"
  },
  "orig_nbformat": 4
 },
 "nbformat": 4,
 "nbformat_minor": 2
}
