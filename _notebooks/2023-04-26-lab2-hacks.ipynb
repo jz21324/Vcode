{
 "cells": [
  {
   "attachments": {},
   "cell_type": "markdown",
   "metadata": {},
   "source": [
    "# Lab 2 Hacks\n",
    "\n",
    "- toc: true \n",
    "- badges: true\n",
    "- comments: true\n",
    "- categories: [jupyter]"
   ]
  },
  {
   "attachments": {},
   "cell_type": "markdown",
   "metadata": {},
   "source": [
    "## Hack #1: Recursion Hack"
   ]
  },
  {
   "cell_type": "code",
   "execution_count": 1,
   "metadata": {
    "vscode": {
     "languageId": "java"
    }
   },
   "outputs": [
    {
     "name": "stdout",
     "output_type": "stream",
     "text": [
      "**********\n",
      "*********\n",
      "********\n",
      "*******\n",
      "******\n",
      "*****\n",
      "****\n",
      "***\n",
      "**\n",
      "*\n"
     ]
    }
   ],
   "source": [
    "public void drawLine(int n) {\n",
    "    for (int i = 1; i <= n; i++) { // iterates through i\n",
    "        System.out.print(\"*\"); // prints \"*\" n times\n",
    "         \n",
    "    }\n",
    "\n",
    "    if (n > 0) { // only goes when when n is greater than 0 so that it doesn't overflow\n",
    "        System.out.println();\n",
    "        drawLine(n - 1);\n",
    "    }\n",
    "}\n",
    "drawLine(10);"
   ]
  },
  {
   "attachments": {},
   "cell_type": "markdown",
   "metadata": {},
   "source": [
    "# Hack 2: Array List Hack\n",
    "- Test if two arrays are in reverse order"
   ]
  },
  {
   "cell_type": "code",
   "execution_count": 64,
   "metadata": {
    "vscode": {
     "languageId": "java"
    }
   },
   "outputs": [
    {
     "name": "stdout",
     "output_type": "stream",
     "text": [
      "[1, 2, 3, 4, 5]\n",
      "[5, 4, 3, 2, 1]\n",
      "true"
     ]
    }
   ],
   "source": [
    "public class Reverse {\n",
    "    \n",
    "    public boolean compareArrayLists(ArrayList<Integer> list1, ArrayList<Integer> list2){\n",
    "        if (list1.size() != list2.size()) {\n",
    "            return false;\n",
    "        }\n",
    "        for (int i = 0; i < list1.size(); i++) {\n",
    "            if (list1.get(i) != list2.get(list2.size()- i - 1)){\n",
    "                return false;\n",
    "            }\n",
    "        }\n",
    "        return true;\n",
    "    }\n",
    "\n",
    "    public static void main(String[] args){\n",
    "\n",
    "        Reverse reverse = new Reverse();\n",
    "\n",
    "        ArrayList<Integer> list1 = new ArrayList<Integer>();\n",
    "\n",
    "        list1.add(1);\n",
    "        list1.add(2);\n",
    "        list1.add(3);\n",
    "        list1.add(4);\n",
    "        list1.add(5);\n",
    "\n",
    "        ArrayList<Integer> list2 = new ArrayList<Integer>();\n",
    "\n",
    "        list2.add(5);\n",
    "        list2.add(4);\n",
    "        list2.add(3);\n",
    "        list2.add(2);\n",
    "        list2.add(1);\n",
    "\n",
    "        System.out.println(list1);\n",
    "        System.out.println(list2);\n",
    "\n",
    "        System.out.print(reverse.compareArrayLists(list1, list2));\n",
    "    }\n",
    "\n",
    "   \n",
    "// for (int i = 0; i < list1.size(); i++) {\n",
    "//     int j = 5;\n",
    "//     list2.set(list.size() - j, i);\n",
    "//     j--;\n",
    "//     if (list1.get(i) == list2.get(i)) {\n",
    "//         System.out.println(i);\n",
    "//     }\n",
    "// }\n",
    "}\n",
    "Reverse.main(null);"
   ]
  },
  {
   "attachments": {},
   "cell_type": "markdown",
   "metadata": {},
   "source": [
    "## Hack #3: Array List Hack\n",
    "- Overwrite all the elements in an arraylist with the alphabet"
   ]
  },
  {
   "cell_type": "code",
   "execution_count": 67,
   "metadata": {
    "vscode": {
     "languageId": "java"
    }
   },
   "outputs": [
    {
     "name": "stdout",
     "output_type": "stream",
     "text": [
      "[1, 2, 3, 4, 5]\n",
      "[1, 3, 5]\n"
     ]
    }
   ],
   "source": [
    "ArrayList<Integer> list1 = new ArrayList<Integer>();\n",
    "\n",
    "        list1.add(1);\n",
    "        list1.add(2);\n",
    "        list1.add(3);\n",
    "        list1.add(4);\n",
    "        list1.add(5);\n",
    "\n",
    "System.out.println(list1);\n",
    "\n",
    "for (int i = 1; i < list1.size(); i++){\n",
    "    list1.remove(i);\n",
    "}\n",
    "\n",
    "System.out.println(list1);"
   ]
  },
  {
   "attachments": {},
   "cell_type": "markdown",
   "metadata": {},
   "source": [
    "## Hack #4: Sorting Hack\n",
    "- Selection Sort"
   ]
  },
  {
   "cell_type": "code",
   "execution_count": 78,
   "metadata": {
    "vscode": {
     "languageId": "java"
    }
   },
   "outputs": [
    {
     "name": "stdout",
     "output_type": "stream",
     "text": [
      "Name: Cuba; Population: 1435000\n",
      "Name: South Africa; Population: 1463000\n",
      "Name: Egypt; Population: 1730000\n",
      "Name: Berlin; Population: 5346686\n",
      "Name: United States; Population: 331900000\n"
     ]
    }
   ],
   "source": [
    "public class Country {\n",
    "    public String name;\n",
    "    private long population;\n",
    "\n",
    "    // constructor\n",
    "    public Country(String name, long population) {\n",
    "        this.name = name;\n",
    "        this.population = population;\n",
    "    }\n",
    "\n",
    "    // getPop method to be able to compare two countries\n",
    "    public long getPop() {\n",
    "        return this.population;\n",
    "    }\n",
    "\n",
    "    // compare country population sizes\n",
    "    public int compareCountry(Country c) {\n",
    "        if (this.getPop() > c.getPop()) {\n",
    "            return 1;\n",
    "        }\n",
    "        else if (this.getPop() < c.getPop()) {\n",
    "            return -1;\n",
    "        }\n",
    "        else {\n",
    "            return 0;\n",
    "        }\n",
    "    }\n",
    "\n",
    "    // toString method for printing\n",
    "    public String toString() {\n",
    "        String string = \"Name: \" + this.name + \"; Population: \" + this.population;\n",
    "        return string;\n",
    "    }\n",
    "}\n",
    "\n",
    "public class SelectionSort {\n",
    "    public static void sort(Country[] arr) {\n",
    "        for (int i = 0; i < arr.length-1; i++) {\n",
    "            int min_idx = i;\n",
    "            for (int j = i+1; j < arr.length; j++) {\n",
    "                // use compare country, only set min_idx if -1 (smaller pop)\n",
    "                if (arr[j].compareCountry(arr[min_idx]) == -1)\n",
    "                    min_idx = j;\n",
    "            }\n",
    "            // assign temp country to swap\n",
    "            Country temp = arr[min_idx];\n",
    "            arr[min_idx] = arr[i];\n",
    "            arr[i] = temp;\n",
    "        }\n",
    "    }\n",
    "    public static void main(String[] args) {\n",
    "        Country[] arr = {\n",
    "            new Country(\"United States\", 331900000),\n",
    "            new Country(\"South Africa\", 1463000),\n",
    "            new Country(\"Berlin\", 5346686),\n",
    "            new Country(\"Egypt\", 1730000),\n",
    "            new Country(\"Cuba\", 1435000)\n",
    "        };\n",
    "        SelectionSort.sort(arr);\n",
    "        for (int i = 0; i < arr.length; i++) {\n",
    "            System.out.println(arr[i]);\n",
    "        }\n",
    "    }\n",
    "}\n",
    "\n",
    "SelectionSort.main(null);"
   ]
  },
  {
   "attachments": {},
   "cell_type": "markdown",
   "metadata": {},
   "source": [
    "## Hack #5: Extra Credit Heap Sort\n",
    "- Selection Sort"
   ]
  },
  {
   "cell_type": "code",
   "execution_count": 100,
   "metadata": {
    "vscode": {
     "languageId": "java"
    }
   },
   "outputs": [
    {
     "name": "stdout",
     "output_type": "stream",
     "text": [
      "United States - 329064917\n",
      "Indonesia - 270625568\n",
      "Brazil - 211049527\n",
      "Russia - 144373535\n",
      "Mexico - 127575529\n"
     ]
    }
   ],
   "source": [
    "import java.util.ArrayList;\n",
    "import java.util.Comparator;\n",
    "\n",
    "public class HeapSort {\n",
    "\n",
    "    public static void sort(ArrayList<Country> countries, Comparator<Country> comparator) {\n",
    "        int n = countries.size();\n",
    "\n",
    "        // Build heap (rearrange array)\n",
    "        for (int i = n / 2 - 1; i >= 0; i--)\n",
    "            heapify(countries, n, i, comparator);\n",
    "\n",
    "        // One by one extract an element from heap\n",
    "        for (int i = n - 1; i >= 0; i--) {\n",
    "            // Move current root to end\n",
    "            Country temp = countries.get(0);\n",
    "            countries.set(0, countries.get(i));\n",
    "            countries.set(i, temp);\n",
    "\n",
    "            // call max heapify on the reduced heap\n",
    "            heapify(countries, i, 0, comparator);\n",
    "        }\n",
    "    }\n",
    "\n",
    "    // To heapify a subtree rooted with node i which is\n",
    "    // an index in the ArrayList. n is size of heap\n",
    "    static void heapify(ArrayList<Country> countries, int n, int i, Comparator<Country> comparator) {\n",
    "        int largest = i; // Initialize largest as root\n",
    "        int l = 2 * i + 1; // left = 2*i + 1\n",
    "        int r = 2 * i + 2; // right = 2*i + 2\n",
    "\n",
    "        // If left child is larger than root\n",
    "        if (l < n && comparator.compare(countries.get(l), countries.get(largest)) > 0)\n",
    "            largest = l;\n",
    "\n",
    "        // If right child is larger than largest so far\n",
    "        if (r < n && comparator.compare(countries.get(r), countries.get(largest)) > 0)\n",
    "            largest = r;\n",
    "\n",
    "        // If largest is not root\n",
    "        if (largest != i) {\n",
    "            Country swap = countries.get(i);\n",
    "            countries.set(i, countries.get(largest));\n",
    "            countries.set(largest, swap);\n",
    "\n",
    "            // Recursively heapify the affected sub-tree\n",
    "            heapify(countries, n, largest, comparator);\n",
    "        }\n",
    "    }\n",
    "    public static void main(String[] args) {\n",
    "        ArrayList<Country> countries = new ArrayList<>();\n",
    "        countries.add(new Country(\"United States\", 329064917));\n",
    "        countries.add(new Country(\"Indonesia\", 270625568));\n",
    "        countries.add(new Country(\"Brazil\", 211049527));\n",
    "        countries.add(new Country(\"Russia\", 144373535));\n",
    "        countries.add(new Country(\"Mexico\", 127575529));\n",
    "\n",
    "        Comparator<Country> comparator = Comparator.comparingLong(Country::getPopulation).reversed();\n",
    "        HeapSort.sort(countries, comparator);\n",
    "\n",
    "        for (Country country : countries) {\n",
    "            System.out.println(country.getName() + \" - \" + country.getPopulation());\n",
    "        }\n",
    "    }\n",
    "}\n",
    "\n",
    "class Country {\n",
    "    private String name;\n",
    "    private long population;\n",
    "\n",
    "    public Country(String name, long population) {\n",
    "        this.name = name;\n",
    "        this.population = population;\n",
    "    }\n",
    "\n",
    "    public String getName() {\n",
    "        return name;\n",
    "    }\n",
    "\n",
    "    public long getPopulation() {\n",
    "        return population;\n",
    "    }\n",
    "}\n",
    "\n",
    "HeapSort.main(null);\n"
   ]
  }
 ],
 "metadata": {
  "kernelspec": {
   "display_name": "Java",
   "language": "java",
   "name": "java"
  },
  "language_info": {
   "codemirror_mode": "java",
   "file_extension": ".jshell",
   "mimetype": "text/x-java-source",
   "name": "Java",
   "pygments_lexer": "java",
   "version": "17.0.6+10-Ubuntu-0ubuntu120.04.1"
  },
  "orig_nbformat": 4
 },
 "nbformat": 4,
 "nbformat_minor": 2
}
