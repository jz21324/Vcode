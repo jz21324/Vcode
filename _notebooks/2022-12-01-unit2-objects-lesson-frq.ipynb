{
 "cells": [
  {
   "cell_type": "markdown",
   "metadata": {},
   "source": [
    "# Unit 2 Objects\n",
    "\n",
    "- toc: true \n",
    "- badges: true\n",
    "- comments: true\n",
    "- categories: [jupyter]"
   ]
  },
  {
   "cell_type": "markdown",
   "metadata": {},
   "source": [
    "# Constructor\n",
    "\n",
    "After creating an object for a class, a <mark>constructor</mark> is called and can set initial values for the object attributes."
   ]
  },
  {
   "cell_type": "code",
   "execution_count": 1,
   "metadata": {
    "vscode": {
     "languageId": "java"
    }
   },
   "outputs": [],
   "source": [
    "public class Main {\n",
    "    int x;  // Create a class attribute\n",
    "  \n",
    "    // Create a class constructor for the Main class\n",
    "    public Main() {\n",
    "      x = 5;  // Set the initial value for the class attribute x\n",
    "    }\n",
    "  \n",
    "    public static void main(String[] args) {\n",
    "      Main myObj = new Main(); // Create an object of class Main (This will call the constructor)\n",
    "      System.out.println(myObj.x); // Print the value of x\n",
    "    }\n",
    "  }"
   ]
  },
  {
   "cell_type": "markdown",
   "metadata": {},
   "source": [
    "# Accesssors and Mutators\n",
    "\n",
    "<mark>Accessor</mark> and <mark>mutator</mark> methods can be used to return the value of a private variable and change the value of the variable respectively. "
   ]
  },
  {
   "cell_type": "code",
   "execution_count": 2,
   "metadata": {
    "vscode": {
     "languageId": "java"
    }
   },
   "outputs": [],
   "source": [
    "public class CheckingAccount{\n",
    "    private int balance;\n",
    "    \n",
    "    //An accessor method\n",
    "    public int getBalance(){\n",
    "      return this.balance;\n",
    "    }\n",
    "\n",
    "    //A mutator method\n",
    "    public void setBalance(int newBalance){\n",
    "        this.balance = newBalance;\n",
    "      }\n",
    "  }"
   ]
  },
  {
   "cell_type": "markdown",
   "metadata": {},
   "source": [
    "# \"This\"\n",
    "\n",
    "The <mark>this keyword</mark> is the current object in a method or constructor. It is used to invoke the current class, return the current class objet, or pass an argument."
   ]
  },
  {
   "cell_type": "code",
   "execution_count": 3,
   "metadata": {
    "vscode": {
     "languageId": "java"
    }
   },
   "outputs": [],
   "source": [
    "public class Main {\n",
    "    int x;\n",
    "  \n",
    "    // Constructor with a parameter\n",
    "    public Main(int x) {\n",
    "      this.x = x;\n",
    "    }\n",
    "  \n",
    "    // Call the constructor\n",
    "    public static void main(String[] args) {\n",
    "      Main myObj = new Main(5);\n",
    "      System.out.println(\"Value of x = \" + myObj.x);\n",
    "    }\n",
    "  }public class Main {\n",
    "  int x;\n",
    "\n",
    "  // Constructor with a parameter\n",
    "  public Main(int x) {\n",
    "    this.x = x;\n",
    "  }\n",
    "\n",
    "  // Call the constructor\n",
    "  public static void main(String[] args) {\n",
    "    Main myObj = new Main(5);\n",
    "    System.out.println(\"Value of x = \" + myObj.x);\n",
    "  }\n",
    "}"
   ]
  },
  {
   "cell_type": "markdown",
   "metadata": {},
   "source": [
    "The <mark>toString()</mark> will represent any object as a string. "
   ]
  },
  {
   "cell_type": "code",
   "execution_count": 4,
   "metadata": {
    "vscode": {
     "languageId": "java"
    }
   },
   "outputs": [],
   "source": [
    "class Student{  \n",
    "    int rollno;  \n",
    "    String name;  \n",
    "    String city;  \n",
    "     \n",
    "    Student(int rollno, String name, String city){  \n",
    "    this.rollno=rollno;  \n",
    "    this.name=name;  \n",
    "    this.city=city;  \n",
    "    }  \n",
    "     \n",
    "    public static void main(String args[]){  \n",
    "      Student s1=new Student(101,\"Raj\",\"lucknow\");  \n",
    "      Student s2=new Student(102,\"Vijay\",\"ghaziabad\");  \n",
    "        \n",
    "      System.out.println(s1);//compiler writes here s1.toString()  \n",
    "      System.out.println(s2);//compiler writes here s2.toString()  \n",
    "    }  \n",
    "   }  "
   ]
  },
  {
   "cell_type": "markdown",
   "metadata": {},
   "source": [
    "# Standard Methods\n",
    "\n",
    "The <mark>equals() method</mark> will return true or false depending on whether two strings are equal."
   ]
  },
  {
   "cell_type": "code",
   "execution_count": 5,
   "metadata": {
    "vscode": {
     "languageId": "java"
    }
   },
   "outputs": [
    {
     "name": "stdout",
     "output_type": "stream",
     "text": [
      "true\n",
      "false\n"
     ]
    }
   ],
   "source": [
    "String myStr1 = \"Hello\";\n",
    "String myStr2 = \"Hello\";\n",
    "String myStr3 = \"Another String\";\n",
    "System.out.println(myStr1.equals(myStr2)); // Returns true because they are equal\n",
    "System.out.println(myStr1.equals(myStr3)); // false"
   ]
  },
  {
   "cell_type": "markdown",
   "metadata": {},
   "source": [
    "A <mark>late binding of an object</mark> is when the object is determined when the code is ran."
   ]
  },
  {
   "cell_type": "code",
   "execution_count": 6,
   "metadata": {
    "vscode": {
     "languageId": "java"
    }
   },
   "outputs": [],
   "source": [
    "class Animal {  \n",
    "    void eat(){System.out.println(\"animal is eating...\");}  \n",
    "}  \n",
    "     \n",
    "class Dog extends Animal{  \n",
    "    void eat() {\n",
    "        System.out.println(\"dog is eating...\");\n",
    "    }  \n",
    "public static void main(String args[]) {  \n",
    "    Animal a=new Dog();  \n",
    "    a.eat();  \n",
    "}  \n",
    "}  "
   ]
  },
  {
   "cell_type": "markdown",
   "metadata": {},
   "source": [
    "<mark>Polymorphism</mark> is how a class is able to provide different implementations of a method. It allows you to make the same action in different ways.\n",
    "\n",
    "<mark>Big O notation</mark> is what the set of all the different algorithms that is able to run at a certain speed.\n",
    "\n",
    "To combine two different strings, you can use <mark>concatenation</mark> which can combine two or more strings to create one new string."
   ]
  },
  {
   "cell_type": "markdown",
   "metadata": {},
   "source": [
    "# Homework\n",
    "[Homework](https://jz21324.github.io/Vcode/jupyter/2022/11/30/objects-hw.html)"
   ]
  }
 ],
 "metadata": {
  "kernelspec": {
   "display_name": "Java",
   "language": "java",
   "name": "java"
  },
  "language_info": {
   "codemirror_mode": "java",
   "file_extension": ".jshell",
   "mimetype": "text/x-java-source",
   "name": "Java",
   "pygments_lexer": "java",
   "version": "11.0.16+8-post-Ubuntu-0ubuntu120.04"
  },
  "orig_nbformat": 4
 },
 "nbformat": 4,
 "nbformat_minor": 2
}
