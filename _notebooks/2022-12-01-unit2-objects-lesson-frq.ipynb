{
 "cells": [
  {
   "cell_type": "markdown",
   "metadata": {},
   "source": [
    "# Unit 2 Objects\n",
    "\n",
    "- toc: true \n",
    "- badges: true\n",
    "- comments: true\n",
    "- categories: [jupyter]"
   ]
  },
  {
   "cell_type": "markdown",
   "metadata": {},
   "source": [
    "After creating an object for a class, a <mark>constructor</mark> is called and can set initial values for the object attributes."
   ]
  },
  {
   "cell_type": "code",
   "execution_count": 1,
   "metadata": {
    "vscode": {
     "languageId": "java"
    }
   },
   "outputs": [],
   "source": [
    "public class Main {\n",
    "    int x;  // Create a class attribute\n",
    "  \n",
    "    // Create a class constructor for the Main class\n",
    "    public Main() {\n",
    "      x = 5;  // Set the initial value for the class attribute x\n",
    "    }\n",
    "  \n",
    "    public static void main(String[] args) {\n",
    "      Main myObj = new Main(); // Create an object of class Main (This will call the constructor)\n",
    "      System.out.println(myObj.x); // Print the value of x\n",
    "    }\n",
    "  }"
   ]
  },
  {
   "cell_type": "markdown",
   "metadata": {},
   "source": [
    "<mark>Accessor</mark> and <mark>mutator</mark> methods can be used to return the value of a private variable and change the value of the variable respectively. "
   ]
  },
  {
   "cell_type": "code",
   "execution_count": 2,
   "metadata": {
    "vscode": {
     "languageId": "java"
    }
   },
   "outputs": [],
   "source": [
    "public class CheckingAccount{\n",
    "    private int balance;\n",
    "    \n",
    "    //An accessor method\n",
    "    public int getBalance(){\n",
    "      return this.balance;\n",
    "    }\n",
    "\n",
    "    //A mutator method\n",
    "    public void setBalance(int newBalance){\n",
    "        this.balance = newBalance;\n",
    "      }\n",
    "  }"
   ]
  },
  {
   "cell_type": "markdown",
   "metadata": {},
   "source": [
    "To combine two different strings, you can use <mark>concatenation</mark> which can combine two or more strings to create one new string."
   ]
  },
  {
   "cell_type": "markdown",
   "metadata": {},
   "source": [
    "# Homework\n",
    "[Homework](https://jz21324.github.io/Vcode/jupyter/2022/12/01/objects-hw.html)"
   ]
  }
 ],
 "metadata": {
  "kernelspec": {
   "display_name": "Java",
   "language": "java",
   "name": "java"
  },
  "language_info": {
   "codemirror_mode": "java",
   "file_extension": ".jshell",
   "mimetype": "text/x-java-source",
   "name": "Java",
   "pygments_lexer": "java",
   "version": "11.0.16+8-post-Ubuntu-0ubuntu120.04"
  },
  "orig_nbformat": 4
 },
 "nbformat": 4,
 "nbformat_minor": 2
}
