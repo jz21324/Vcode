{
 "cells": [
  {
   "cell_type": "markdown",
   "metadata": {},
   "source": [
    "# Tri One Blog\n",
    "\n",
    "- toc: true \n",
    "- badges: true\n",
    "- comments: true\n",
    "- categories: [jupyter]"
   ]
  },
  {
   "cell_type": "markdown",
   "metadata": {},
   "source": [
    "# Learnings\n",
    "I was pretty new to code but I learned about connecting GitHub to VSCode. This gave me a solid introduction to Computer Science. I also learned some basic Java code, such as creating a class and some basic commands."
   ]
  },
  {
   "cell_type": "code",
   "execution_count": 31,
   "metadata": {
    "vscode": {
     "languageId": "java"
    }
   },
   "outputs": [
    {
     "name": "stdout",
     "output_type": "stream",
     "text": [
      "The 23 is an integer of Test and a double of 34.355"
     ]
    }
   ],
   "source": [
    "\n",
    "public class Main {\n",
    "    public static void main() {\n",
    "        int a = 23;\n",
    "        String b = \"Test\";\n",
    "        double c = 34.355;\n",
    "        System.out.print(\"The \" + a + \" is an integer of \" + b + \" and a double of \" + c);\n",
    "    }\n",
    "}\n",
    "\n",
    "Main.main();\n"
   ]
  },
  {
   "cell_type": "markdown",
   "metadata": {},
   "source": [
    "# Primitive Lesson Learnings"
   ]
  },
  {
   "cell_type": "markdown",
   "metadata": {},
   "source": [
    "## Primitives\n",
    "Booleans\n",
    "* true and false\n",
    "* one bit\n",
    "\n",
    "Integers\n",
    "* int values\n",
    "* 2-3 bits\n",
    "\n",
    "Double\n",
    "* decimal values\n",
    "* 64 bits"
   ]
  },
  {
   "cell_type": "code",
   "execution_count": 32,
   "metadata": {
    "vscode": {
     "languageId": "java"
    }
   },
   "outputs": [],
   "source": [
    "boolean a = true;\n",
    "int b = 5;\n",
    "double c = 7.5;"
   ]
  },
  {
   "cell_type": "markdown",
   "metadata": {},
   "source": [
    "## Operators\n",
    "addition: +\n",
    "subtraction: -\n",
    "division: /\n",
    "multiplication: *\n",
    "increase varaible by 1: ++"
   ]
  },
  {
   "cell_type": "code",
   "execution_count": 33,
   "metadata": {
    "vscode": {
     "languageId": "java"
    }
   },
   "outputs": [
    {
     "name": "stdout",
     "output_type": "stream",
     "text": [
      "60\n"
     ]
    }
   ],
   "source": [
    "int a = 5 + 10;\n",
    "int b = 20 - 5;\n",
    "int c = 45 / 3;\n",
    "int d = 5 * 3;\n",
    "System.out.println(a + b + c + d);"
   ]
  },
  {
   "cell_type": "markdown",
   "metadata": {},
   "source": [
    "## Video Learning Notes\n",
    "[Primitive Data Types in Java](https://www.youtube.com/watch?v=WQ7mvQFSmYc)\n",
    "\n",
    "A byte is just 8 bits. Int is used for integer values. Floats are used for values with few decimal digits, while doubles are used for values with many decimal digits. A boolean is used for false or true values. A char will have a single character. A string will have multiple characters."
   ]
  },
  {
   "cell_type": "code",
   "execution_count": 34,
   "metadata": {
    "vscode": {
     "languageId": "java"
    }
   },
   "outputs": [],
   "source": [
    "byte a = 12;\n",
    "int b = 5;\n",
    "float c = 6.3f;\n",
    "double d = 7.344345542;\n",
    "boolean e = true;\n",
    "char f = 'W';\n",
    "String g = \"Hello\";"
   ]
  },
  {
   "cell_type": "markdown",
   "metadata": {},
   "source": [
    "# Objects Learnings"
   ]
  },
  {
   "cell_type": "markdown",
   "metadata": {},
   "source": [
    "## FRQ 2021\n"
   ]
  },
  {
   "cell_type": "code",
   "execution_count": 35,
   "metadata": {
    "vscode": {
     "languageId": "java"
    }
   },
   "outputs": [],
   "source": [
    "public class WordMatch {\n",
    "    /** The secret string. */\n",
    "    private String secret;\n",
    "    /** Constructs a WordMatch object with the given secret string of lowercase letters. */\n",
    "    \n",
    "    /** Returns a score for guess, as described in part (a).\n",
    "    * Precondition: 0 < guess.length() <= secret.length()\n",
    "    */\n",
    "    public int scoreGuess(String guess) { \n",
    "        int count = 0;\n",
    "        for (int i = 0; i <= secret.length() - guess.length(); i++) {\n",
    "            if (secret.substring(i, i + guess.length()).equals(guess)) {\n",
    "                count++;\n",
    "            }\n",
    "            \n",
    "        }\n",
    "        return count * guess.length() * guess.length();\n",
    "        /* to be implemented in part (a) */ \n",
    "    }\n",
    "    /** Returns the better of two guesses, as determined by scoreGuess and the rules for a\n",
    "    * tie-breaker that are described in part (b).\n",
    "    * Precondition: guess1 and guess2 contain all lowercase letters.\n",
    "    * guess1 is not the same as guess2.\n",
    "    */\n",
    "    public String findBetterGuess(String guess1, String guess2) { \n",
    "        /* to be implemented in part (b) */ \n",
    "        if (scoreGuess(guess1) > scoreGuess(guess2)) {\n",
    "            return guess1;\n",
    "        }\n",
    "        if (scoreGuess(guess2) > scoreGuess(guess1)) {\n",
    "            return guess2;\n",
    "        }\n",
    "        if (guess1.compareTo(guess2) > 0) {\n",
    "            return guess1;\n",
    "        }\n",
    "        return guess2;\n",
    "    }\n",
    "} "
   ]
  },
  {
   "cell_type": "markdown",
   "metadata": {},
   "source": [
    "# Boolean If-Then Statement Homework"
   ]
  },
  {
   "cell_type": "markdown",
   "metadata": {},
   "source": [
    "## FRQ 2019 #1 "
   ]
  },
  {
   "cell_type": "markdown",
   "metadata": {},
   "source": [
    "### 1. The APCalendar class contains methods used to calculate information about a calendar. You will write two methods of the class. \n",
    "\n",
    "(a) Write the static method numberOfLeapYears, which returns the number of leap years between\n",
    "year1 and year2, inclusive.\n",
    "\n",
    "In order to calculate this value, a helper method is provided for you.\n",
    "\n",
    "* isLeapYear(year) returns true if year is a leap year and false otherwise.\n",
    "\n",
    "Complete method numberOfLeapYears below. You must use isLeapYear appropriately to\n",
    "receive full credit.\n",
    "\n",
    "Answer:\n",
    "\n",
    "    /** Returns the number of leap years between year1 and year2, inclusive.\n",
    "     * Precondition: 0 <= year1 <= year2\n",
    "     */\n",
    "     public static int numberOfLeapYears(int year1, int year2) {}\n",
    "        \n",
    "        int count = 0;\n",
    "\n",
    "        for (int i = year1; i <= year2; i++) {\n",
    "            if (isLeapYear(i)) {\n",
    "                count++;\n",
    "            }\n",
    "            return count;\n",
    "        }\n",
    "    }\n",
    "\n",
    "In this problem I created a loop so that it would go through all the years that are in between year1 and year2. Then inside of that I put a if statement to decide if there was a leap year. If yes, count would be increased by 1. \n",
    "\n",
    "\n",
    "\n",
    "(b) Write the static method dayOfWeek, which returns the integer value representing the day of the week for\n",
    "the given date (month, day, year), where 0 denotes Sunday, 1 denotes Monday, ..., and 6\n",
    "denotes Saturday. For example, 2019 began on a Tuesday, and January 5 is the fifth day of 2019. As a result,\n",
    "January 5, 2019, fell on a Saturday, and the method call dayOfWeek(1, 5, 2019)\n",
    "returns 6.\n",
    "\n",
    "As another example, January 10 is the tenth day of 2019. As a result, January 10, 2019, fell on a Thursday,\n",
    "and the method call dayOfWeek(1, 10, 2019) returns 4.\n",
    "\n",
    "In order to calculate this value, two helper methods are provided for you.\n",
    "* firstDayOfYear(year) returns the integer value representing the day of the week for the first day of year, where 0 denotes Sunday, 1 denotes Monday, ..., and 6 denotes Saturday. For example, since 2019 began on a Tuesday, firstDayOfYear(2019) returns 2.\n",
    "* dayOfYear(month, day, year) returns n, where month, day, and year specify the nth day of the year. For the first day of the year, January 1 (month = 1, day = 1), the value 1 is returned. This method accounts for whether year is a leap year. For example, dayOfYear(3, 1, 2017) returns 60, since 2017 is not a leap year, while dayOfYear(3, 1, 2016) returns 61, since 2016 is a leap year. \n",
    "\n",
    "Class information for this question\n",
    "\n",
    "* public class APCalendar\n",
    "* private static boolean isLeapYear(int year)\n",
    "* public static int numberOfLeapYears(int year1, int year2)\n",
    "* private static int firstDayOfYear(int year)\n",
    "* private static int dayOfYear(int month, int day, int year)\n",
    "* public static int dayOfWeek(int month, int day, int year) \n",
    "\n",
    "Complete method dayOfWeek below. You must use firstDayOfYear and dayOfYear\n",
    "appropriately to receive full credit.\n",
    "\n",
    "Answer:\n",
    "\n",
    "    /** Returns the value representing the day of the week for the given date\n",
    "    * (month, day, year), where 0 denotes Sunday, 1 denotes Monday, ...,\n",
    "    * and 6 denotes Saturday.\n",
    "    * Precondition: The date represented by month, day, year is a valid date.\n",
    "    */\n",
    "    public static int dayOfWeek(int month, int day, int year) {\n",
    "        int firstDay = firstDayOfYear(year);\n",
    "        int day = dayOfYear(month, day, year);\n",
    "        return (firstDay + day - 1) % 7;\n",
    "    }\n",
    "\n",
    "For this, I created two variables and set them to the firstDayOfYear and dayOfYear. After that, I added the two values together and subtracted 1. The % 7 is what the remainder is."
   ]
  },
  {
   "cell_type": "markdown",
   "metadata": {},
   "source": [
    "# Iteration Lesson Homework\n"
   ]
  },
  {
   "cell_type": "code",
   "execution_count": 36,
   "metadata": {
    "vscode": {
     "languageId": "java"
    }
   },
   "outputs": [
    {
     "name": "stdout",
     "output_type": "stream",
     "text": [
      "Nice job!\n",
      "code code code\n",
      "supercalifragilisticexpialidocious\n"
     ]
    }
   ],
   "source": [
    "public class CaesarCipher {\n",
    "\n",
    "        String[] letters = {\"a\", \"b\", \"c\", \"d\", \"e\", \"f\", \"g\", \"h\", \"i\", \"j\", \"k\", \"l\", \"m\", \"n\", \"o\", \"p\", \"q\", \"r\", \"s\", \"t\", \"u\", \"v\", \"w\", \"x\", \"y\", \"z\"};\n",
    "        String[] capitalLetters = {\"A\", \"B\", \"C\", \"D\", \"E\", \"F\", \"G\", \"H\", \"I\", \"J\", \"K\", \"L\", \"M\", \"N\", \"O\", \"P\", \"Q\", \"R\", \"S\", \"T\", \"U\", \"V\", \"W\", \"X\", \"Y\", \"Z\"};\n",
    "        static String message1 = \"Kfzb gly!\";\n",
    "        static String message2 = \"zlab zlab zlab\";\n",
    "        static String message3 = \"prmbozxifcoxdfifpqfzbumfxifalzflrp\";\n",
    "\n",
    "        String letter = \"\";\n",
    "\n",
    "    public CaesarCipher(String message) {\n",
    "        for (int i = 0; i < message.length(); i++) {\n",
    "            letter = message.substring(i, i + 1);\n",
    "\n",
    "            if (letter.equals(\" \")) {\n",
    "                System.out.print(\" \"); \n",
    "            }\n",
    "\n",
    "            if (letter.equals(\"!\")) {\n",
    "                System.out.print(\"!\"); \n",
    "            }\n",
    "\n",
    "             for (int j = 0; j < letters.length; j++) {\n",
    "                if (letter.equals(letters[j])) {\n",
    "                    System.out.print(letters[(j + 3) % 26]);\n",
    "                }\n",
    "                if (letter.equals(capitalLetters[j])) {\n",
    "                    System.out.print(capitalLetters[(j+3)%26]); \n",
    "                }\n",
    "             }\n",
    "            \n",
    "             \n",
    "\n",
    "            /*String oldLetter = message1.substring(i);\n",
    "            System.out.println(oldLetter);\n",
    "            int oldIndex = Arrays.asList(letters).indexOf(oldLetter);\n",
    "            String newLetter = letters[(oldIndex + 3) % 26];\n",
    "            newMessage += newLetter;\n",
    "            //System.out.println(message1.indexOf(letters[i+3]));\n",
    "            */\n",
    "        }\n",
    "        System.out.println(\"\");\n",
    "\n",
    "    }\n",
    "    public static void main(String[] args) {\n",
    "        CaesarCipher decode = new CaesarCipher(message1);\n",
    "        CaesarCipher decode2 = new CaesarCipher(message2); \n",
    "        CaesarCipher decode3 = new CaesarCipher(message3); \n",
    "    }\n",
    "}\n",
    "\n",
    "CaesarCipher.main(null);"
   ]
  },
  {
   "cell_type": "markdown",
   "metadata": {},
   "source": [
    "# Creating Classes Homework"
   ]
  },
  {
   "cell_type": "markdown",
   "metadata": {},
   "source": [
    "## FRQ 2019 #2"
   ]
  },
  {
   "cell_type": "code",
   "execution_count": 37,
   "metadata": {
    "vscode": {
     "languageId": "java"
    }
   },
   "outputs": [],
   "source": [
    "public class StepTracker {\n",
    "    private int minSteps;\n",
    "    private int totalSteps;\n",
    "    private int numDays;\n",
    "    private int numActivateDays;\n",
    "\n",
    "    public StepTracker (int threshold) {\n",
    "        minSteps = threshold;\n",
    "        totalSteps = 0;\n",
    "        numDays = 0;\n",
    "        numActiveDays = 0;\n",
    "    }\n",
    "\n",
    "    public void addDailySteps(int steps) {\n",
    "        totalSteps += steps;\n",
    "        numDays++;\n",
    "    \n",
    "        if (steps >= minSteps) {\n",
    "            numActiveDays++;\n",
    "        }\n",
    "    }\n",
    "    public int activeDays() {\n",
    "        return numActiveDays;\n",
    "    }\n",
    "    \n",
    "    public double averageSteps() {\n",
    "        if (numDays == 0) {\n",
    "            return 0.0;\n",
    "        }\n",
    "        else {\n",
    "            return (double) totalSteps / numDays;\n",
    "        }\n",
    "    }\n",
    "}"
   ]
  },
  {
   "cell_type": "markdown",
   "metadata": {},
   "source": [
    "# Array Homework"
   ]
  },
  {
   "cell_type": "markdown",
   "metadata": {},
   "source": [
    "## FRQ 3a Arrays"
   ]
  },
  {
   "cell_type": "code",
   "execution_count": 38,
   "metadata": {
    "vscode": {
     "languageId": "java"
    }
   },
   "outputs": [],
   "source": [
    "public void addMembers(String[] names, int gradYear) {\n",
    "    for (String a: names) {\n",
    "        MemberInfo newM = new memberInfo (a, gradYear, true);\n",
    "        memberList.add(newM);\n",
    "    }    \n",
    "}"
   ]
  }
 ],
 "metadata": {
  "kernelspec": {
   "display_name": "Java",
   "language": "java",
   "name": "java"
  },
  "language_info": {
   "codemirror_mode": "java",
   "file_extension": ".jshell",
   "mimetype": "text/x-java-source",
   "name": "Java",
   "pygments_lexer": "java",
   "version": "11.0.16+8-post-Ubuntu-0ubuntu120.04"
  },
  "orig_nbformat": 4,
  "vscode": {
   "interpreter": {
    "hash": "916dbcbb3f70747c44a77c7bcd40155683ae19c65e1c03b4aa3499c5328201f1"
   }
  }
 },
 "nbformat": 4,
 "nbformat_minor": 2
}
