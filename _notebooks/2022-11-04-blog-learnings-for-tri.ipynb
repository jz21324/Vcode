{
 "cells": [
  {
   "cell_type": "markdown",
   "metadata": {},
   "source": [
    "# Tri One Blog\n",
    "\n",
    "- toc: true \n",
    "- badges: true\n",
    "- comments: true\n",
    "- categories: [jupyter]"
   ]
  },
  {
   "cell_type": "markdown",
   "metadata": {},
   "source": [
    "## Week 1 Learnings\n",
    "I was pretty new to code but I learned about connecting GitHub to VSCode. This gave me a solid introduction to Computer Science. I also learned some basic Java code, such as creating a class and some basic commands."
   ]
  },
  {
   "cell_type": "code",
   "execution_count": 19,
   "metadata": {
    "vscode": {
     "languageId": "java"
    }
   },
   "outputs": [
    {
     "name": "stdout",
     "output_type": "stream",
     "text": [
      "The 23 is an integer of Test and a double of 34.355"
     ]
    }
   ],
   "source": [
    "\n",
    "public class Main {\n",
    "    public static void main() {\n",
    "        int a = 23;\n",
    "        String b = \"Test\";\n",
    "        double c = 34.355;\n",
    "        System.out.print(\"The \" + a + \" is an integer of \" + b + \" and a double of \" + c);\n",
    "    }\n",
    "}\n",
    "\n",
    "Main.main();\n"
   ]
  },
  {
   "cell_type": "code",
   "execution_count": 25,
   "metadata": {
    "vscode": {
     "languageId": "java"
    }
   },
   "outputs": [
    {
     "data": {
      "text/plain": [
       "false"
      ]
     },
     "execution_count": 25,
     "metadata": {},
     "output_type": "execute_result"
    }
   ],
   "source": [
    "public boolean almostEqual(double d1, double d2, double tolerance) {\n",
    "    return Math.abs(d1-d2) <= tolerance;\n",
    "}\n",
    "almostEqual(3.1102, 3.1116, 0.001)"
   ]
  },
  {
   "cell_type": "code",
   "execution_count": null,
   "metadata": {
    "vscode": {
     "languageId": "java"
    }
   },
   "outputs": [],
   "source": []
  }
 ],
 "metadata": {
  "kernelspec": {
   "display_name": "Java",
   "language": "java",
   "name": "java"
  },
  "language_info": {
   "codemirror_mode": "java",
   "file_extension": ".jshell",
   "mimetype": "text/x-java-source",
   "name": "Java",
   "pygments_lexer": "java",
   "version": "11.0.16+8-post-Ubuntu-0ubuntu120.04"
  },
  "orig_nbformat": 4,
  "vscode": {
   "interpreter": {
    "hash": "916dbcbb3f70747c44a77c7bcd40155683ae19c65e1c03b4aa3499c5328201f1"
   }
  }
 },
 "nbformat": 4,
 "nbformat_minor": 2
}
