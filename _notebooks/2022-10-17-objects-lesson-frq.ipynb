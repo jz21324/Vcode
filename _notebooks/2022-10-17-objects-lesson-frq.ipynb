{
 "cells": [
  {
   "cell_type": "markdown",
   "metadata": {},
   "source": [
    "# FRQ 2021\n",
    "\n",
    "- toc: true \n",
    "- badges: true\n",
    "- comments: true\n",
    "- categories: [jupyter]"
   ]
  },
  {
   "cell_type": "code",
   "execution_count": 9,
   "metadata": {},
   "outputs": [],
   "source": [
    "public class WordMatch {\n",
    "    /** The secret string. */\n",
    "    private String secret;\n",
    "    /** Constructs a WordMatch object with the given secret string of lowercase letters. */\n",
    "    \n",
    "    /** Returns a score for guess, as described in part (a).\n",
    "    * Precondition: 0 < guess.length() <= secret.length()\n",
    "    */\n",
    "    public int scoreGuess(String guess) { \n",
    "        int count = 0;\n",
    "        for (int i = 0; i <= secret.length() - guess.length(); i++) {\n",
    "            if (secret.substring(i, i + guess.length()).equals(guess)) {\n",
    "                count++;\n",
    "            }\n",
    "            \n",
    "        }\n",
    "        return count * guess.length() * guess.length();\n",
    "        /* to be implemented in part (a) */ \n",
    "    }\n",
    "    /** Returns the better of two guesses, as determined by scoreGuess and the rules for a\n",
    "    * tie-breaker that are described in part (b).\n",
    "    * Precondition: guess1 and guess2 contain all lowercase letters.\n",
    "    * guess1 is not the same as guess2.\n",
    "    */\n",
    "    public String findBetterGuess(String guess1, String guess2) { \n",
    "        /* to be implemented in part (b) */ \n",
    "        if (scoreGuess(guess1) > scoreGuess(guess2)) {\n",
    "            return guess1;\n",
    "        }\n",
    "        if (scoreGuess(guess2) > scoreGuess(guess1)) {\n",
    "            return guess2;\n",
    "        }\n",
    "        if (guess1.compareTo(guess2) > 0) {\n",
    "            return guess1;\n",
    "        }\n",
    "        return guess2;\n",
    "    }\n",
    "} "
   ]
  }
 ],
 "metadata": {
  "kernelspec": {
   "display_name": "Java",
   "language": "java",
   "name": "java"
  },
  "language_info": {
   "codemirror_mode": "java",
   "file_extension": ".jshell",
   "mimetype": "text/x-java-source",
   "name": "java",
   "pygments_lexer": "java",
   "version": "11.0.16+8-post-Ubuntu-0ubuntu120.04"
  },
  "orig_nbformat": 4
 },
 "nbformat": 4,
 "nbformat_minor": 2
}
