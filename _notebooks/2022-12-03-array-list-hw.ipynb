{
 "cells": [
  {
   "cell_type": "markdown",
   "metadata": {},
   "source": [
    "# Unit 7 Array List Homework\n",
    "\n",
    "- toc: true \n",
    "- badges: true\n",
    "- comments: true\n",
    "- categories: [jupyter]"
   ]
  },
  {
   "cell_type": "markdown",
   "metadata": {},
   "source": [
    "# Score: 0.9/1.0"
   ]
  },
  {
   "cell_type": "code",
   "execution_count": 1,
   "metadata": {},
   "outputs": [
    {
     "name": "stdout",
     "output_type": "stream",
     "text": [
      "Original: [0, 1, 2, 3, 4, 5, 4, 3, 2, 1]\n",
      "HashCode: -1631985086\n",
      "ArrayList after sort: [5, 4, 4, 3, 3, 2, 2, 1, 1, 0]\n",
      "HashCode: -287789284\n",
      "Swap the first and last elements: [3, 4, 4, 3, 5, 2, 2, 1, 1, 0]\n",
      "HashCode: 162496028\n",
      "neither\n"
     ]
    }
   ],
   "source": [
    "import java.util.*;\n",
    "import java.lang.Math;  \n",
    "\n",
    "ArrayList<Integer> number = new ArrayList<Integer>();\n",
    "ArrayList<Integer> number2 = new ArrayList<Integer>();\n",
    "for (int i = 0; i < 5; i++){\n",
    "    number.add(i);\n",
    "}\n",
    "for (int i = 5; i > 0; i--){\n",
    "    number.add(i);\n",
    "}\n",
    "System.out.println(\"Original: \" +number);\n",
    "System.out.println(\"HashCode: \" + number.hashCode());\n",
    "number.sort(Comparator.reverseOrder());\n",
    "System.out.println(\"ArrayList after sort: \" + number);\n",
    "System.out.println(\"HashCode: \" + number.hashCode());\n",
    "Collections.swap(number, 4, 0);\n",
    "System.out.println(\"Swap the first and last elements: \" + number);\n",
    "System.out.println(\"HashCode: \" + number.hashCode());\n",
    "boolean a;\n",
    "boolean b;\n",
    "for (int i=0; i < number.size() - 1; i++){\n",
    "    if (!(number.get(i) <= number.get(i + 1))){\n",
    "        boolean a = false;\n",
    "    }\n",
    "    if (!(number.get(i) >= number.get(i + 1))){\n",
    "        boolean b = false;\n",
    "    }\n",
    "}\n",
    "if (a){\n",
    "    System.out.println(\"ascending\");\n",
    "}\n",
    "if (b){\n",
    "    System.out.println(\"descending\");\n",
    "}\n",
    "else{\n",
    "    System.out.println(\"neither\");\n",
    "}"
   ]
  }
 ],
 "metadata": {
  "kernelspec": {
   "display_name": "Java",
   "language": "java",
   "name": "java"
  },
  "language_info": {
   "codemirror_mode": "java",
   "file_extension": ".jshell",
   "mimetype": "text/x-java-source",
   "name": "java",
   "pygments_lexer": "java",
   "version": "11.0.16+8-post-Ubuntu-0ubuntu120.04"
  },
  "orig_nbformat": 4
 },
 "nbformat": 4,
 "nbformat_minor": 2
}
