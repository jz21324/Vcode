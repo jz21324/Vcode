{
 "cells": [
  {
   "cell_type": "markdown",
   "metadata": {},
   "source": [
    "# Unit 4 Lesson Homework\n",
    "\n",
    "- toc: true \n",
    "- badges: true\n",
    "- comments: true\n",
    "- categories: [jupyter]"
   ]
  },
  {
   "cell_type": "markdown",
   "metadata": {},
   "source": [
    "# Score 0.8/1.0"
   ]
  },
  {
   "cell_type": "code",
   "execution_count": 1,
   "metadata": {
    "vscode": {
     "languageId": "java"
    }
   },
   "outputs": [
    {
     "name": "stdout",
     "output_type": "stream",
     "text": [
      "Nice job!\n",
      "code code code\n",
      "supercalifragilisticexpialidocious\n"
     ]
    }
   ],
   "source": [
    "public class CaesarCipher {\n",
    "\n",
    "    String[] letters = {\"a\", \"b\", \"c\", \"d\", \"e\", \"f\", \"g\", \"h\", \"i\", \"j\", \"k\", \"l\", \"m\", \"n\", \"o\", \"p\", \"q\", \"r\", \"s\", \"t\", \"u\", \"v\", \"w\", \"x\", \"y\", \"z\"};\n",
    "    String[] capitalLetters = {\"A\", \"B\", \"C\", \"D\", \"E\", \"F\", \"G\", \"H\", \"I\", \"J\", \"K\", \"L\", \"M\", \"N\", \"O\", \"P\", \"Q\", \"R\", \"S\", \"T\", \"U\", \"V\", \"W\", \"X\", \"Y\", \"Z\"};\n",
    "    static String message1 = \"Kfzb gly!\";\n",
    "    static String message2 = \"zlab zlab zlab\";\n",
    "    static String message3 = \"prmbozxifcoxdfifpqfzbumfxifalzflrp\";\n",
    "\n",
    "    String letter = \"\";\n",
    "\n",
    "public CaesarCipher(String message) {\n",
    "    for (int i = 0; i < message.length(); i++) {\n",
    "        letter = message.substring(i, i + 1);\n",
    "\n",
    "        if (letter.equals(\" \")) {\n",
    "            System.out.print(\" \"); \n",
    "        }\n",
    "\n",
    "        if (letter.equals(\"!\")) {\n",
    "            System.out.print(\"!\"); \n",
    "        }\n",
    "\n",
    "         for (int j = 0; j < letters.length; j++) {\n",
    "            if (letter.equals(letters[j])) {\n",
    "                System.out.print(letters[(j + 3) % 26]);\n",
    "            }\n",
    "            if (letter.equals(capitalLetters[j])) {\n",
    "                System.out.print(capitalLetters[(j+3)%26]); \n",
    "            }\n",
    "         }\n",
    "        \n",
    "         \n",
    "\n",
    "        /*String oldLetter = message1.substring(i);\n",
    "        System.out.println(oldLetter);\n",
    "        int oldIndex = Arrays.asList(letters).indexOf(oldLetter);\n",
    "        String newLetter = letters[(oldIndex + 3) % 26];\n",
    "        newMessage += newLetter;\n",
    "        //System.out.println(message1.indexOf(letters[i+3]));\n",
    "        */\n",
    "    }\n",
    "    System.out.println(\"\");\n",
    "\n",
    "}\n",
    "public static void main(String[] args) {\n",
    "    CaesarCipher decode = new CaesarCipher(message1);\n",
    "    CaesarCipher decode2 = new CaesarCipher(message2); \n",
    "    CaesarCipher decode3 = new CaesarCipher(message3); \n",
    "}\n",
    "}\n",
    "\n",
    "CaesarCipher.main(null);"
   ]
  }
 ],
 "metadata": {
  "kernelspec": {
   "display_name": "Java",
   "language": "java",
   "name": "java"
  },
  "language_info": {
   "codemirror_mode": "java",
   "file_extension": ".jshell",
   "mimetype": "text/x-java-source",
   "name": "Java",
   "pygments_lexer": "java",
   "version": "11.0.16+8-post-Ubuntu-0ubuntu120.04"
  },
  "orig_nbformat": 4,
  "vscode": {
   "interpreter": {
    "hash": "916dbcbb3f70747c44a77c7bcd40155683ae19c65e1c03b4aa3499c5328201f1"
   }
  }
 },
 "nbformat": 4,
 "nbformat_minor": 2
}
