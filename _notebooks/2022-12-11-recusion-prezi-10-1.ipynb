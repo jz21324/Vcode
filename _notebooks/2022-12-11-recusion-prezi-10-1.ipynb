{
 "cells": [
  {
   "cell_type": "markdown",
   "metadata": {},
   "source": [
    "# Topic 10.1 Recursion\n",
    "\n",
    "- toc: true \n",
    "- badges: true\n",
    "- comments: true\n",
    "- categories: [jupyter]"
   ]
  },
  {
   "cell_type": "markdown",
   "metadata": {},
   "source": [
    "* A <mark>recursive</mark> method is method that calls itself.\n",
    "* It contains at least one base case that halts recursion and once recursive call\n",
    "* Each recursive call has own local variables\n",
    "* Parameter values take progress of recursive process\n",
    "* A recursion can be replaced with an iterative and give the same result\n",
    "* Recursion can traverse String, array, and ArrayList objects"
   ]
  },
  {
   "cell_type": "code",
   "execution_count": 1,
   "metadata": {
    "vscode": {
     "languageId": "java"
    }
   },
   "outputs": [],
   "source": [
    "public static void example(int n) {\n",
    "    if (n > 0)\n",
    "        example (n-1);\n",
    "}"
   ]
  },
  {
   "cell_type": "markdown",
   "metadata": {},
   "source": [
    "This is what a recursion looks like where the example method is called within itself."
   ]
  },
  {
   "cell_type": "code",
   "execution_count": 16,
   "metadata": {
    "vscode": {
     "languageId": "java"
    }
   },
   "outputs": [
    {
     "name": "stdout",
     "output_type": "stream",
     "text": [
      "4\n",
      "3\n",
      "2\n",
      "2\n",
      "3\n",
      "4\n"
     ]
    }
   ],
   "source": [
    "public static void simplerRecur(int n) {\n",
    "    System.out.println(n);\n",
    "    \n",
    "    if (n > 2)\n",
    "        simplerRecur(n-1); \n",
    "    System.out.println(n);\n",
    "}\n",
    "simplerRecur(4);"
   ]
  },
  {
   "cell_type": "markdown",
   "metadata": {},
   "source": [
    "In this example, the simplerRecur method is called within itself. So, simplerRecur(4) will result in printing 4 and then one less than it until the parameter is false. It then cycles back up to the top of the call stack. This is why it returns the 2 3 4 at the end."
   ]
  },
  {
   "cell_type": "code",
   "execution_count": 9,
   "metadata": {
    "vscode": {
     "languageId": "java"
    }
   },
   "outputs": [
    {
     "data": {
      "text/plain": [
       "15"
      ]
     },
     "execution_count": 9,
     "metadata": {},
     "output_type": "execute_result"
    }
   ],
   "source": [
    "public static int simpleRecur2(int n) {\n",
    "    if (n == 0)\n",
    "        return 0;\n",
    "    return n + simpleRecur2(n/2);\n",
    "}\n",
    "simpleRecur2(8);"
   ]
  },
  {
   "cell_type": "markdown",
   "metadata": {},
   "source": [
    "In this, simpleRecur2(8) wil return 8 + simpleRecur2(4) and simpleRecur2(4) will return 4 + simpleRecur2(2). This process will continue until n = 0 and all the values will be added together.\n",
    "\n",
    "8 + 4 + 2 + 1 + 0"
   ]
  },
  {
   "cell_type": "code",
   "execution_count": 14,
   "metadata": {
    "vscode": {
     "languageId": "java"
    }
   },
   "outputs": [
    {
     "data": {
      "text/plain": [
       "9"
      ]
     },
     "execution_count": 14,
     "metadata": {},
     "output_type": "execute_result"
    }
   ],
   "source": [
    "public int dblRecur(int n) {\n",
    "    if (n > 0)\n",
    "        return n + dblRecur(n/2) + dblRecur(n/3);\n",
    "    return 0;\n",
    "}\n",
    "dblRecur(5);"
   ]
  },
  {
   "cell_type": "markdown",
   "metadata": {},
   "source": [
    "This one is similar to the last example where it will add the values together but this has multiple recursive methods inside it. So, dblRecur(5) will return 5 + dblRecur(2) + dblRecur(1) and then dblRecur(2) and dblRecur(1) will have their own run through the method until n is no longer greater than 0."
   ]
  },
  {
   "cell_type": "code",
   "execution_count": 15,
   "metadata": {
    "vscode": {
     "languageId": "java"
    }
   },
   "outputs": [
    {
     "name": "stdout",
     "output_type": "stream",
     "text": [
      "eumc"
     ]
    }
   ],
   "source": [
    "public static void mystery (String s) {\n",
    "    if (s.length() > 1) {\n",
    "        mystery(s.substring(2));\n",
    "        System.out.print(s.substring(0,1));\n",
    "    }\n",
    "}\n",
    "mystery(\"computer\");"
   ]
  },
  {
   "cell_type": "markdown",
   "metadata": {},
   "source": [
    "Recursion can also be seen will String objects. In this, mystery(\"computer\") will first go through the mystery(s.substring(2)) which will result in a call stack with \"computer\", \"mputer\", \"uter\", \"er\", and \" \". THe print statement will then print the first letter of those Strings so e u m c."
   ]
  }
 ],
 "metadata": {
  "kernelspec": {
   "display_name": "Java",
   "language": "java",
   "name": "java"
  },
  "language_info": {
   "codemirror_mode": "java",
   "file_extension": ".jshell",
   "mimetype": "text/x-java-source",
   "name": "Java",
   "pygments_lexer": "java",
   "version": "11.0.16+8-post-Ubuntu-0ubuntu120.04"
  },
  "orig_nbformat": 4
 },
 "nbformat": 4,
 "nbformat_minor": 2
}
