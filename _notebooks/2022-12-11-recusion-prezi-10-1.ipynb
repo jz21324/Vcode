{
 "cells": [
  {
   "cell_type": "markdown",
   "metadata": {},
   "source": [
    "# Unit 10 Recursion\n",
    "\n",
    "- toc: true \n",
    "- badges: true\n",
    "- comments: true\n",
    "- categories: [jupyter]"
   ]
  },
  {
   "cell_type": "markdown",
   "metadata": {},
   "source": [
    "# Topic 10.1 Recursion\n",
    "\n",
    "* A <mark>recursive</mark> method is method that calls itself.\n",
    "* It contains at least one base case that halts recursion and once recursive call\n",
    "* Each recursive call has own local variables\n",
    "* Parameter values take progress of recursive process\n",
    "* A recursion can be replaced with an iterative and give the same result\n",
    "* Recursion can traverse String, array, and ArrayList objects"
   ]
  },
  {
   "cell_type": "markdown",
   "metadata": {},
   "source": [
    "This is what a recursion looks like where the example method is called within itself."
   ]
  },
  {
   "cell_type": "code",
   "execution_count": 1,
   "metadata": {
    "vscode": {
     "languageId": "java"
    }
   },
   "outputs": [],
   "source": [
    "public static void example(int n) {\n",
    "    if (n > 0)\n",
    "        example (n-1);\n",
    "}"
   ]
  },
  {
   "cell_type": "markdown",
   "metadata": {},
   "source": [
    "In this example, the simplerRecur method is called within itself. So, simplerRecur(4) will result in printing 4 and then one less than it until the parameter is false. It then cycles back up to the top of the call stack. This is why it returns the 2 3 4 at the end."
   ]
  },
  {
   "cell_type": "code",
   "execution_count": 16,
   "metadata": {
    "vscode": {
     "languageId": "java"
    }
   },
   "outputs": [
    {
     "name": "stdout",
     "output_type": "stream",
     "text": [
      "4\n",
      "3\n",
      "2\n",
      "2\n",
      "3\n",
      "4\n"
     ]
    }
   ],
   "source": [
    "public static void simplerRecur(int n) {\n",
    "    System.out.println(n);\n",
    "    \n",
    "    if (n > 2)\n",
    "        simplerRecur(n-1); \n",
    "    System.out.println(n);\n",
    "}\n",
    "simplerRecur(4);"
   ]
  },
  {
   "cell_type": "markdown",
   "metadata": {},
   "source": [
    "In this, simpleRecur2(8) wil return 8 + simpleRecur2(4) and simpleRecur2(4) will return 4 + simpleRecur2(2). This process will continue until n = 0 and all the values will be added together.\n",
    "\n",
    "8 + 4 + 2 + 1 + 0"
   ]
  },
  {
   "cell_type": "code",
   "execution_count": 9,
   "metadata": {
    "vscode": {
     "languageId": "java"
    }
   },
   "outputs": [
    {
     "data": {
      "text/plain": [
       "15"
      ]
     },
     "execution_count": 9,
     "metadata": {},
     "output_type": "execute_result"
    }
   ],
   "source": [
    "public static int simpleRecur2(int n) {\n",
    "    if (n == 0)\n",
    "        return 0;\n",
    "    return n + simpleRecur2(n/2);\n",
    "}\n",
    "simpleRecur2(8);"
   ]
  },
  {
   "cell_type": "markdown",
   "metadata": {},
   "source": [
    "This one is similar to the last example where it will add the values together but this has multiple recursive methods inside it. So, dblRecur(5) will return 5 + dblRecur(2) + dblRecur(1) and then dblRecur(2) and dblRecur(1) will have their own run through the method until n is no longer greater than 0."
   ]
  },
  {
   "cell_type": "code",
   "execution_count": 14,
   "metadata": {
    "vscode": {
     "languageId": "java"
    }
   },
   "outputs": [
    {
     "data": {
      "text/plain": [
       "9"
      ]
     },
     "execution_count": 14,
     "metadata": {},
     "output_type": "execute_result"
    }
   ],
   "source": [
    "public int dblRecur(int n) {\n",
    "    if (n > 0)\n",
    "        return n + dblRecur(n/2) + dblRecur(n/3);\n",
    "    return 0;\n",
    "}\n",
    "dblRecur(5);"
   ]
  },
  {
   "cell_type": "markdown",
   "metadata": {},
   "source": [
    "Recursion can also be seen will String objects. In this, mystery(\"computer\") will first go through the mystery(s.substring(2)) which will result in a call stack with \"computer\", \"mputer\", \"uter\", \"er\", and \" \". THe print statement will then print the first letter of those Strings so e u m c."
   ]
  },
  {
   "cell_type": "code",
   "execution_count": 18,
   "metadata": {
    "vscode": {
     "languageId": "java"
    }
   },
   "outputs": [
    {
     "name": "stdout",
     "output_type": "stream",
     "text": [
      "eumc"
     ]
    }
   ],
   "source": [
    "public static void mystery (String s) {\n",
    "    if (s.length() > 1) {\n",
    "        mystery(s.substring(2));\n",
    "        System.out.print(s.substring(0,1));\n",
    "    }\n",
    "}\n",
    "mystery(\"computer\");"
   ]
  },
  {
   "cell_type": "markdown",
   "metadata": {},
   "source": [
    "# Binary Search With Equations\n",
    "\n",
    "We start by taking the entire array, starting with the first and the last numbers, and find the midpoint. Starting number is 0, and end is 40, and the midpoint is 20.\n",
    "\n",
    "![recursion1](../images/recursion1.png)\n",
    "\n",
    "\n",
    " Since 24 is greater than 20, we take the upper bound of the list, ignoring everything less that 22.The first number now becomes 22.  \n",
    "\n",
    "![recursion2](../images/recursion2.png)\n",
    "\n",
    "\n",
    "We identify the midpoint again, which is 30. Since the new midpoint is higher than 24, we now take the lower bound. Here, the last number becomes 28.\n",
    "\n",
    "![recursion3](../images/recursion3.png)\n",
    "\n",
    "In this new bound, we find the midpoint again, which happens to be 24. So, we have found our target. \n",
    "\n",
    "Now, lets say that the target was 23, instead of 24. The program would have to keep going from the midpoint of 24. Since 23 is less than 24, it takes the lower bound. However, this makes first, last and midpoint numbers 22. \n",
    "\n",
    "![recursion4](../images/recursion4.png)\n",
    "\n",
    "\n",
    "Again, since 22 is less than 23, the first number becomes 24, and the last number stays 22. This becomes a problem since the first number is greater than the last, which is our base case. This tells the program that the number 23 isn’t in the list, and that it should end.\n",
    " \n",
    "![recursion5](../images/recursion5.png)"
   ]
  },
  {
   "cell_type": "code",
   "execution_count": 19,
   "metadata": {
    "vscode": {
     "languageId": "java"
    }
   },
   "outputs": [
    {
     "name": "stdout",
     "output_type": "stream",
     "text": [
      "index of target: 12\n"
     ]
    }
   ],
   "source": [
    "public class recursion{\n",
    "    public static int recursionBinarySearch(int[] array, int first, int last, int target){\n",
    "        int midpoint;\n",
    "\n",
    "        //if the first number is greater than the last, the target number is not in the list\n",
    "        if (first > last){\n",
    "            System.out.println(-1);\n",
    "            return -1;\n",
    "        }\n",
    "        else{\n",
    "            midpoint = (first+last)/2;\n",
    "\n",
    "            //take the upper bound if number is greater than midpoint\n",
    "            if (array[midpoint] < target){\n",
    "                return recursionBinarySearch(array, midpoint+1, last, target);\n",
    "            }\n",
    "\n",
    "            // take the lower bound if the number is lesser than midpoint\n",
    "            if (array[midpoint] > target){\n",
    "                return recursionBinarySearch(array, first,midpoint-1, target);\n",
    "            }\n",
    "        System.out.println(\"index of target: \" + midpoint);\n",
    "        return midpoint;\n",
    "        }\n",
    "    }\n",
    "\n",
    "    public static void main(String[] args){\n",
    "        // test array in main\n",
    "        int[] test_array = new int[]{ 0,2,4,6,8,10,12,14,16,18,20,22,24,26,28,30,32,34,36,38,40 };\n",
    "        recursion.recursionBinarySearch(test_array, 0, test_array.length, 24);\n",
    "    }\n",
    "}\n",
    "\n",
    "recursion.main(null);"
   ]
  },
  {
   "cell_type": "markdown",
   "metadata": {},
   "source": [
    "## Merge Sort\n",
    "\n",
    "- Merge Sort can be used to sort ArrayLists\n",
    "\n",
    "- Uses a Divide and Conquer algorithm to Sort ArrayList\n",
    "   - Divides the array into halves, and then calls itself for the two different halves in order to sort them\n",
    "   - merges the two sorted halves into one lists\n",
    "\n",
    "- Merging Values into One Sorted Array\n",
    "   - copy the original elements into a temporary array\n",
    "   - work from left to right in each virtual array to compare element and return them to the correct order in the original array\n",
    "\n",
    "Way to Think About It:\n",
    "mergeSort (myList) {\n",
    "    mergeSort(left);\n",
    "    mergeSort(right);\n",
    "    mergeSort (left & right)\n",
    "}\n",
    "\n",
    "First, the mergeSort function splits the ArrayList into half, and then takes the left side of the list. It then calls mergeSort again and then halves the list, and does this two more times. Eventually, it is left with just 5 after sorting using all of mergeSort(left).\n",
    "\n",
    "![merging1](.../images/merging1.png)\n",
    "\n",
    "Then, it goes back to the third step with just the 5 and 25, and looks at the right side of that one section. It compares the two halves, 5 and 25, and then sorts it, keeping the 5 before the 25 and recurses its way back to the ArrayList in the beginning.\n",
    "\n",
    "![merging2](../images/merging2.png)\n",
    "\n",
    "We then go back down one more half where we have the 5, 25, 8, and -9. Because we had already sorted the left side of that list, we then go to the right side with the 8 and -9. We then sort the left side where we get 8 and then the right side with -9.\n",
    "\n",
    "![merging3](../images/merging3.png)\n",
    "\n",
    "After this, the mergeSort() sorts -9 and 8 into the right order, and then recurses it once again 8 and -9 with the sorted -9 and 8 instead.\n",
    "\n",
    "![merging4](../images/merging4.png)\n",
    "\n",
    "Because the four of the numbers for the left side of the original list were not in the correct order overall, mergeSort is once again called and the list is sorted with the correct order for just the left side, now containing -9, 5, 8, 25.\n",
    "\n",
    "![merging5](../images/merging5.png)\n",
    "\n",
    "This process is then repeated, but for the right half of the ArrayList. It keeps slitting the list in half, sorting it, and then bringing it to the level below, where eventually, the ArrayList is sorted and merged together, as shown in the image below.\n",
    "\n",
    "![merging6](../images/merging6.png)\n",
    "\n",
    "This is a code segment that CollegeBoard had provided in order to see the recursion behind mergeSort(). The code calls mergeSort() on itself in order to sort the list and merge the halves until you reach the right order and final list.\n",
    "\n",
    "![merging7](../images/merging7.png)"
   ]
  }
 ],
 "metadata": {
  "kernelspec": {
   "display_name": "Java",
   "language": "java",
   "name": "java"
  },
  "language_info": {
   "codemirror_mode": "java",
   "file_extension": ".jshell",
   "mimetype": "text/x-java-source",
   "name": "Java",
   "pygments_lexer": "java",
   "version": "11.0.16+8-post-Ubuntu-0ubuntu120.04"
  },
  "orig_nbformat": 4
 },
 "nbformat": 4,
 "nbformat_minor": 2
}
