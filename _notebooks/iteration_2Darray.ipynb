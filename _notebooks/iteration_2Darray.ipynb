{
 "cells": [
  {
   "cell_type": "markdown",
   "metadata": {},
   "source": [
    "# Iteration with 2D Array\n",
    "> Example of 2D array art\n",
    "\n",
    "- toc: true \n",
    "- badges: true\n",
    "- comments: true\n",
    "- categories: [jupyter]"
   ]
  },
  {
   "cell_type": "code",
   "execution_count": 18,
   "metadata": {
    "vscode": {
     "languageId": "java"
    }
   },
   "outputs": [
    {
     "ename": "UnresolvedReferenceException",
     "evalue": "Attempt to use definition snippet with unresolved references in Snippet:ClassKey(CarLoop)#15-class CarLoop {\n    String [][] car;\n\n    public CarLoop() {\n        car = new String[][]{\n           {\n                \"  ______                                                       \",\n                \" /|_||_\\\\`.__                                                  \",\n                \"(   _    _ _\\\\                                                 \",\n                \"=`-(_)--(_)-'                                                  \",\n                \"===============================================================\"\n           },\n           {\n                \"            ______                                             \",\n                \"           /|_||_\\\\`.__                                        \",\n                \"          (   _    _ _\\\\                                       \",\n                \"          =`-(_)--(_)-'                                        \",\n                \"===============================================================\"            \n           },\n        };\n    }\n\n    public void printRace() {\n        System.out.println();\n        System.out.println(\"Car drivng down in Java Loop\");\n\n        int carPlace = car.length;\n        for (int i = carPlace; i >= 1; i--)\n        {\n            for (int row = 0; row < carPlace; row++) {\n                for (int col = 0; col < car[row].length; col++) {\n                    System.out.print(car[row][col] + \" \");\n\n                }\n            }\n\n            carPlace -= 1;\n        }\n    }\n\n    public static void main(String[] args) {\n        new CarLoop().printPoem();\n    }\n}",
     "output_type": "error",
     "traceback": [
      "\u001b[1m\u001b[30m|   \u001b[1m\u001b[30mclass CarLoop {\u001b[0m",
      "\u001b[1m\u001b[30m|   \u001b[1m\u001b[30m    String [][] car;\u001b[0m",
      "\u001b[1m\u001b[30m|   \u001b[1m\u001b[30m\u001b[0m",
      "\u001b[1m\u001b[30m|   \u001b[1m\u001b[30m    public CarLoop() {\u001b[0m",
      "\u001b[1m\u001b[30m|   \u001b[1m\u001b[30m        car = new String[][]{\u001b[0m",
      "\u001b[1m\u001b[30m|   \u001b[1m\u001b[30m           {\u001b[0m",
      "\u001b[1m\u001b[30m|   \u001b[1m\u001b[30m                \"  ______                                                       \",\u001b[0m",
      "\u001b[1m\u001b[30m|   \u001b[1m\u001b[30m                \" /|_||_\\\\`.__                                                  \",\u001b[0m",
      "\u001b[1m\u001b[30m|   \u001b[1m\u001b[30m                \"(   _    _ _\\\\                                                 \",\u001b[0m",
      "\u001b[1m\u001b[30m|   \u001b[1m\u001b[30m                \"=`-(_)--(_)-'                                                  \",\u001b[0m",
      "\u001b[1m\u001b[30m|   \u001b[1m\u001b[30m                \"===============================================================\"\u001b[0m",
      "\u001b[1m\u001b[30m|   \u001b[1m\u001b[30m           },\u001b[0m",
      "\u001b[1m\u001b[30m|   \u001b[1m\u001b[30m           {\u001b[0m",
      "\u001b[1m\u001b[30m|   \u001b[1m\u001b[30m                \"            ______                                             \",\u001b[0m",
      "\u001b[1m\u001b[30m|   \u001b[1m\u001b[30m                \"           /|_||_\\\\`.__                                        \",\u001b[0m",
      "\u001b[1m\u001b[30m|   \u001b[1m\u001b[30m                \"          (   _    _ _\\\\                                       \",\u001b[0m",
      "\u001b[1m\u001b[30m|   \u001b[1m\u001b[30m                \"          =`-(_)--(_)-'                                        \",\u001b[0m",
      "\u001b[1m\u001b[30m|   \u001b[1m\u001b[30m                \"===============================================================\"            \u001b[0m",
      "\u001b[1m\u001b[30m|   \u001b[1m\u001b[30m           },\u001b[0m",
      "\u001b[1m\u001b[30m|   \u001b[1m\u001b[30m        };\u001b[0m",
      "\u001b[1m\u001b[30m|   \u001b[1m\u001b[30m    }\u001b[0m",
      "\u001b[1m\u001b[30m|   \u001b[1m\u001b[30m\u001b[0m",
      "\u001b[1m\u001b[30m|   \u001b[1m\u001b[30m    public void printRace() {\u001b[0m",
      "\u001b[1m\u001b[30m|   \u001b[1m\u001b[30m        System.out.println();\u001b[0m",
      "\u001b[1m\u001b[30m|   \u001b[1m\u001b[30m        System.out.println(\"Car drivng down in Java Loop\");\u001b[0m",
      "\u001b[1m\u001b[30m|   \u001b[1m\u001b[30m\u001b[0m",
      "\u001b[1m\u001b[30m|   \u001b[1m\u001b[30m        int carPlace = car.length;\u001b[0m",
      "\u001b[1m\u001b[30m|   \u001b[1m\u001b[30m        for (int i = carPlace; i >= 1; i--)\u001b[0m",
      "\u001b[1m\u001b[30m|   \u001b[1m\u001b[30m        {\u001b[0m",
      "\u001b[1m\u001b[30m|   \u001b[1m\u001b[30m            for (int row = 0; row < carPlace; row++) {\u001b[0m",
      "\u001b[1m\u001b[30m|   \u001b[1m\u001b[30m                for (int col = 0; col < car[row].length; col++) {\u001b[0m",
      "\u001b[1m\u001b[30m|   \u001b[1m\u001b[30m                    System.out.print(car[row][col] + \" \");\u001b[0m",
      "\u001b[1m\u001b[30m|   \u001b[1m\u001b[30m\u001b[0m",
      "\u001b[1m\u001b[30m|   \u001b[1m\u001b[30m                }\u001b[0m",
      "\u001b[1m\u001b[30m|   \u001b[1m\u001b[30m            }\u001b[0m",
      "\u001b[1m\u001b[30m|   \u001b[1m\u001b[30m\u001b[0m",
      "\u001b[1m\u001b[30m|   \u001b[1m\u001b[30m            carPlace -= 1;\u001b[0m",
      "\u001b[1m\u001b[30m|   \u001b[1m\u001b[30m        }\u001b[0m",
      "\u001b[1m\u001b[30m|   \u001b[1m\u001b[30m    }\u001b[0m",
      "\u001b[1m\u001b[30m|   \u001b[1m\u001b[30m\u001b[0m",
      "\u001b[1m\u001b[30m|   \u001b[1m\u001b[30m    public static void main(String[] args) {\u001b[0m",
      "\u001b[1m\u001b[30m|   \u001b[1m\u001b[30m        new CarLoop().printPoem();\u001b[0m",
      "\u001b[1m\u001b[30m|   \u001b[1m\u001b[30m    }\u001b[0m",
      "\u001b[1m\u001b[30m|   \u001b[1m\u001b[30m}\u001b[0m",
      "\u001b[1m\u001b[31mUnresolved dependencies:\u001b[0m",
      "\u001b[1m\u001b[31m   - method printPoem()\u001b[0m"
     ]
    }
   ],
   "source": [
    "class CarLoop {\n",
    "    String [][] car;\n",
    "\n",
    "    public CarLoop() {\n",
    "        car = new String[][]{\n",
    "           {\n",
    "                \"  ______                                                       \",\n",
    "                \" /|_||_\\\\`.__                                                  \",\n",
    "                \"(   _    _ _\\\\                                                 \",\n",
    "                \"=`-(_)--(_)-'                                                  \",\n",
    "                \"===============================================================\"\n",
    "           },\n",
    "           {\n",
    "                \"            ______                                             \",\n",
    "                \"           /|_||_\\\\`.__                                        \",\n",
    "                \"          (   _    _ _\\\\                                       \",\n",
    "                \"          =`-(_)--(_)-'                                        \",\n",
    "                \"===============================================================\"            \n",
    "           },\n",
    "        };\n",
    "    }\n",
    "\n",
    "    public void printRace() {\n",
    "        System.out.println();\n",
    "        System.out.println(\"Car drivng down in Java Loop\");\n",
    "\n",
    "        int carPlace = car.length;\n",
    "        for (int i = carPlace; i >= 1; i--)\n",
    "        {\n",
    "            for (int row = 0; row < carPlace; row++) {\n",
    "                for (int col = 0; col < car[row].length; col++) {\n",
    "                    System.out.print(car[row][col] + \" \");\n",
    "\n",
    "                }\n",
    "            }\n",
    "\n",
    "            carPlace -= 1;\n",
    "        }\n",
    "    }\n",
    "\n",
    "    public static void main(String[] args) {\n",
    "        new CarLoop().printPoem();\n",
    "    }\n",
    "}\n",
    "\n",
    "CarLoop.main(null);"
   ]
  }
 ],
 "metadata": {
  "kernelspec": {
   "display_name": "Java",
   "language": "java",
   "name": "java"
  },
  "language_info": {
   "codemirror_mode": "java",
   "file_extension": ".jshell",
   "mimetype": "text/x-java-source",
   "name": "Java",
   "pygments_lexer": "java",
   "version": "11.0.16+8-post-Ubuntu-0ubuntu120.04"
  },
  "orig_nbformat": 4
 },
 "nbformat": 4,
 "nbformat_minor": 2
}
