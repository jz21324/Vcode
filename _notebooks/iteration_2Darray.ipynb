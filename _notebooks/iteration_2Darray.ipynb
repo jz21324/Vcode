{
 "cells": [
  {
   "cell_type": "markdown",
   "metadata": {},
   "source": [
    "# Iteration with 2D Array\n",
    "> Example of 2D array art\n",
    "\n",
    "- toc: true \n",
    "- badges: true\n",
    "- comments: true\n",
    "- categories: [jupyter]"
   ]
  },
  {
   "cell_type": "markdown",
   "metadata": {},
   "source": []
  },
  {
   "cell_type": "code",
   "execution_count": 6,
   "metadata": {
    "vscode": {
     "languageId": "java"
    }
   },
   "outputs": [
    {
     "name": "stdout",
     "output_type": "stream",
     "text": [
      "\n",
      "Car drivng down in Java Loop\n",
      "  ______                                                         /|_||_\\`.__                                                   (   _    _ _\\                                                  =`-(_)--(_)-'                                                   ===============================================================             ______                                                         /|_||_\\`.__                                                   (   _    _ _\\                                                  =`-(_)--(_)-'                                         ===============================================================   ______                                                         /|_||_\\`.__                                                   (   _    _ _\\                                                  =`-(_)--(_)-'                                                   =============================================================== "
     ]
    }
   ],
   "source": [
    "class CarLoop {\n",
    "    String [][] car;\n",
    "\n",
    "    public CarLoop() {\n",
    "        car = new String[][]{\n",
    "           {\n",
    "                \"  ______                                                       \",\n",
    "                \" /|_||_\\\\`.__                                                  \",\n",
    "                \"(   _    _ _\\\\                                                 \",\n",
    "                \"=`-(_)--(_)-'                                                  \",\n",
    "                \"===============================================================\"\n",
    "           },\n",
    "           {\n",
    "                \"            ______                                             \",\n",
    "                \"           /|_||_\\\\`.__                                        \",\n",
    "                \"          (   _    _ _\\\\                                       \",\n",
    "                \"          =`-(_)--(_)-'                                        \",\n",
    "                \"===============================================================\"            \n",
    "           },\n",
    "        };\n",
    "    }\n",
    "\n",
    "    public void printRace() {\n",
    "        System.out.println();\n",
    "        System.out.println(\"Car drivng down in Java Loop\");\n",
    "\n",
    "        int carPlace = car.length;\n",
    "        for (int i = carPlace; i >= 1; i--)\n",
    "        {\n",
    "            for (int row = 0; row < carPlace; row++) {\n",
    "                for (int col = 0; col < car[row].length; col++) {\n",
    "                    System.out.print(car[row][col] + \" \");\n",
    "\n",
    "                }\n",
    "            }\n",
    "\n",
    "            carPlace -= 1;\n",
    "        }\n",
    "    }\n",
    "\n",
    "    public static void main(String[] args) {\n",
    "        new CarLoop().printRace();\n",
    "    }\n",
    "}\n",
    "\n",
    "CarLoop.main(null);"
   ]
  }
 ],
 "metadata": {
  "kernelspec": {
   "display_name": "Java",
   "language": "java",
   "name": "java"
  },
  "language_info": {
   "codemirror_mode": "java",
   "file_extension": ".jshell",
   "mimetype": "text/x-java-source",
   "name": "Java",
   "pygments_lexer": "java",
   "version": "11.0.16+8-post-Ubuntu-0ubuntu120.04"
  },
  "orig_nbformat": 4
 },
 "nbformat": 4,
 "nbformat_minor": 2
}
