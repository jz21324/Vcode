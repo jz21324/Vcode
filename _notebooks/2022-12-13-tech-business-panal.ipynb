{
 "cells": [
  {
   "cell_type": "markdown",
   "metadata": {},
   "source": [
    "# Computer Science Technology and Business Panal\n",
    "\n",
    "- toc: true \n",
    "- badges: true\n",
    "- comments: true\n",
    "- categories: [jupyter]"
   ]
  },
  {
   "cell_type": "markdown",
   "metadata": {},
   "source": [
    "# Kathyleen Beveridge's Journey\n",
    "- Born in vietnam and moved to us in 1980\n",
    "- Lived in Bay Area\n",
    "- Studied abroad in Spain and had a great experience\n",
    "- Got bachelor in finance at Santa Clara college\n",
    "- Went to USC later in her life to get her MBA\n",
    "- Started at Wells Fargo as stock broker after graduating then moved to HP\n",
    "- After that, moved to San Diego where she got a job at Qualcomm\n",
    "- Currently works at Thermo Fisher\n"
   ]
  },
  {
   "cell_type": "markdown",
   "metadata": {},
   "source": [
    "# Kris Porter\n",
    "- Software engineer, SRE, and DevOps engineer\n",
    "- Went to Livermore HS\n",
    "- Graduated to ucla for Electrical Engineering\n",
    "- Failed first computer science class but still ended up being his career\n",
    "- Studied radar systems and networked sensors\n",
    "- Worked at various different jobs that weren't hugely technological\n",
    "- Got a job at a startup for email marketing operation\n",
    "- Worked at nbc for olympic streaming media infrastructure\n",
    "- Moved to San Diego and forced Mr. Mort to give him a job at Qualcomm for 6 years\n",
    "- Started working at Twitter\n",
    "- Got fired after Elon buy-out\n",
    "- Maintained continuous learning throughout whole journey\n",
    "- The projects that he worked on was Streaming media infrastructure, Analytics Infrastructure projects, Twitter projects, and New DataCenter deployment"
   ]
  },
  {
   "cell_type": "markdown",
   "metadata": {},
   "source": [
    "# Learnings from Speakers and Takeaways\n",
    "Throughout all of Mrs. Beveridge's jobs, the companies all had a similar mission statement of trying to help the world by use of technology. Most tech companies' main goal is to create new innovations that encourage helping people and progressing the world. There will be many challenges in this industry and it is important to be willing to adapt to any obstacles or circumstances. On hard thing that Mr. Porter faced was during the interview process. He was given a problem that needed to be solved with code and only given a limited amount of time to complete it. This has taught me that I need to be able to be quick on my feet and face any problem as well as I can. Another interesting thing I learned was that some tech companies will have training schools that you need to go through once you get a job. This is because the technology they use is specific to that company and cannot be learned from anywhere else. This panal definitely helped me learned a first hand example what the tech industry is like. It also showed me what some future jobs may entail that I am interested in. I am very thankful that they came and broadened my perspective of what my future can be."
   ]
  }
 ],
 "metadata": {
  "kernelspec": {
   "display_name": "Java",
   "language": "java",
   "name": "java"
  },
  "language_info": {
   "name": "java",
   "version": "3.8.10"
  },
  "orig_nbformat": 4,
  "vscode": {
   "interpreter": {
    "hash": "916dbcbb3f70747c44a77c7bcd40155683ae19c65e1c03b4aa3499c5328201f1"
   }
  }
 },
 "nbformat": 4,
 "nbformat_minor": 2
}
