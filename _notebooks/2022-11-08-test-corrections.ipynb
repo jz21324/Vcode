{
 "cells": [
  {
   "cell_type": "markdown",
   "metadata": {},
   "source": [
    "# Test Corrections\n",
    "\n",
    "- toc: true \n",
    "- badges: true\n",
    "- comments: true\n",
    "- categories: [jupyter]"
   ]
  },
  {
   "cell_type": "markdown",
   "metadata": {},
   "source": [
    "## Question 4 Selection with variables x and y\n",
    "What is printed as a result of executing the code segment?\n",
    "\n",
    "I chose answer B which was 2.3333 but the value was an integer so this is not a possible answer. The correct answer was C which was 2 because when 7 is divided by 2, you get 2.3333 however, it has to be an integer so it's 2."
   ]
  },
  {
   "cell_type": "markdown",
   "metadata": {},
   "source": [
    "## Question 14 Vehicle interface getMileage\n",
    "Which of the following can be used to replace /* expression */ so that getTotalMileage returns the total of the miles traveled for all vehicles in the fleet?\n",
    "\n",
    "I chose the answer D, however the answer is E which is v.getMileage() because it follows the form of object.method(parameters) where v is the object, getMileage is the method, and the parameters is empty."
   ]
  },
  {
   "cell_type": "markdown",
   "metadata": {},
   "source": [
    "## Question 16 append method with two 1D int arrays\n",
    "Which of the following expressions can be used to replace /* index */ so that append will work as intended?\n",
    "\n",
    "I chose answer B which was k, but the right answer was answer D, k + a1.length, because it needed to have the a1.length included to have the first index as a1.length."
   ]
  },
  {
   "cell_type": "markdown",
   "metadata": {},
   "source": [
    "## Question 23 manipulate method and animals List\n",
    "What will the contents of animals be as a result of calling manipulate?\n",
    "\n",
    "The code segment is supposed to take the element that starts with \"b\" and move it to index 1. This means that the correct answer is [\"bear\", \"zebra\", \"bass\", \"cat\", \"koala\", \"baboon\"]."
   ]
  },
  {
   "cell_type": "markdown",
   "metadata": {},
   "source": [
    "## Question 25 RBox interfaces\n",
    "Which of the interfaces, if correctly implemented by a Box class, would be sufficient functionality for a user of the Box class to determine if one Box can fit inside another?\n",
    "\n",
    "I and II only is the correct answer because choice I gives access to the height, width, and depth of the box with the get methods. Choice II provides smallerHeight, smallerWidth, and smallerDepth methods that let you know whether the box is smaller."
   ]
  },
  {
   "cell_type": "markdown",
   "metadata": {},
   "source": [
    "## Question 30 scramble method with String and int parameters\n",
    "What value is returned as a result of the call scramble(\"compiler\", 3)?\n",
    "\n",
    "The correct answer is \"ilercom\" because the howFar is 3 so the first letter is actually the fourth because the paramater is howFar + 1. The length of the word is 8 - 7 letters so it only returns \"ilercom\"."
   ]
  },
  {
   "cell_type": "markdown",
   "metadata": {},
   "source": [
    "## Question 33 Print sum after while loop\n",
    "What is printed as a result of executing the code segment?\n",
    "\n",
    "The correct answer is that nothing is printed because it is an infinite loop. This is due to k not being changed so it will always be less than 4 so the expression is always true."
   ]
  },
  {
   "cell_type": "markdown",
   "metadata": {},
   "source": [
    "## Question 34 Point and Circle Classes\n",
    "Which of the following replacements for /* missing code */ will correctly implement the circle constructor?\n",
    "\n",
    "Choice II gives a new Point with x as a and y as b which makes an actual point. This makes it the only correct answer."
   ]
  },
  {
   "cell_type": "markdown",
   "metadata": {},
   "source": [
    "## Question 35 Print result after while loop\n",
    "What is printed as a result of executing the code segment?\n",
    "\n",
    "The modulus will take the remainder of the value so when 2574 is taken the modulus of 10, 4 will return. It will then go again and return 2, 5, and 7. "
   ]
  },
  {
   "cell_type": "markdown",
   "metadata": {},
   "source": [
    "## Question 38 Compound Boolean expression with variables x and y\n",
    "Which of the following is equivalent to the expression given above?\n",
    "\n",
    "Answer A is the correct answer because it will be true if y is greater than 10000 or x is between 1000 and 1500 and if y is greater than 10000, the value will be true. It will still be true if y is not greater than 1000 and x is still in between 1000 and 1500."
   ]
  }
 ],
 "metadata": {
  "kernelspec": {
   "display_name": "Java",
   "language": "java",
   "name": "java"
  },
  "language_info": {
   "name": "java",
   "version": "3.8.10"
  },
  "orig_nbformat": 4,
  "vscode": {
   "interpreter": {
    "hash": "916dbcbb3f70747c44a77c7bcd40155683ae19c65e1c03b4aa3499c5328201f1"
   }
  }
 },
 "nbformat": 4,
 "nbformat_minor": 2
}
