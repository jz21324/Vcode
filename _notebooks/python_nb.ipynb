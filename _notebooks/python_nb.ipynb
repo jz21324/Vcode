---
toc: true
layout: post
description: Demonstration of python code
categories: [markdown]
title: Python Notebook
---
message = "Hello World"
print(message)
