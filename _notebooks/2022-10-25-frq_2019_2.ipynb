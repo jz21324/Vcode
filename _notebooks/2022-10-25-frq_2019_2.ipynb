{
 "cells": [
  {
   "cell_type": "markdown",
   "metadata": {},
   "source": [
    "# FRQ 2019 #2\n",
    "\n",
    "- toc: true \n",
    "- badges: true\n",
    "- comments: true\n",
    "- categories: [jupyter]"
   ]
  },
  {
   "cell_type": "code",
   "execution_count": 1,
   "metadata": {
    "vscode": {
     "languageId": "java"
    }
   },
   "outputs": [],
   "source": [
    "public class StepTracker {\n",
    "    private int minSteps;\n",
    "    private int totalSteps;\n",
    "    private int numDays;\n",
    "    private int numActivateDays;\n",
    "\n",
    "    public StepTracker (int threshold) {\n",
    "        minSteps = threshold;\n",
    "        totalSteps = 0;\n",
    "        numDays = 0;\n",
    "        numActiveDays = 0;\n",
    "    }\n",
    "\n",
    "    public void addDailySteps(int steps) {\n",
    "        totalSteps += steps;\n",
    "        numDays++;\n",
    "    \n",
    "        if (steps >= minSteps) {\n",
    "            numActiveDays++;\n",
    "        }\n",
    "    }\n",
    "    public int activeDays() {\n",
    "        return numActiveDays;\n",
    "    }\n",
    "    \n",
    "    public double averageSteps() {\n",
    "        if (numDays == 0) {\n",
    "            return 0.0;\n",
    "        }\n",
    "        else {\n",
    "            return (double) totalSteps / numDays;\n",
    "        }\n",
    "    }\n",
    "}"
   ]
  }
 ],
 "metadata": {
  "kernelspec": {
   "display_name": "Java",
   "language": "java",
   "name": "java"
  },
  "language_info": {
   "codemirror_mode": "java",
   "file_extension": ".jshell",
   "mimetype": "text/x-java-source",
   "name": "Java",
   "pygments_lexer": "java",
   "version": "11.0.16+8-post-Ubuntu-0ubuntu120.04"
  },
  "orig_nbformat": 4
 },
 "nbformat": 4,
 "nbformat_minor": 2
}
