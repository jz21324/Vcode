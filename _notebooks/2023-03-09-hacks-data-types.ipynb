{
 "cells": [
  {
   "attachments": {},
   "cell_type": "markdown",
   "metadata": {},
   "source": [
    "# AP CSA FRQ 1 2021\n",
    "\n",
    "- toc: true \n",
    "- badges: true\n",
    "- comments: true\n",
    "- categories: [jupyter]"
   ]
  },
  {
   "attachments": {},
   "cell_type": "markdown",
   "metadata": {},
   "source": [
    "# FRQ Question 1\n",
    "The FRQ AP CSA 2021 Exam had question 1 asking to create a word guessing game. This involves making the WordMatch class with a secret string. Our job was to create two methods in said class to finish the entire code amount of frq in 2021. "
   ]
  },
  {
   "attachments": {},
   "cell_type": "markdown",
   "metadata": {},
   "source": [
    "## Question 1 part a\n",
    "The first method we have to create is scoreGuess. This will show what score is returned by seeing the number of times the guess is part of the secret substring. It is then multiplied by the square of the length of the guess."
   ]
  },
  {
   "cell_type": "code",
   "execution_count": 22,
   "metadata": {},
   "outputs": [],
   "source": [
    "public int scoreGuess(String guess)\n",
    "{\n",
    "  int count = 0;\n",
    "\n",
    "  for(int i = 0; i < secret.length(); i++)\n",
    "  {\n",
    "    int j = i + guess.length();\n",
    "\n",
    "    if(j <= secret.length() && secret.substring(i, j).equals(guess))\n",
    "      count++;\n",
    "  }\n",
    "\n",
    "  return count * (guess.length() * guess.length());\n",
    "}\n"
   ]
  },
  {
   "attachments": {},
   "cell_type": "markdown",
   "metadata": {},
   "source": [
    "## Question 1 part b\n",
    "The second method that needs to be created is the findBetterGuess method which will return the better guess between two guesses that are inputted into the method. The guess that has a higher score will be returned."
   ]
  },
  {
   "cell_type": "code",
   "execution_count": 26,
   "metadata": {},
   "outputs": [],
   "source": [
    "public String findBetterGuess(String guess1, String guess2)\n",
    "{\n",
    "  int score1 = scoreGuess(guess1);\n",
    "  int score2 = scoreGuess(guess2);\n",
    "  \n",
    "  if(score1 > score2)\n",
    "    return guess1;\n",
    "  else if(score2 > score1)\n",
    "    return guess2;\n",
    "  else\n",
    "  {\n",
    "    if(guess1.compareTo(guess2) > 0)\n",
    "      return guess1;\n",
    "    else\n",
    "      return guess2;\n",
    "  }\n",
    "}"
   ]
  },
  {
   "attachments": {},
   "cell_type": "markdown",
   "metadata": {},
   "source": [
    "This is the final result of the code as an entire whole."
   ]
  },
  {
   "cell_type": "code",
   "execution_count": 28,
   "metadata": {},
   "outputs": [],
   "source": [
    "public class WordMatch {\n",
    "    private String secret;\n",
    "  \n",
    "    public int scoreGuess (String guess) {\n",
    "      int count = 0;\n",
    "\n",
    "      for(int i = 0; i < secret.length(); i++) {\n",
    "        int j = i + guess.length();\n",
    "\n",
    "        if(j <= secret.length() && secret.substring(i, j).equals(guess))\n",
    "          count++;\n",
    "        \n",
    "        }\n",
    "\n",
    "      return count * (guess.length() * guess.length());\n",
    "      }\n",
    "    }\n",
    "    \n",
    "    public String findBetterGuess(String guess1, String guess2) {\n",
    "      int score1 = scoreGuess(guess1);\n",
    "      int score2 = scoreGuess(guess2);\n",
    "  \n",
    "      if(score1 > score2)\n",
    "        return guess1;\n",
    "      else if(score2 > score1)\n",
    "        return guess2;\n",
    "      else\n",
    "      \n",
    "      if(guess1.compareTo(guess2) > 0) {\n",
    "        return guess1;\n",
    "      }\n",
    "      else {\n",
    "        return guess2;\n",
    "      }\n",
    "    }\n",
    "  "
   ]
  }
 ],
 "metadata": {
  "kernelspec": {
   "display_name": "Java",
   "language": "java",
   "name": "java"
  },
  "language_info": {
   "codemirror_mode": "java",
   "file_extension": ".jshell",
   "mimetype": "text/x-java-source",
   "name": "java",
   "pygments_lexer": "java",
   "version": "17.0.6+10-Ubuntu-0ubuntu120.04.1"
  },
  "orig_nbformat": 4
 },
 "nbformat": 4,
 "nbformat_minor": 2
}
