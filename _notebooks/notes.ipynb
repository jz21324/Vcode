{
 "cells": [
  {
   "cell_type": "markdown",
   "metadata": {},
   "source": [
    "# Notes\n",
    "> CSA notes for the many units\n",
    "\n",
    "- toc: true \n",
    "- badges: true\n",
    "- comments: true\n",
    "- categories: [jupyter]\n",
    "## Unit 1: Primitives\n",
    "Primitives are datatypes that are built into java. The different datatypes are int, float, long, double, boolean, char, byte, and short. When it is lower case, it is primitive and when it is uppercase, it is part of a wrapper class.\n"
   ]
  }
 ],
 "metadata": {
  "kernelspec": {
   "display_name": "Python 3.10.6 64-bit (windows store)",
   "language": "python",
   "name": "python3"
  },
  "language_info": {
   "name": "python",
   "version": "3.10.6"
  },
  "orig_nbformat": 4,
  "vscode": {
   "interpreter": {
    "hash": "017267f0b1848ac6dec01a777c506dc83f137ec51c9b98b52cfac4238ca8a577"
   }
  }
 },
 "nbformat": 4,
 "nbformat_minor": 2
}
