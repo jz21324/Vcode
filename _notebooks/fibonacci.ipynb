{
 "cells": [
  {
   "cell_type": "markdown",
   "metadata": {},
   "source": [
    "# Fibonacci Sequence \n",
    "\n",
    "- toc: true \n",
    "- badges: true\n",
    "- comments: true\n",
    "- categories: [jupyter]"
   ]
  },
  {
   "cell_type": "markdown",
   "metadata": {},
   "source": [
    "# Fibo With For Loop\n",
    "First I made an abstract class because I can't make an instance and only extend with a subclass."
   ]
  },
  {
   "cell_type": "code",
   "execution_count": 1,
   "metadata": {
    "vscode": {
     "languageId": "java"
    }
   },
   "outputs": [],
   "source": [
    "import java.util.ArrayList;\n",
    "import java.util.HashMap;\n",
    "import java.util.stream.Stream;\n",
    "\n",
    "/* Objective will require changing to abstract class with one or more abstract methods below */\n",
    "public abstract class Fibo {\n",
    "    String name; // name or title of method\n",
    "    int size; // nth sequence\n",
    "    int hashID; // counter for hashIDs in hash map\n",
    "    ArrayList<Long> list; // captures current Fibonacci sequence\n",
    "    HashMap<Integer, Object> hash; // captures each sequence leading to final result\n",
    "\n",
    "    /*\n",
    "     * Zero parameter constructor uses Telescoping technique to allow setting of the\n",
    "     * required value nth\n",
    "     * \n",
    "     * @param: none\n",
    "     */\n",
    "    public Fibo() {\n",
    "        this(20); // telescope to avoid code duplication, using default as 20\n",
    "    }\n",
    "\n",
    "    /*\n",
    "     * Construct the nth fibonacci number\n",
    "     * \n",
    "     * @param: nth number, the value is constrained to 92 because of overflow in a\n",
    "     * long\n",
    "     */\n",
    "    public Fibo(int nth) {\n",
    "        this.size = nth;\n",
    "        this.list = new ArrayList<>();\n",
    "        this.hashID = 0;\n",
    "        this.hash = new HashMap<>();\n",
    "        // initialize fibonacci and time mvc\n",
    "        this.init();\n",
    "    }\n",
    "\n",
    "    /*\n",
    "     * This Method should be \"abstract\"\n",
    "     * Leave method as protected, as it is only authorized to extender of the class\n",
    "     * Make new class that extends and defines init()\n",
    "     * Inside references within this class would change from this to super\n",
    "     * Repeat process using for, while, recursion\n",
    "     */\n",
    "    protected abstract void init();\n",
    "\n",
    "    /*\n",
    "     * Number is added to fibonacci sequence, current state of \"list\" is added to\n",
    "     * hash for hashID \"num\"\n",
    "     */\n",
    "    public void setData(long num) {\n",
    "        list.add(num);\n",
    "        hash.put(this.hashID++, list.clone());\n",
    "    }\n",
    "\n",
    "    /*\n",
    "     * Custom Getter to return last element in fibonacci sequence\n",
    "     */\n",
    "    public long getNth() {\n",
    "        return list.get(this.size - 1);\n",
    "    }\n",
    "\n",
    "    /*\n",
    "     * Custom Getter to return last fibonacci sequence in HashMap\n",
    "     */\n",
    "    public Object getNthSeq(int i) {\n",
    "        return hash.get(i);\n",
    "    }\n",
    "\n",
    "    /*\n",
    "     * Console/Terminal supported print method\n",
    "     */\n",
    "    public void print() {\n",
    "        System.out.println(\"Init method = \" + this.name);\n",
    "        System.out.println(\"fibonacci Number \" + this.size + \" = \" + this.getNth());\n",
    "        System.out.println(\"fibonacci List = \" + this.list);\n",
    "        System.out.println(\"fibonacci Hashmap = \" + this.hash);\n",
    "        for (int i = 0; i < this.size; i++) {\n",
    "            System.out.println(\"fibonacci Sequence \" + (i + 1) + \" = \" + this.getNthSeq(i));\n",
    "        }\n",
    "    }\n",
    "}"
   ]
  },
  {
   "cell_type": "markdown",
   "metadata": {},
   "source": [
    "# For Loop"
   ]
  },
  {
   "cell_type": "code",
   "execution_count": 6,
   "metadata": {
    "vscode": {
     "languageId": "java"
    }
   },
   "outputs": [
    {
     "name": "stdout",
     "output_type": "stream",
     "text": [
      "Init method = For\n",
      "fibonacci Number 20 = 4181\n",
      "fibonacci List = [0, 1, 1, 2, 3, 5, 8, 13, 21, 34, 55, 89, 144, 233, 377, 610, 987, 1597, 2584, 4181]\n",
      "fibonacci Hashmap = {0=[0], 1=[0, 1], 2=[0, 1, 1], 3=[0, 1, 1, 2], 4=[0, 1, 1, 2, 3], 5=[0, 1, 1, 2, 3, 5], 6=[0, 1, 1, 2, 3, 5, 8], 7=[0, 1, 1, 2, 3, 5, 8, 13], 8=[0, 1, 1, 2, 3, 5, 8, 13, 21], 9=[0, 1, 1, 2, 3, 5, 8, 13, 21, 34], 10=[0, 1, 1, 2, 3, 5, 8, 13, 21, 34, 55], 11=[0, 1, 1, 2, 3, 5, 8, 13, 21, 34, 55, 89], 12=[0, 1, 1, 2, 3, 5, 8, 13, 21, 34, 55, 89, 144], 13=[0, 1, 1, 2, 3, 5, 8, 13, 21, 34, 55, 89, 144, 233], 14=[0, 1, 1, 2, 3, 5, 8, 13, 21, 34, 55, 89, 144, 233, 377], 15=[0, 1, 1, 2, 3, 5, 8, 13, 21, 34, 55, 89, 144, 233, 377, 610], 16=[0, 1, 1, 2, 3, 5, 8, 13, 21, 34, 55, 89, 144, 233, 377, 610, 987], 17=[0, 1, 1, 2, 3, 5, 8, 13, 21, 34, 55, 89, 144, 233, 377, 610, 987, 1597], 18=[0, 1, 1, 2, 3, 5, 8, 13, 21, 34, 55, 89, 144, 233, 377, 610, 987, 1597, 2584], 19=[0, 1, 1, 2, 3, 5, 8, 13, 21, 34, 55, 89, 144, 233, 377, 610, 987, 1597, 2584, 4181]}\n",
      "fibonacci Sequence 1 = [0]\n",
      "fibonacci Sequence 2 = [0, 1]\n",
      "fibonacci Sequence 3 = [0, 1, 1]\n",
      "fibonacci Sequence 4 = [0, 1, 1, 2]\n",
      "fibonacci Sequence 5 = [0, 1, 1, 2, 3]\n",
      "fibonacci Sequence 6 = [0, 1, 1, 2, 3, 5]\n",
      "fibonacci Sequence 7 = [0, 1, 1, 2, 3, 5, 8]\n",
      "fibonacci Sequence 8 = [0, 1, 1, 2, 3, 5, 8, 13]\n",
      "fibonacci Sequence 9 = [0, 1, 1, 2, 3, 5, 8, 13, 21]\n",
      "fibonacci Sequence 10 = [0, 1, 1, 2, 3, 5, 8, 13, 21, 34]\n",
      "fibonacci Sequence 11 = [0, 1, 1, 2, 3, 5, 8, 13, 21, 34, 55]\n",
      "fibonacci Sequence 12 = [0, 1, 1, 2, 3, 5, 8, 13, 21, 34, 55, 89]\n",
      "fibonacci Sequence 13 = [0, 1, 1, 2, 3, 5, 8, 13, 21, 34, 55, 89, 144]\n",
      "fibonacci Sequence 14 = [0, 1, 1, 2, 3, 5, 8, 13, 21, 34, 55, 89, 144, 233]\n",
      "fibonacci Sequence 15 = [0, 1, 1, 2, 3, 5, 8, 13, 21, 34, 55, 89, 144, 233, 377]\n",
      "fibonacci Sequence 16 = [0, 1, 1, 2, 3, 5, 8, 13, 21, 34, 55, 89, 144, 233, 377, 610]\n",
      "fibonacci Sequence 17 = [0, 1, 1, 2, 3, 5, 8, 13, 21, 34, 55, 89, 144, 233, 377, 610, 987]\n",
      "fibonacci Sequence 18 = [0, 1, 1, 2, 3, 5, 8, 13, 21, 34, 55, 89, 144, 233, 377, 610, 987, 1597]\n",
      "fibonacci Sequence 19 = [0, 1, 1, 2, 3, 5, 8, 13, 21, 34, 55, 89, 144, 233, 377, 610, 987, 1597, 2584]\n",
      "fibonacci Sequence 20 = [0, 1, 1, 2, 3, 5, 8, 13, 21, 34, 55, 89, 144, 233, 377, 610, 987, 1597, 2584, 4181]\n"
     ]
    }
   ],
   "source": [
    "public class FiboFor extends Fibo {\n",
    "    public FiboFor() {\n",
    "        this(20); // telescope to avoid code duplication, using default as 20\n",
    "    }\n",
    "\n",
    "    public FiboFor(int nth) {\n",
    "        super(nth);\n",
    "    }\n",
    "\n",
    "    @Override\n",
    "    protected void init() {\n",
    "        this.name = \"For\";\n",
    "        long f[] = new long[] { 0, 1 };\n",
    "\n",
    "        for (int i = 0; i < size; i++) {\n",
    "            long n = f[0];\n",
    "            this.setData(f[0]);\n",
    "            f[0] = f[1];\n",
    "            f[1] = n + f[1];\n",
    "        }\n",
    "    }\n",
    "\n",
    "    static public void main(String[] args) {\n",
    "        FiboFor fib = new FiboFor();\n",
    "        fib.print();\n",
    "    }\n",
    "}\n",
    "\n",
    "FiboFor.main(null);"
   ]
  },
  {
   "cell_type": "markdown",
   "metadata": {},
   "source": [
    "# While Loop"
   ]
  },
  {
   "cell_type": "code",
   "execution_count": 7,
   "metadata": {
    "vscode": {
     "languageId": "java"
    }
   },
   "outputs": [
    {
     "name": "stdout",
     "output_type": "stream",
     "text": [
      "Init method = While\n",
      "fibonacci Number 20 = 4181\n",
      "fibonacci List = [0, 1, 1, 2, 3, 5, 8, 13, 21, 34, 55, 89, 144, 233, 377, 610, 987, 1597, 2584, 4181]\n",
      "fibonacci Hashmap = {0=[0], 1=[0, 1], 2=[0, 1, 1], 3=[0, 1, 1, 2], 4=[0, 1, 1, 2, 3], 5=[0, 1, 1, 2, 3, 5], 6=[0, 1, 1, 2, 3, 5, 8], 7=[0, 1, 1, 2, 3, 5, 8, 13], 8=[0, 1, 1, 2, 3, 5, 8, 13, 21], 9=[0, 1, 1, 2, 3, 5, 8, 13, 21, 34], 10=[0, 1, 1, 2, 3, 5, 8, 13, 21, 34, 55], 11=[0, 1, 1, 2, 3, 5, 8, 13, 21, 34, 55, 89], 12=[0, 1, 1, 2, 3, 5, 8, 13, 21, 34, 55, 89, 144], 13=[0, 1, 1, 2, 3, 5, 8, 13, 21, 34, 55, 89, 144, 233], 14=[0, 1, 1, 2, 3, 5, 8, 13, 21, 34, 55, 89, 144, 233, 377], 15=[0, 1, 1, 2, 3, 5, 8, 13, 21, 34, 55, 89, 144, 233, 377, 610], 16=[0, 1, 1, 2, 3, 5, 8, 13, 21, 34, 55, 89, 144, 233, 377, 610, 987], 17=[0, 1, 1, 2, 3, 5, 8, 13, 21, 34, 55, 89, 144, 233, 377, 610, 987, 1597], 18=[0, 1, 1, 2, 3, 5, 8, 13, 21, 34, 55, 89, 144, 233, 377, 610, 987, 1597, 2584], 19=[0, 1, 1, 2, 3, 5, 8, 13, 21, 34, 55, 89, 144, 233, 377, 610, 987, 1597, 2584, 4181]}\n",
      "fibonacci Sequence 1 = [0]\n",
      "fibonacci Sequence 2 = [0, 1]\n",
      "fibonacci Sequence 3 = [0, 1, 1]\n",
      "fibonacci Sequence 4 = [0, 1, 1, 2]\n",
      "fibonacci Sequence 5 = [0, 1, 1, 2, 3]\n",
      "fibonacci Sequence 6 = [0, 1, 1, 2, 3, 5]\n",
      "fibonacci Sequence 7 = [0, 1, 1, 2, 3, 5, 8]\n",
      "fibonacci Sequence 8 = [0, 1, 1, 2, 3, 5, 8, 13]\n",
      "fibonacci Sequence 9 = [0, 1, 1, 2, 3, 5, 8, 13, 21]\n",
      "fibonacci Sequence 10 = [0, 1, 1, 2, 3, 5, 8, 13, 21, 34]\n",
      "fibonacci Sequence 11 = [0, 1, 1, 2, 3, 5, 8, 13, 21, 34, 55]\n",
      "fibonacci Sequence 12 = [0, 1, 1, 2, 3, 5, 8, 13, 21, 34, 55, 89]\n",
      "fibonacci Sequence 13 = [0, 1, 1, 2, 3, 5, 8, 13, 21, 34, 55, 89, 144]\n",
      "fibonacci Sequence 14 = [0, 1, 1, 2, 3, 5, 8, 13, 21, 34, 55, 89, 144, 233]\n",
      "fibonacci Sequence 15 = [0, 1, 1, 2, 3, 5, 8, 13, 21, 34, 55, 89, 144, 233, 377]\n",
      "fibonacci Sequence 16 = [0, 1, 1, 2, 3, 5, 8, 13, 21, 34, 55, 89, 144, 233, 377, 610]\n",
      "fibonacci Sequence 17 = [0, 1, 1, 2, 3, 5, 8, 13, 21, 34, 55, 89, 144, 233, 377, 610, 987]\n",
      "fibonacci Sequence 18 = [0, 1, 1, 2, 3, 5, 8, 13, 21, 34, 55, 89, 144, 233, 377, 610, 987, 1597]\n",
      "fibonacci Sequence 19 = [0, 1, 1, 2, 3, 5, 8, 13, 21, 34, 55, 89, 144, 233, 377, 610, 987, 1597, 2584]\n",
      "fibonacci Sequence 20 = [0, 1, 1, 2, 3, 5, 8, 13, 21, 34, 55, 89, 144, 233, 377, 610, 987, 1597, 2584, 4181]\n"
     ]
    }
   ],
   "source": [
    "\n",
    "import java.util.ArrayList;\n",
    "import java.util.HashMap;\n",
    "\n",
    "public class FiboWhile extends Fibo {\n",
    "    public FiboWhile() {\n",
    "        this(20); // telescope to avoid code duplication, using default as 20\n",
    "    }\n",
    "\n",
    "    public FiboWhile(int nth) {\n",
    "        super(nth);\n",
    "    }\n",
    "\n",
    "    @Override\n",
    "    protected void init() {\n",
    "        this.name = \"While\";\n",
    "        long f[] = new long[] { 0, 1 };\n",
    "        int i = 0;\n",
    "\n",
    "        while (i < size) {\n",
    "            long n = f[0];\n",
    "            this.setData(f[0]);\n",
    "            f[0] = f[1];\n",
    "            f[1] = n + f[1];\n",
    "\n",
    "            i++;\n",
    "        }\n",
    "    }\n",
    "\n",
    "    /*\n",
    "     * Tester class method. If this becomes abstract you will not be able to test it\n",
    "     * directly ...\n",
    "     * Change this method to call \"main\" class of each of the extended classes\n",
    "     */\n",
    "    static public void main(String[] args) {\n",
    "        FiboWhile fib = new FiboWhile();\n",
    "        fib.print();\n",
    "    }\n",
    "}\n",
    "\n",
    "FiboWhile.main(null);"
   ]
  },
  {
   "cell_type": "markdown",
   "metadata": {},
   "source": [
    "# Recursion"
   ]
  },
  {
   "cell_type": "code",
   "execution_count": 2,
   "metadata": {
    "vscode": {
     "languageId": "java"
    }
   },
   "outputs": [
    {
     "name": "stdout",
     "output_type": "stream",
     "text": [
      "Init method = Recursion\n",
      "fibonacci Number 20 = 4181\n",
      "fibonacci List = [0, 1, 1, 2, 3, 5, 8, 13, 21, 34, 55, 89, 144, 233, 377, 610, 987, 1597, 2584, 4181]\n",
      "fibonacci Hashmap = {0=[0], 1=[0, 1], 2=[0, 1, 1], 3=[0, 1, 1, 2], 4=[0, 1, 1, 2, 3], 5=[0, 1, 1, 2, 3, 5], 6=[0, 1, 1, 2, 3, 5, 8], 7=[0, 1, 1, 2, 3, 5, 8, 13], 8=[0, 1, 1, 2, 3, 5, 8, 13, 21], 9=[0, 1, 1, 2, 3, 5, 8, 13, 21, 34], 10=[0, 1, 1, 2, 3, 5, 8, 13, 21, 34, 55], 11=[0, 1, 1, 2, 3, 5, 8, 13, 21, 34, 55, 89], 12=[0, 1, 1, 2, 3, 5, 8, 13, 21, 34, 55, 89, 144], 13=[0, 1, 1, 2, 3, 5, 8, 13, 21, 34, 55, 89, 144, 233], 14=[0, 1, 1, 2, 3, 5, 8, 13, 21, 34, 55, 89, 144, 233, 377], 15=[0, 1, 1, 2, 3, 5, 8, 13, 21, 34, 55, 89, 144, 233, 377, 610], 16=[0, 1, 1, 2, 3, 5, 8, 13, 21, 34, 55, 89, 144, 233, 377, 610, 987], 17=[0, 1, 1, 2, 3, 5, 8, 13, 21, 34, 55, 89, 144, 233, 377, 610, 987, 1597], 18=[0, 1, 1, 2, 3, 5, 8, 13, 21, 34, 55, 89, 144, 233, 377, 610, 987, 1597, 2584], 19=[0, 1, 1, 2, 3, 5, 8, 13, 21, 34, 55, 89, 144, 233, 377, 610, 987, 1597, 2584, 4181]}\n",
      "fibonacci Sequence 1 = [0]\n",
      "fibonacci Sequence 2 = [0, 1]\n",
      "fibonacci Sequence 3 = [0, 1, 1]\n",
      "fibonacci Sequence 4 = [0, 1, 1, 2]\n",
      "fibonacci Sequence 5 = [0, 1, 1, 2, 3]\n",
      "fibonacci Sequence 6 = [0, 1, 1, 2, 3, 5]\n",
      "fibonacci Sequence 7 = [0, 1, 1, 2, 3, 5, 8]\n",
      "fibonacci Sequence 8 = [0, 1, 1, 2, 3, 5, 8, 13]\n",
      "fibonacci Sequence 9 = [0, 1, 1, 2, 3, 5, 8, 13, 21]\n",
      "fibonacci Sequence 10 = [0, 1, 1, 2, 3, 5, 8, 13, 21, 34]\n",
      "fibonacci Sequence 11 = [0, 1, 1, 2, 3, 5, 8, 13, 21, 34, 55]\n",
      "fibonacci Sequence 12 = [0, 1, 1, 2, 3, 5, 8, 13, 21, 34, 55, 89]\n",
      "fibonacci Sequence 13 = [0, 1, 1, 2, 3, 5, 8, 13, 21, 34, 55, 89, 144]\n",
      "fibonacci Sequence 14 = [0, 1, 1, 2, 3, 5, 8, 13, 21, 34, 55, 89, 144, 233]\n",
      "fibonacci Sequence 15 = [0, 1, 1, 2, 3, 5, 8, 13, 21, 34, 55, 89, 144, 233, 377]\n",
      "fibonacci Sequence 16 = [0, 1, 1, 2, 3, 5, 8, 13, 21, 34, 55, 89, 144, 233, 377, 610]\n",
      "fibonacci Sequence 17 = [0, 1, 1, 2, 3, 5, 8, 13, 21, 34, 55, 89, 144, 233, 377, 610, 987]\n",
      "fibonacci Sequence 18 = [0, 1, 1, 2, 3, 5, 8, 13, 21, 34, 55, 89, 144, 233, 377, 610, 987, 1597]\n",
      "fibonacci Sequence 19 = [0, 1, 1, 2, 3, 5, 8, 13, 21, 34, 55, 89, 144, 233, 377, 610, 987, 1597, 2584]\n",
      "fibonacci Sequence 20 = [0, 1, 1, 2, 3, 5, 8, 13, 21, 34, 55, 89, 144, 233, 377, 610, 987, 1597, 2584, 4181]\n"
     ]
    }
   ],
   "source": [
    "import java.util.ArrayList;\n",
    "import java.util.HashMap;\n",
    "\n",
    "public class FiboRecursion extends Fibo {\n",
    "    public FiboRecursion() {\n",
    "        this(20); // telescope to avoid code duplication, using default as 20\n",
    "    }\n",
    "\n",
    "    public FiboRecursion(int nth) {\n",
    "        super(nth);\n",
    "    }\n",
    "\n",
    "    @Override\n",
    "    protected void init() {\n",
    "        this.name = \"Recursion\";\n",
    "\n",
    "        for (int i = 0; i < size; i++) {\n",
    "            setData(fiboRecursion(i));\n",
    "        }\n",
    "    }\n",
    "\n",
    "    private long fiboRecursion(long n) {\n",
    "\n",
    "        if (n <= 1) {\n",
    "            return n;\n",
    "        }\n",
    "\n",
    "        return (fiboRecursion(n - 1) + fiboRecursion(n - 2));\n",
    "    }\n",
    "\n",
    "    /*\n",
    "     * Tester class method. If this becomes abstract you will not be able to test it\n",
    "     * directly ...\n",
    "     * Change this method to call \"main\" class of each of the extended classes\n",
    "     */\n",
    "    static public void main(String[] args) {\n",
    "        FiboRecursion fib = new FiboRecursion();\n",
    "        fib.print();\n",
    "    }\n",
    "}\n",
    "\n",
    "FiboRecursion.main(null);"
   ]
  }
 ],
 "metadata": {
  "kernelspec": {
   "display_name": "Java",
   "language": "java",
   "name": "java"
  },
  "language_info": {
   "codemirror_mode": "java",
   "file_extension": ".jshell",
   "mimetype": "text/x-java-source",
   "name": "Java",
   "pygments_lexer": "java",
   "version": "11.0.16+8-post-Ubuntu-0ubuntu120.04"
  },
  "orig_nbformat": 4
 },
 "nbformat": 4,
 "nbformat_minor": 2
}
