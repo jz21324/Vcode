{
 "cells": [
  {
   "cell_type": "markdown",
   "metadata": {},
   "source": [
    "# Code.org OOP\n",
    "> Learning of object oriented programming\n",
    "\n",
    "- toc: true \n",
    "- badges: true\n",
    "- comments: true\n",
    "- categories: [jupyter]"
   ]
  },
  {
   "cell_type": "markdown",
   "metadata": {},
   "source": [
    "## Proof of completion\n",
    "![Code.org](code.org2_pic.png)"
   ]
  },
  {
   "cell_type": "markdown",
   "metadata": {},
   "source": [
    "## Classes and Objects\n",
    "\n",
    "<mark >Classes</mark> are a way to create and store objects and their data types and methods. They contain data, such as variables and actions, such as methods.\n",
    "\n",
    "## Instances\n",
    "\n",
    "<mark >Instances</mark> are variables that are non-static and belong to a certain class. To create the, an object has to be instantiated to all methods in that class. \n",
    "\n",
    "## Loop Statements\n",
    "\n",
    "Java has if and while statements that allow for code to be executed with a specific condition. \n",
    "\n",
    "For a <mark >while loop</mark>, if the condition is true, the code will continue to run until that same condition is false. \n",
    "\n",
    "For an <mark >if statement</mark>, the code will only run once if the condition is true. If statements can and are sometimes followed with an else statement that provides a code to run if the latter condition is false.\n",
    "\n",
    "## Extends\n",
    "\n",
    "<mark >Extends</mark>, as in the name, extend a java class. It inherits another class, which takes in the methods and attributes from another class and brings it elsewhere. After this, more methods and attributes are able to be added to this class.\n",
    "\n",
    "A <mark >subclass</mark> is the class that inherits it.\n",
    "\n",
    "A <mark >superclass</mark> is the class being inherited from. "
   ]
  }
 ],
 "metadata": {
  "kernelspec": {
   "display_name": "Python 3.9.12 ('base')",
   "language": "python",
   "name": "python3"
  },
  "language_info": {
   "name": "python",
   "version": "3.9.12"
  },
  "orig_nbformat": 4,
  "vscode": {
   "interpreter": {
    "hash": "751c42f0e7a8fa729f31dabb061208d67b3732eb9747a3e7fd077d8fa88a307a"
   }
  }
 },
 "nbformat": 4,
 "nbformat_minor": 2
}
