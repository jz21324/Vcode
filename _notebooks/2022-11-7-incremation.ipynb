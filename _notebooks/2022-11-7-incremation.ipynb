{
 "cells": [
  {
   "cell_type": "code",
   "execution_count": null,
   "metadata": {},
   "outputs": [
    {
     "name": "stdout",
     "output_type": "stream",
     "text": [
      "Seconds: 811\n",
      "Seconds: 812\n",
      "Seconds: 813\n",
      "Seconds: 814\n",
      "Seconds: 815\n",
      "Seconds: 816\n",
      "Seconds: 817\n",
      "Seconds: 818\n",
      "Seconds: 819\n",
      "Seconds: 820\n",
      "Seconds: 821\n",
      "Seconds: 822\n",
      "Seconds: 823\n",
      "Seconds: 824\n",
      "Seconds: 825\n",
      "Seconds: 826\n",
      "Seconds: 827\n",
      "Seconds: 828\n"
     ]
    }
   ],
   "source": [
    "import threading  # import threading\n",
    "\n",
    "def keepUpdating(): # build a function to run over and over\n",
    "# global variable setup\n",
    "    global run\n",
    "    try: run\n",
    "    except: run = 0\n",
    "\n",
    "    print(\"Seconds:\", run)  # replace this line with updates to data\n",
    "    run += 1  # this is update to global variable\n",
    "    threading.Timer(3.0, keepUpdating).start()\n",
    "\n",
    "keepUpdating() "
   ]
  }
 ],
 "metadata": {
  "kernelspec": {
   "display_name": "Python 3.8.10 64-bit",
   "language": "python",
   "name": "python3"
  },
  "language_info": {
   "codemirror_mode": {
    "name": "ipython",
    "version": 3
   },
   "file_extension": ".py",
   "mimetype": "text/x-python",
   "name": "python",
   "nbconvert_exporter": "python",
   "pygments_lexer": "ipython3",
   "version": "3.8.10"
  },
  "orig_nbformat": 4,
  "vscode": {
   "interpreter": {
    "hash": "31f2aee4e71d21fbe5cf8b01ff0e069b9275f58929596ceb00d14d90e3e16cd6"
   }
  }
 },
 "nbformat": 4,
 "nbformat_minor": 2
}
