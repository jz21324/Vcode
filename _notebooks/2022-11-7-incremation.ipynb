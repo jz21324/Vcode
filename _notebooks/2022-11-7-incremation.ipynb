{
 "cells": [
  {
   "cell_type": "code",
   "execution_count": 44,
   "metadata": {
    "vscode": {
     "languageId": "javascript"
    }
   },
   "outputs": [
    {
     "ename": "SyntaxError",
     "evalue": "invalid syntax (4166986472.py, line 1)",
     "output_type": "error",
     "traceback": [
      "\u001b[0;36m  Input \u001b[0;32mIn [44]\u001b[0;36m\u001b[0m\n\u001b[0;31m    let clockElement = document.getElementById('clock')\u001b[0m\n\u001b[0m        ^\u001b[0m\n\u001b[0;31mSyntaxError\u001b[0m\u001b[0;31m:\u001b[0m invalid syntax\n"
     ]
    }
   ],
   "source": [
    "let clockElement = document.getElementById('clock')\n",
    "// Execute clock function on load\n",
    "clock();\n",
    "// Clock update executes on each interval set by timer\n",
    "function clock() {\n",
    "    let date = new Date();\n",
    "    clockElement.textContent = date.toLocaleString();\n",
    "}\n",
    "// Clock refresh timer, a reoccurring event\n",
    "setInterval(clock, 1000);"
   ]
  },
  {
   "cell_type": "code",
   "execution_count": 45,
   "metadata": {},
   "outputs": [
    {
     "name": "stdout",
     "output_type": "stream",
     "text": [
      "Seconds: 130229\n"
     ]
    },
    {
     "name": "stdout",
     "output_type": "stream",
     "text": [
      "Seconds: 130230\n",
      "Seconds: 130231\n",
      "Seconds: 130232\n",
      "Seconds: 130233\n",
      "Seconds: 130234\n",
      "Seconds: 130235\n",
      "Seconds: 130236\n",
      "Seconds: 130237\n",
      "Seconds: 130238\n",
      "Seconds: 130239\n",
      "Seconds: 130240\n",
      "Seconds: 130241\n",
      "Seconds: 130242\n",
      "Seconds: 130243\n",
      "Seconds: 130244\n",
      "Seconds: 130245\n",
      "Seconds: 130246\n",
      "Seconds: 130247\n",
      "Seconds: 130248\n",
      "Seconds: 130249\n",
      "Seconds: 130250\n",
      "Seconds: 130251\n",
      "Seconds: 130252\n",
      "Seconds: 130253\n",
      "Seconds: 130254\n",
      "Seconds: 130255\n",
      "Seconds: 130256\n",
      "Seconds: 130257\n",
      "Seconds: 130258\n",
      "Seconds: 130259\n",
      "Seconds: 130260\n",
      "Seconds: 130261\n",
      "Seconds: 130262\n",
      "Seconds: 130263\n",
      "Seconds: 130264\n",
      "Seconds: 130265\n",
      "Seconds: 130266\n",
      "Seconds: 130267\n",
      "Seconds: 130268\n",
      "Seconds: 130269\n",
      "Seconds: 130270\n",
      "Seconds: 130271\n",
      "Seconds: 130272\n",
      "Seconds: 130273\n",
      "Seconds: 130274\n",
      "Seconds: 130275\n",
      "Seconds: 130276\n",
      "Seconds: 130277\n",
      "Seconds: 130278\n",
      "Seconds: 130279\n",
      "Seconds: 130280\n",
      "Seconds: 130281\n",
      "Seconds: 130282\n",
      "Seconds: 130283\n",
      "Seconds: 130284\n",
      "Seconds: 130285\n",
      "Seconds: 130286\n",
      "Seconds: 130287\n",
      "Seconds: 130288\n",
      "Seconds: 130289\n",
      "Seconds: 130290\n",
      "Seconds: 130291\n",
      "Seconds: 130292\n",
      "Seconds: 130293\n",
      "Seconds: 130294\n",
      "Seconds: 130295\n",
      "Seconds: 130296\n",
      "Seconds: 130297\n",
      "Seconds: 130298\n",
      "Seconds: 130299\n",
      "Seconds: 130300\n",
      "Seconds: 130301\n",
      "Seconds: 130302\n",
      "Seconds: 130303\n",
      "Seconds: 130304\n",
      "Seconds: 130305\n",
      "Seconds: 130306\n",
      "Seconds: 130307\n",
      "Seconds: 130308\n",
      "Seconds: 130309\n",
      "Seconds: 130310\n",
      "Seconds: 130311\n",
      "Seconds: 130312\n",
      "Seconds: 130313\n",
      "Seconds: 130314\n",
      "Seconds: 130315\n",
      "Seconds: 130316\n",
      "Seconds: 130317\n",
      "Seconds: 130318\n",
      "Seconds: 130319\n",
      "Seconds: 130320\n",
      "Seconds:Seconds: 130321\n",
      " 130321\n",
      "Seconds: 130323\n",
      "Seconds: 130324\n",
      "Seconds: 130325\n",
      "Seconds: 130326\n",
      "Seconds: 130327\n",
      "Seconds: 130328\n",
      "Seconds: 130329\n",
      "Seconds: 130330\n",
      "Seconds:Seconds: 130331\n",
      " 130331\n"
     ]
    }
   ],
   "source": [
    "import threading  # import threading\n",
    "\n",
    "def keepUpdating(): # build a function to run over and over\n",
    "# global variable setup\n",
    "    global run\n",
    "    try: run\n",
    "    except: run = 0\n",
    "\n",
    "    print(\"Seconds:\", run)  # replace this line with updates to data\n",
    "    run += 1  # this is update to global variable\n",
    "    threading.Timer(3.0, keepUpdating).start()\n",
    "\n",
    "keepUpdating() "
   ]
  }
 ],
 "metadata": {
  "kernelspec": {
   "display_name": "Python 3.8.10 64-bit",
   "language": "python",
   "name": "python3"
  },
  "language_info": {
   "codemirror_mode": {
    "name": "ipython",
    "version": 3
   },
   "file_extension": ".py",
   "mimetype": "text/x-python",
   "name": "python",
   "nbconvert_exporter": "python",
   "pygments_lexer": "ipython3",
   "version": "3.8.10"
  },
  "orig_nbformat": 4,
  "vscode": {
   "interpreter": {
    "hash": "31f2aee4e71d21fbe5cf8b01ff0e069b9275f58929596ceb00d14d90e3e16cd6"
   }
  }
 },
 "nbformat": 4,
 "nbformat_minor": 2
}
