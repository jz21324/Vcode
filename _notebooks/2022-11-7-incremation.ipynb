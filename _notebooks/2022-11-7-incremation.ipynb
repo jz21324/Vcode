{
 "cells": [
  {
   "cell_type": "code",
   "execution_count": 23,
   "metadata": {},
   "outputs": [
    {
     "name": "stdout",
     "output_type": "stream",
     "text": [
      "Seconds: 465\n"
     ]
    },
    {
     "name": "stdout",
     "output_type": "stream",
     "text": [
      "Seconds: 466\n",
      "Seconds: 467\n",
      "Seconds: 468\n",
      "Seconds: 469\n",
      "Seconds: 470\n",
      "Seconds: 471\n",
      "Seconds: 472\n",
      "Seconds: 473\n",
      "Seconds: 474\n",
      "Seconds: 475\n",
      "Seconds: 476\n",
      "Seconds: 477\n",
      "Seconds: 478\n",
      "Seconds: 479\n",
      "Seconds: 480\n",
      "Seconds: 481\n",
      "Seconds: 482\n",
      "Seconds: 483\n",
      "Seconds: 484\n",
      "Seconds: 485\n",
      "Seconds: 486\n",
      "Seconds: 487\n",
      "Seconds: 488\n",
      "Seconds: 489\n",
      "Seconds: 490\n",
      "Seconds: 491\n",
      "Seconds: 492\n",
      "Seconds: 493\n",
      "Seconds: 494\n",
      "Seconds: 495\n",
      "Seconds: 496\n",
      "Seconds: 497\n",
      "Seconds: 498\n",
      "Seconds: 499\n",
      "Seconds: 500\n",
      "Seconds: 501\n",
      "Seconds: 502\n",
      "Seconds: 503\n",
      "Seconds: 504\n",
      "Seconds: 505\n",
      "Seconds: 506\n",
      "Seconds: 507\n",
      "Seconds: 508\n",
      "Seconds: 509\n",
      "Seconds: 510\n",
      "Seconds: 511\n",
      "Seconds: 512\n",
      "Seconds: 513\n",
      "Seconds: 514\n",
      "Seconds: 515\n",
      "Seconds: 516\n",
      "Seconds: 517\n",
      "Seconds: 518\n",
      "Seconds: 519\n",
      "Seconds: 520\n",
      "Seconds: 521\n",
      "Seconds: 522\n",
      "Seconds: 523\n",
      "Seconds: 524\n",
      "Seconds: 525\n",
      "Seconds: 526\n",
      "Seconds: 527\n",
      "Seconds: 528\n",
      "Seconds: 529\n",
      "Seconds: 530\n",
      "Seconds: 531\n",
      "Seconds: 532\n",
      "Seconds: 533\n",
      "Seconds: 534\n",
      "Seconds: 535\n",
      "Seconds: 536\n",
      "Seconds: 537\n",
      "Seconds: 538\n",
      "Seconds: 539\n"
     ]
    }
   ],
   "source": [
    "import threading  # import threading\n",
    "\n",
    "def keepUpdating(): # build a function to run over and over\n",
    "# global variable setup\n",
    "    global run\n",
    "    try: run\n",
    "    except: run = 0\n",
    "\n",
    "    print(\"Seconds:\", run)  # replace this line with updates to data\n",
    "    run += 1  # this is update to global variable\n",
    "    threading.Timer(3.0, keepUpdating).start()\n",
    "\n",
    "keepUpdating() "
   ]
  }
 ],
 "metadata": {
  "kernelspec": {
   "display_name": "Python 3.8.10 64-bit",
   "language": "python",
   "name": "python3"
  },
  "language_info": {
   "codemirror_mode": {
    "name": "ipython",
    "version": 3
   },
   "file_extension": ".py",
   "mimetype": "text/x-python",
   "name": "python",
   "nbconvert_exporter": "python",
   "pygments_lexer": "ipython3",
   "version": "3.8.10"
  },
  "orig_nbformat": 4,
  "vscode": {
   "interpreter": {
    "hash": "31f2aee4e71d21fbe5cf8b01ff0e069b9275f58929596ceb00d14d90e3e16cd6"
   }
  }
 },
 "nbformat": 4,
 "nbformat_minor": 2
}
