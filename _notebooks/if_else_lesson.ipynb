{
 "cells": [
  {
   "cell_type": "markdown",
   "metadata": {},
   "source": [
    "# If Else Statement Lesson\n",
    "> Lesson to show understanding of if else statements\n",
    "\n",
    "- toc: true \n",
    "- badges: true\n",
    "- comments: true\n",
    "- categories: [jupyter]"
   ]
  },
  {
   "cell_type": "markdown",
   "metadata": {},
   "source": [
    "## If Statement\n",
    "\n",
    "The if statement is used to test whether a condition is met or not. If the condition is true, the following command will be run."
   ]
  },
  {
   "cell_type": "code",
   "execution_count": 1,
   "metadata": {},
   "outputs": [
    {
     "name": "stdout",
     "output_type": "stream",
     "text": [
      "This is true\n"
     ]
    }
   ],
   "source": [
    "boolean a = true;\n",
    "// Set the boolean to \"true\"\n",
    "\n",
    "if (a = false) {\n",
    "    System.out.println(\"This is false\");\n",
    "    // Will run if a is false\n",
    "}\n",
    "\n",
    "if (a = true) {\n",
    "    System.out.println(\"This is true\");\n",
    "    // Will run if a is true\n",
    "}"
   ]
  },
  {
   "cell_type": "markdown",
   "metadata": {},
   "source": [
    "## If-else Statement\n",
    "\n",
    "The if-else statement will run a piece of code if a certain condition is met. If this condition is not met then another command will be run."
   ]
  },
  {
   "cell_type": "code",
   "execution_count": 2,
   "metadata": {},
   "outputs": [
    {
     "name": "stdout",
     "output_type": "stream",
     "text": [
      "b is true\n"
     ]
    }
   ],
   "source": [
    "boolean b = false;\n",
    "// Set the boolean to \"false\"\n",
    "\n",
    "if (b = true) {\n",
    "    System.out.println(\"b is true\");\n",
    "}\n",
    "else {\n",
    "    System.out.println(\"b is not true\");\n",
    "}\n",
    "// The if condition is not met so the else statement is ran"
   ]
  },
  {
   "cell_type": "markdown",
   "metadata": {},
   "source": [
    "## If-elseif-else Statement\n",
    "\n",
    "An if-elseif-else statement will determine whether a certain condition is true. If it isn't it will go to the next elseif statement and do the same thing. If this condition is also false then it will go down and continue to go through conditions until one is true."
   ]
  },
  {
   "cell_type": "code",
   "execution_count": 3,
   "metadata": {},
   "outputs": [
    {
     "name": "stdout",
     "output_type": "stream",
     "text": [
      "None of the other conditions were true\n"
     ]
    }
   ],
   "source": [
    "boolean c = true;\n",
    "// Sets the boolean to \"true\"\n",
    "\n",
    "if (c = false) {\n",
    "    System.out.println(\"The first if statement is true\");\n",
    "    // If the if condition is not true then it will not run\n",
    "}\n",
    "else if (c = !true) {\n",
    "    System.out.println(\"This else if statement is true\");\n",
    "}\n",
    "else if (c = false && true) {\n",
    "    System.out.println(\"This else if statement is true\");\n",
    "}\n",
    "else if (c = !(!false || !true)) {\n",
    "    System.out.println(\"This else if statement is true\");\n",
    "    // If the else if condition is not true then then it will not run\n",
    "}\n",
    "else {\n",
    "    System.out.println(\"None of the other conditions were true\");\n",
    "    // None of the if statements or else if statements are true so the else statement will run\n",
    "}\n"
   ]
  },
  {
   "cell_type": "markdown",
   "metadata": {},
   "source": [
    "## If-elseif-else statement (5 or more conditions)"
   ]
  },
  {
   "cell_type": "code",
   "execution_count": 5,
   "metadata": {},
   "outputs": [
    {
     "name": "stdout",
     "output_type": "stream",
     "text": [
      "You got ★★★☆☆\n"
     ]
    }
   ],
   "source": [
    "int stars = 3; // The integer \"stars\" is determined to be 3\n",
    "\n",
    "if (stars <= 0) {\n",
    "    System.out.println(\"You got ☆☆☆☆☆\");\n",
    "}\n",
    "else if (stars <= 1) {\n",
    "    System.out.println(\"You got ★☆☆☆☆\");\n",
    "}\n",
    "else if (stars <= 2) {\n",
    "    System.out.println(\"You got ★★☆☆☆\");\n",
    "}\n",
    "else if (stars <= 3) {\n",
    "    System.out.println(\"You got ★★★☆☆\");\n",
    "}\n",
    "else if (stars <= 4) {\n",
    "    System.out.println(\"You got ★★★★☆\");\n",
    "}\n",
    "else {\n",
    "    System.out.println(\"You got ★★★★★\");\n",
    "}\n",
    "// The code goes through the if and else if conditions to figure out how many stars to show.\n"
   ]
  },
  {
   "cell_type": "markdown",
   "metadata": {},
   "source": [
    "## Switch Case\n",
    "\n",
    "A switch case is able to run one statement after choosing one from multiple statements. This makes it similar to an else-if ladder where it will go through mulitple conditions to see which is true.\n",
    "\n",
    "When making a switch case code, it is important that you make sure no two cases have the same value and that the same variable is used for all the cases.\n"
   ]
  },
  {
   "cell_type": "code",
   "execution_count": 9,
   "metadata": {},
   "outputs": [
    {
     "name": "stdout",
     "output_type": "stream",
     "text": [
      "You got ★★★☆☆\n"
     ]
    }
   ],
   "source": [
    "int stars = 4; // The integer \"stars\" is determined to be 3\n",
    "\n",
    "switch (stars) { // A switch statement that takes in the \"stars\" integer\n",
    "    case 1: // When there are 0 stars\n",
    "        System.out.println(\"You got ☆☆☆☆☆\");\n",
    "        break;\n",
    "    case 2: // When there is 1 star\n",
    "        System.out.println(\"You got ★☆☆☆☆\");\n",
    "        break;\n",
    "    case 3: // When there are 2 stars\n",
    "        System.out.println(\"You got ★★☆☆☆\");\n",
    "        break;\n",
    "    case 4: // When there are 3 stars\n",
    "        System.out.println(\"You got ★★★☆☆\");\n",
    "        break;\n",
    "    case 5: // When there are 4 stars\n",
    "        System.out.println(\"You got ★★★★☆\");\n",
    "        break;\n",
    "    default: //When none of the other cases are met so there are 5 stars\n",
    "        System.out.println(\"You got ★★★★★\");\n",
    "    }\n"
   ]
  },
  {
   "cell_type": "markdown",
   "metadata": {},
   "source": [
    "## De Morgan's Law\n",
    "\n",
    "De Morgan's Law states that the \"!\" symbol will negate an And statement and an Or statement. This means that if a condition is written as a || b, !(a || b) would really be a && b. This goes for the other way around where !(a && b) is a || b. It will also cause a true statement to be false with !(true) and vice versa. "
   ]
  },
  {
   "cell_type": "code",
   "execution_count": 11,
   "metadata": {},
   "outputs": [
    {
     "name": "stdout",
     "output_type": "stream",
     "text": [
      "You have a hungry child\n"
     ]
    }
   ],
   "source": [
    "boolean child = true;\n",
    "boolean hungry = false;\n",
    "\n",
    "if (!(child && hungry)) {\n",
    "    System.out.println(\"You have a hungry child\");\n",
    "}\n",
    "else {\n",
    "    System.out.println(\"Who knows what's going on?\");\n",
    "}"
   ]
  },
  {
   "cell_type": "code",
   "execution_count": 12,
   "metadata": {},
   "outputs": [
    {
     "name": "stdout",
     "output_type": "stream",
     "text": [
      "It's probably a red apple\n"
     ]
    }
   ],
   "source": [
    "boolean fruit = true;\n",
    "boolean red = true;\n",
    "\n",
    "if (!(!(fruit) || !(red))) {\n",
    "    System.out.println(\"It's probably a red apple\");\n",
    "}\n",
    "else {\n",
    "    System.out.println(\"You have an unknown food\");\n",
    "}"
   ]
  },
  {
   "cell_type": "markdown",
   "metadata": {},
   "source": [
    "## Resources used\n",
    "\n",
    "1. [CodeHS](https://codehs.com/glossary/term/171)\n",
    "2. [simplilearn](simplilearn.com/tutorials/java-tutorial/switch-case-in-java#:~:text=The%20switch%20case%20in%20java%20executes%20one%20statement%20from%20multiple,specified%20in%20the%20test%20cases.)\n",
    "3. [w3schools](https://www.w3schools.com/java/java_switch.asp)"
   ]
  }
 ],
 "metadata": {
  "kernelspec": {
   "display_name": "Java",
   "language": "java",
   "name": "java"
  },
  "language_info": {
   "codemirror_mode": "java",
   "file_extension": ".jshell",
   "mimetype": "text/x-java-source",
   "name": "java",
   "pygments_lexer": "java",
   "version": "11.0.16+8-post-Ubuntu-0ubuntu120.04"
  },
  "orig_nbformat": 4
 },
 "nbformat": 4,
 "nbformat_minor": 2
}
