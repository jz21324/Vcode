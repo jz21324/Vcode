{
 "cells": [
  {
   "cell_type": "markdown",
   "metadata": {},
   "source": [
    "# Unit 9 Inheritance\n",
    "\n",
    "- toc: true \n",
    "- badges: true\n",
    "- comments: true\n",
    "- categories: [jupyter]"
   ]
  },
  {
   "cell_type": "markdown",
   "metadata": {},
   "source": [
    "# Inheritance\n",
    "Capability of a class to retrieve properties and characteristics from another class\n",
    "- first you create a <mark>superclass</mark> which is then <mark>extended</mark> by <mark>subclasses</mark>\n"
   ]
  },
  {
   "cell_type": "code",
   "execution_count": 5,
   "metadata": {
    "vscode": {
     "languageId": "java"
    }
   },
   "outputs": [],
   "source": [
    "public class cars {\n",
    "    int a;\n",
    "}\n",
    "public class sub extends cars {\n",
    "    \n",
    "}"
   ]
  },
  {
   "cell_type": "markdown",
   "metadata": {},
   "source": [
    "# Writing constructors\n",
    "- allows reuse of code and able to add attributes\n",
    "- a subclass can be further extended and turn into a super class\n",
    "- constructor can be used to call super class constructor and add attributes"
   ]
  },
  {
   "cell_type": "markdown",
   "metadata": {},
   "source": [
    "# Overriding\n",
    "- <mark>@Override</mark> gives different implementations to method of superclass\n"
   ]
  },
  {
   "cell_type": "code",
   "execution_count": null,
   "metadata": {
    "vscode": {
     "languageId": "java"
    }
   },
   "outputs": [],
   "source": [
    "public String toString() {\n",
    "    return + \" was born \" + birthdayl\n",
    "}\n",
    "\n",
    "@Override\n",
    "public String toString() {\n",
    "    return super.getName() + \" is in grade\" + grade;\n",
    "}"
   ]
  },
  {
   "cell_type": "markdown",
   "metadata": {},
   "source": [
    "# Making References\n",
    "- organized into single root tree called <mark>inheritance hierarchy</mark>\n",
    "- attributes and methods are inherited to lower levels\n",
    "- object and reference type can be different"
   ]
  },
  {
   "cell_type": "markdown",
   "metadata": {},
   "source": [
    "# <mark>Polymorphism</mark>\n",
    "- used when there are multiple classes related to inheritance\n",
    "- used when method is implemented to perform different tasks in different classes\n",
    "- allows method to take multiple forms\n",
    "- useful for code resuability"
   ]
  },
  {
   "cell_type": "markdown",
   "metadata": {},
   "source": [
    "# Homework\n",
    "https://jz21324.github.io/Vcode/jupyter/2022/12/13/inheritance-hw.html "
   ]
  }
 ],
 "metadata": {
  "kernelspec": {
   "display_name": "Java",
   "language": "java",
   "name": "java"
  },
  "language_info": {
   "codemirror_mode": "java",
   "file_extension": ".jshell",
   "mimetype": "text/x-java-source",
   "name": "Java",
   "pygments_lexer": "java",
   "version": "11.0.16+8-post-Ubuntu-0ubuntu120.04"
  },
  "orig_nbformat": 4,
  "vscode": {
   "interpreter": {
    "hash": "916dbcbb3f70747c44a77c7bcd40155683ae19c65e1c03b4aa3499c5328201f1"
   }
  }
 },
 "nbformat": 4,
 "nbformat_minor": 2
}
