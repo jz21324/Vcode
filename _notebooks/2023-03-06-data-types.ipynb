{
 "cells": [
  {
   "attachments": {},
   "cell_type": "markdown",
   "metadata": {},
   "source": [
    "# Tech Talk Binary Addition\n",
    "\n",
    "- toc: true \n",
    "- badges: true\n",
    "- comments: true\n",
    "- categories: [jupyter]"
   ]
  },
  {
   "cell_type": "code",
   "execution_count": 17,
   "metadata": {},
   "outputs": [
    {
     "name": "stdout",
     "output_type": "stream",
     "text": [
      "Enter the first binary number: 1\n",
      "Enter the second binary number: 1\n",
      "The sum of 1 and 1 is 10 in binary.\n"
     ]
    }
   ],
   "source": [
    "import java.util.Scanner;\n",
    "\n",
    "public class BinaryAddition {\n",
    "    public static void main(String[] args) {\n",
    "        Scanner scanner = new Scanner(System.in);\n",
    "\n",
    "        // Read the first binary number from the user\n",
    "        System.out.print(\"Enter the first binary number: \");\n",
    "        System.out.println(a);\n",
    "        String binaryString1 = scanner.nextLine();\n",
    "\n",
    "        // Read the second binary number from the user\n",
    "        System.out.print(\"Enter the second binary number: \");\n",
    "        System.out.println(a);\n",
    "        String binaryString2 = scanner.nextLine();\n",
    "\n",
    "        // Convert the binary numbers to integers\n",
    "        int a = Integer.parseInt(binaryString1, 2);\n",
    "        int b = Integer.parseInt(binaryString2, 2);\n",
    "\n",
    "        // Add the binary numbers and convert the result to binary\n",
    "        int sum = a + b;\n",
    "        String binaryResult = Integer.toBinaryString(sum);\n",
    "\n",
    "        // Display the binary result\n",
    "        System.out.println(\"The sum of \" + binaryString1 + \" and \" + binaryString2 + \" is \" + binaryResult + \" in binary.\");\n",
    "    }\n",
    "}\n",
    "\n",
    "BinaryAddition.main(null);"
   ]
  }
 ],
 "metadata": {
  "kernelspec": {
   "display_name": "Java",
   "language": "java",
   "name": "java"
  },
  "language_info": {
   "codemirror_mode": "java",
   "file_extension": ".jshell",
   "mimetype": "text/x-java-source",
   "name": "java",
   "pygments_lexer": "java",
   "version": "17.0.6+10-Ubuntu-0ubuntu120.04.1"
  },
  "orig_nbformat": 4
 },
 "nbformat": 4,
 "nbformat_minor": 2
}
