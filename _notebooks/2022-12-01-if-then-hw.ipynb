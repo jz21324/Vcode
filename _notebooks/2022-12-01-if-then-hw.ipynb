{
 "cells": [
  {
   "cell_type": "markdown",
   "metadata": {},
   "source": [
    "# Unit 3 Lesson Homework\n",
    "\n",
    "- toc: true \n",
    "- badges: true\n",
    "- comments: true\n",
    "- categories: [jupyter]"
   ]
  },
  {
   "cell_type": "markdown",
   "metadata": {},
   "source": [
    "# Score 0.9/1.0"
   ]
  },
  {
   "cell_type": "markdown",
   "metadata": {},
   "source": [
    "# FRQ 2019 #1 "
   ]
  },
  {
   "cell_type": "markdown",
   "metadata": {},
   "source": [
    "## 1. The APCalendar class contains methods used to calculate information about a calendar. You will write two methods of the class. \n",
    "\n",
    "(a) Write the static method numberOfLeapYears, which returns the number of leap years between\n",
    "year1 and year2, inclusive.\n",
    "\n",
    "In order to calculate this value, a helper method is provided for you.\n",
    "\n",
    "* isLeapYear(year) returns true if year is a leap year and false otherwise.\n",
    "\n",
    "Complete method numberOfLeapYears below. You must use isLeapYear appropriately to\n",
    "receive full credit.\n",
    "\n",
    "Answer:\n",
    "\n",
    "    /** Returns the number of leap years between year1 and year2, inclusive.\n",
    "     * Precondition: 0 <= year1 <= year2\n",
    "     */\n",
    "     public static int numberOfLeapYears(int year1, int year2) {}\n",
    "        \n",
    "        int count = 0;\n",
    "\n",
    "        for (int i = year1; i <= year2; i++) {\n",
    "            if (isLeapYear(i)) {\n",
    "                count++;\n",
    "            }\n",
    "            return count;\n",
    "        }\n",
    "    }\n",
    "\n",
    "In this problem I created a loop so that it would go through all the years that are in between year1 and year2. Then inside of that I put a if statement to decide if there was a leap year. If yes, count would be increased by 1. \n",
    "\n",
    "\n",
    "\n",
    "(b) Write the static method dayOfWeek, which returns the integer value representing the day of the week for\n",
    "the given date (month, day, year), where 0 denotes Sunday, 1 denotes Monday, ..., and 6\n",
    "denotes Saturday. For example, 2019 began on a Tuesday, and January 5 is the fifth day of 2019. As a result,\n",
    "January 5, 2019, fell on a Saturday, and the method call dayOfWeek(1, 5, 2019)\n",
    "returns 6.\n",
    "\n",
    "As another example, January 10 is the tenth day of 2019. As a result, January 10, 2019, fell on a Thursday,\n",
    "and the method call dayOfWeek(1, 10, 2019) returns 4.\n",
    "\n",
    "In order to calculate this value, two helper methods are provided for you.\n",
    "* firstDayOfYear(year) returns the integer value representing the day of the week for the first day of year, where 0 denotes Sunday, 1 denotes Monday, ..., and 6 denotes Saturday. For example, since 2019 began on a Tuesday, firstDayOfYear(2019) returns 2.\n",
    "* dayOfYear(month, day, year) returns n, where month, day, and year specify the nth day of the year. For the first day of the year, January 1 (month = 1, day = 1), the value 1 is returned. This method accounts for whether year is a leap year. For example, dayOfYear(3, 1, 2017) returns 60, since 2017 is not a leap year, while dayOfYear(3, 1, 2016) returns 61, since 2016 is a leap year. \n",
    "\n",
    "Class information for this question\n",
    "\n",
    "* public class APCalendar\n",
    "* private static boolean isLeapYear(int year)\n",
    "* public static int numberOfLeapYears(int year1, int year2)\n",
    "* private static int firstDayOfYear(int year)\n",
    "* private static int dayOfYear(int month, int day, int year)\n",
    "* public static int dayOfWeek(int month, int day, int year) \n",
    "\n",
    "Complete method dayOfWeek below. You must use firstDayOfYear and dayOfYear\n",
    "appropriately to receive full credit.\n",
    "\n",
    "Answer:\n",
    "\n",
    "    /** Returns the value representing the day of the week for the given date\n",
    "    * (month, day, year), where 0 denotes Sunday, 1 denotes Monday, ...,\n",
    "    * and 6 denotes Saturday.\n",
    "    * Precondition: The date represented by month, day, year is a valid date.\n",
    "    */\n",
    "    public static int dayOfWeek(int month, int day, int year) {\n",
    "        int firstDay = firstDayOfYear(year);\n",
    "        int day = dayOfYear(month, day, year);\n",
    "        return (firstDay + day - 1) % 7;\n",
    "    }\n",
    "\n",
    "For this, I created two variables and set them to the firstDayOfYear and dayOfYear. After that, I added the two values together and subtracted 1. The % 7 is what the remainder is."
   ]
  }
 ],
 "metadata": {
  "kernelspec": {
   "display_name": "Java",
   "language": "java",
   "name": "java"
  },
  "language_info": {
   "codemirror_mode": "java",
   "file_extension": ".jshell",
   "mimetype": "text/x-java-source",
   "name": "java",
   "pygments_lexer": "java",
   "version": "11.0.16+8-post-Ubuntu-0ubuntu120.04"
  },
  "orig_nbformat": 4,
  "vscode": {
   "interpreter": {
    "hash": "916dbcbb3f70747c44a77c7bcd40155683ae19c65e1c03b4aa3499c5328201f1"
   }
  }
 },
 "nbformat": 4,
 "nbformat_minor": 2
}
