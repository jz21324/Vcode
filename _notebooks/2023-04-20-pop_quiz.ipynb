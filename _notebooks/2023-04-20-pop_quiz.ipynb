{
 "cells": [
  {
   "attachments": {},
   "cell_type": "markdown",
   "metadata": {},
   "source": [
    "# Pop Quiz\n",
    "\n",
    "- toc: true \n",
    "- badges: true\n",
    "- comments: true\n",
    "- categories: [jupyter]"
   ]
  },
  {
   "cell_type": "code",
   "execution_count": 94,
   "metadata": {
    "vscode": {
     "languageId": "java"
    }
   },
   "outputs": [
    {
     "name": "stdout",
     "output_type": "stream",
     "text": [
      "Title: Starships\n",
      "ID: 992118609\n",
      "Title: Asteroids\n",
      "ID: 362542593\n",
      "\n",
      "Book Count: 2\n"
     ]
    }
   ],
   "source": [
    "public class Book {\n",
    "    protected String title;\n",
    "    protected int id;\n",
    "    public static  int count = 0;\n",
    "    public static double time;\n",
    "\n",
    "\n",
    "    public Book(String title) { // setter\n",
    "        this.title = title;\n",
    "        this.time = System.nanoTime();\n",
    "        count ++;\n",
    "    }\n",
    "\n",
    "    public String toString() { // getter\n",
    "        return \"Title: \" + title;\n",
    "    }\n",
    "\n",
    "    public int getBookCount() {\n",
    "        return count;\n",
    "    }\n",
    "\n",
    "    public double shelfLife() {\n",
    "        return (System.nanoTime() - time);\n",
    "    }\n",
    "\n",
    "    public boolean expired() {\n",
    "        return (this.shelfLife() > 5 * 100000000);\n",
    "    }\n",
    "    \n",
    "    public static void main(String[] args) {\n",
    "        Book[] books1 = {\n",
    "            new Book(\"Starships\"),\n",
    "            new Book(\"Asteroids\"),\n",
    "        };\n",
    "        for (Book i : books1) {\n",
    "            System.out.println(i);\n",
    "            System.out.println(\"ID: \" + i.hashCode());\n",
    "        }\n",
    "        // System.out.println(book1.title + \": \" + book1.id);\n",
    "        // System.out.println(book2.title + \": \" + book2.id); \n",
    "        // System.out.println(\"Count: \" + Book.count);\n",
    "        System.out.println();\n",
    "        System.out.println(\"Book Count: \" + Book.count);\n",
    "    }\n",
    "    \n",
    "}\n",
    "\n",
    "Book.main(null);"
   ]
  },
  {
   "cell_type": "code",
   "execution_count": 123,
   "metadata": {
    "vscode": {
     "languageId": "java"
    }
   },
   "outputs": [
    {
     "name": "stdout",
     "output_type": "stream",
     "text": [
      "Title: The Awakening\n",
      "ID: 1141597143\n",
      "Shelf Life: 960800.0\n",
      "Title: Green Leaves\n",
      "ID: 523249130\n",
      "Shelf Life: 1544500.0\n"
     ]
    }
   ],
   "source": [
    "class Novel extends Book { \n",
    "    private String author;\n",
    "    private int checkouts;\n",
    "\n",
    "    public Novel (String title, String author) {\n",
    "        super(title);\n",
    "        this.author = author;\n",
    "        this.checkouts = 0;\n",
    "    }\n",
    "\n",
    "    public String getAuthor() {\n",
    "        return this.author;\n",
    "    }\n",
    "    \n",
    "    public void setAuthor(String author) {\n",
    "        this.author = author;\n",
    "    }\n",
    "\n",
    "    // public int getId() {\n",
    "    //     return this.id;\n",
    "    // }\n",
    "    // public void setId(int id) {\n",
    "    //     this.id = id;\n",
    "    // }\n",
    "    public void checkout() {\n",
    "        checkouts ++;\n",
    "        this.time = System.nanoTime();\n",
    "    }\n",
    "    public int getCheckouts() {\n",
    "        return this.checkouts;\n",
    "    }\n",
    "    public static void main(String[] args){\n",
    "        \n",
    "        int num = (int) (Math.random()*100);\n",
    "\n",
    "        Novel[] novels = {\n",
    "            new Novel(\"The Awakening\", \"Steven Robbers\"),\n",
    "            new Novel(\"Green Leaves\", \"Tyler Boulder\"),\n",
    "        };\n",
    "        for (Novel i : novels) {\n",
    "            System.out.println(i);\n",
    "            System.out.println(\"ID: \" + i.hashCode());\n",
    "            System.out.println(\"Shelf Life: \" + i.shelfLife());\n",
    "        }\n",
    "    }\n",
    "}\n",
    "\n",
    "Novel.main(null);"
   ]
  },
  {
   "cell_type": "code",
   "execution_count": 133,
   "metadata": {
    "vscode": {
     "languageId": "java"
    }
   },
   "outputs": [
    {
     "name": "stdout",
     "output_type": "stream",
     "text": [
      "Title: Calculus AB\n",
      "ID: 180249287\n",
      "Shelf Life: 329500.0\n",
      "Title: Calculus BC\n",
      "ID: 2144296853\n",
      "Shelf Life: 694200.0\n"
     ]
    }
   ],
   "source": [
    "public class Textbook extends Book {\n",
    "    private String company;\n",
    "\n",
    "\n",
    "    Textbook(String title, String company) {\n",
    "        super(title);\n",
    "        this.company = company;\n",
    "    }\n",
    "\n",
    "    public String getCompany() {\n",
    "        return this.company;\n",
    "    }\n",
    "\n",
    "    public void setCompany(String Company) {\n",
    "        this.company = company;\n",
    "    }\n",
    "    public static void main(String[] args){\n",
    "        \n",
    "        Textbook[] textbooks1 = {\n",
    "            new Textbook(\"Calculus AB\", \"Bernabeo Maths\"),\n",
    "            new Textbook(\"Calculus BC\", \"Krenz Addition Co.\"),\n",
    "        };\n",
    "\n",
    "        for (Textbook i : textbooks1) {\n",
    "            System.out.println(i);\n",
    "            System.out.println(\"ID: \" + i.hashCode());\n",
    "            System.out.println(\"Shelf Life: \" + i.shelfLife());\n",
    "        }\n",
    "        \n",
    "       \n",
    "    }\n",
    "}\n",
    "\n",
    "Textbook.main(null);"
   ]
  }
 ],
 "metadata": {
  "kernelspec": {
   "display_name": "Java",
   "language": "java",
   "name": "java"
  },
  "language_info": {
   "codemirror_mode": "java",
   "file_extension": ".jshell",
   "mimetype": "text/x-java-source",
   "name": "Java",
   "pygments_lexer": "java",
   "version": "17.0.6+10-Ubuntu-0ubuntu120.04.1"
  },
  "orig_nbformat": 4
 },
 "nbformat": 4,
 "nbformat_minor": 2
}
