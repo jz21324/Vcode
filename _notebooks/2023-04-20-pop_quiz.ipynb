{
 "cells": [
  {
   "attachments": {},
   "cell_type": "markdown",
   "metadata": {},
   "source": [
    "# Pop Quiz\n",
    "\n",
    "- toc: true \n",
    "- badges: true\n",
    "- comments: true\n",
    "- categories: [jupyter]"
   ]
  },
  {
   "cell_type": "code",
   "execution_count": 15,
   "metadata": {
    "vscode": {
     "languageId": "java"
    }
   },
   "outputs": [
    {
     "name": "stdout",
     "output_type": "stream",
     "text": [
      "Starships: 65\n",
      "Asteroids: 40\n",
      "Count: 2\n"
     ]
    }
   ],
   "source": [
    "public class Book {\n",
    "    protected String title;\n",
    "    protected int id;\n",
    "    public static  int count = 0;\n",
    "    public static double time;\n",
    "\n",
    "\n",
    "    public Book(int id, String title) { // setter\n",
    "        this.id = id;\n",
    "        this.title = title;\n",
    "        this.time = System.nanoTime();\n",
    "        count ++;\n",
    "    }\n",
    "\n",
    "    public String toString() { // getter\n",
    "        return title;\n",
    "    }\n",
    "\n",
    "    public int getBookCount() {\n",
    "        return count;\n",
    "    }\n",
    "\n",
    "    public double shelfLife() {\n",
    "        return (System.nanoTime() - time);\n",
    "    }\n",
    "\n",
    "    public boolean expired() {\n",
    "        return (this.shelfLife() > 5 * 100000000);\n",
    "    }\n",
    "    \n",
    "    public static void main(String[] args) {\n",
    "        Book book1 = new Book((int) (Math.random()*100), \"Starships\");\n",
    "        Book book2 = new Book((int) (Math.random()*100), \"Asteroids\");\n",
    "\n",
    "        System.out.println(book1.title + \": \" + book1.id);\n",
    "        System.out.println(book2.title + \": \" + book2.id); \n",
    "        System.out.println(\"Count: \" + Book.count);\n",
    "    }\n",
    "    \n",
    "}\n",
    "\n",
    "Book.main(null);"
   ]
  },
  {
   "cell_type": "code",
   "execution_count": 68,
   "metadata": {
    "vscode": {
     "languageId": "java"
    }
   },
   "outputs": [
    {
     "name": "stdout",
     "output_type": "stream",
     "text": [
      "Novel 1\n",
      "Id: 38\n",
      "Title and Author: The Awakening by Steven Robbers\n",
      "Book Count: 56\n",
      "Novel 2\n",
      "Id: 43\n",
      "Title and Author: Green Leaves by Tyler Boulder\n",
      "Book Count: 57\n"
     ]
    }
   ],
   "source": [
    "class Novel extends Book { \n",
    "    private String author;\n",
    "    private int checkouts;\n",
    "\n",
    "    public Novel (int id, String title, String author) {\n",
    "        super(id, title);\n",
    "        this.author = author;\n",
    "        this.checkouts = 0;\n",
    "    }\n",
    "\n",
    "    public String getAuthor() {\n",
    "        return this.author;\n",
    "    }\n",
    "    \n",
    "    public void setAuthor(String author) {\n",
    "        this.author = author;\n",
    "    }\n",
    "\n",
    "    // public void checkout() {\n",
    "    //     checkouts ++;\n",
    "    //     this.startTime = System.nanoTime();\n",
    "    // }\n",
    "    public int getCheckouts() {\n",
    "        return this.checkouts;\n",
    "    }\n",
    "    public static void main(String[] args){\n",
    "        \n",
    "        int num = (int) (Math.random()*100);\n",
    "        Novel novel1 = new Novel(num, \"The Awakening\", \"Steven Robbers\");\n",
    "        System.out.println(\"Novel 1\");\n",
    "        System.out.println(\"Id: \" + novel1.id);\n",
    "        System.out.println(\"Title and Author: \" + novel1.title + \" by \" + novel1.author);\n",
    "        System.out.println(\"Book Count: \" + count);\n",
    "\n",
    "        Novel novel2 = new Novel(num + (int) (Math.random()*10), \"Green Leaves\", \"Tyler Boulder\");\n",
    "        System.out.println(\"Novel 2\");\n",
    "        System.out.println(\"Id: \" + novel2.id);\n",
    "        System.out.println(\"Title and Author: \" + novel2.title + \" by \" + novel2.author);\n",
    "        System.out.println(\"Book Count: \" + count);\n",
    "    }\n",
    "}\n",
    "\n",
    "Novel.main(null);"
   ]
  },
  {
   "cell_type": "code",
   "execution_count": 69,
   "metadata": {
    "vscode": {
     "languageId": "java"
    }
   },
   "outputs": [
    {
     "name": "stdout",
     "output_type": "stream",
     "text": [
      "Textbook 1\n",
      "Id: 40\n",
      "Title and Publishing Company: Calculus AB by Bernabeo Maths\n",
      "Novel 2\n",
      "Id: 45\n",
      "Title and Publishing Company: Calculus BC by Krenz Addition Co.\n"
     ]
    }
   ],
   "source": [
    "public class Textbook extends Book {\n",
    "    private String company;\n",
    "\n",
    "\n",
    "    Textbook(int id, String title, String company) {\n",
    "        super(id, title);\n",
    "        this.company = company;\n",
    "    }\n",
    "\n",
    "    public String getCompany() {\n",
    "        return this.company;\n",
    "    }\n",
    "\n",
    "    public void setCompany(String Company) {\n",
    "        this.company = company;\n",
    "    }\n",
    "    public static void main(String[] args){\n",
    "        \n",
    "        int num = (int) (Math.random()*100);\n",
    "        Textbook textbook1 = new Textbook(num, \"Calculus AB\", \"Bernabeo Maths\");\n",
    "        System.out.println(\"Textbook 1\");\n",
    "        System.out.println(\"Id: \" + textbook1.id);\n",
    "        System.out.println(\"Title and Publishing Company: \" + textbook1.title + \" by \" + textbook1.company);\n",
    "\n",
    "        Textbook textbook2 = new Textbook(num + (int) (Math.random()*10), \"Calculus BC\", \"Krenz Addition Co.\");\n",
    "        System.out.println(\"Novel 2\");\n",
    "        System.out.println(\"Id: \" + textbook2.id);\n",
    "        System.out.println(\"Title and Publishing Company: \" + textbook2.title + \" by \" + textbook2.company);\n",
    "    }\n",
    "}\n",
    "\n",
    "Textbook.main(null);"
   ]
  }
 ],
 "metadata": {
  "kernelspec": {
   "display_name": "Java",
   "language": "java",
   "name": "java"
  },
  "language_info": {
   "codemirror_mode": "java",
   "file_extension": ".jshell",
   "mimetype": "text/x-java-source",
   "name": "Java",
   "pygments_lexer": "java",
   "version": "17.0.6+10-Ubuntu-0ubuntu120.04.1"
  },
  "orig_nbformat": 4
 },
 "nbformat": 4,
 "nbformat_minor": 2
}
