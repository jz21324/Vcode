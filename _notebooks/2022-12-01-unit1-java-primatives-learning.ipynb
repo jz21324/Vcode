{
 "cells": [
  {
   "cell_type": "markdown",
   "metadata": {},
   "source": [
    "# Unit 1 Java Primitives\n",
    "\n",
    "- toc: true \n",
    "- badges: true\n",
    "- comments: true\n",
    "- categories: [jupyter]"
   ]
  },
  {
   "cell_type": "markdown",
   "metadata": {},
   "source": [
    "# Java Wrappers\n",
    "\n",
    "Booleans\n",
    "* true and false\n",
    "* one bit\n",
    "\n",
    "Integers\n",
    "* int values\n",
    "* 2-3 bits\n",
    "\n",
    "Double\n",
    "* decimal values\n",
    "* 64 bits\n",
    "\n",
    "Character\n",
    "* A single character"
   ]
  },
  {
   "cell_type": "code",
   "execution_count": 1,
   "metadata": {
    "vscode": {
     "languageId": "java"
    }
   },
   "outputs": [],
   "source": [
    "boolean a = true;\n",
    "int b = 5;\n",
    "double c = 7.5;\n",
    "char d = 'a';"
   ]
  },
  {
   "cell_type": "markdown",
   "metadata": {},
   "source": [
    "The <mark>Math class</mark> allows you to use different math related methods such as min, max, avg, sin, abs, etc. Namely, there is the java.lang.Math.random() method which will give a random number between 0.0 and 1.0."
   ]
  },
  {
   "cell_type": "code",
   "execution_count": 3,
   "metadata": {
    "vscode": {
     "languageId": "java"
    }
   },
   "outputs": [
    {
     "name": "stdout",
     "output_type": "stream",
     "text": [
      "Maximum number of x and y is: 28.0\n",
      "Square root of y is: 2.0\n",
      "Power of x and y is: 614656.0\n",
      "Logarithm of x is: 3.332204510175204\n",
      "Logarithm of y is: 1.3862943611198906\n",
      "log10 of x is: 1.4471580313422192\n",
      "log10 of y is: 0.6020599913279624\n",
      "log1p of x is: 3.367295829986474\n",
      "exp of a is: 1.446257064291475E12\n",
      "expm1 of a is: 1.446257064290475E12\n",
      "0.09599477421748714\n"
     ]
    }
   ],
   "source": [
    "double x = 28;    \n",
    "double y = 4;\n",
    "double z = Math.random();      \n",
    "          \n",
    "// return the maximum of two numbers  \n",
    "System.out.println(\"Maximum number of x and y is: \" +Math.max(x, y));   \n",
    "          \n",
    "// return the square root of y   \n",
    "System.out.println(\"Square root of y is: \" + Math.sqrt(y));   \n",
    "          \n",
    " //returns 28 power of 4 i.e. 28*28*28*28    \n",
    "System.out.println(\"Power of x and y is: \" + Math.pow(x, y));      \n",
    "  \n",
    "// return the logarithm of given value       \n",
    " System.out.println(\"Logarithm of x is: \" + Math.log(x));   \n",
    "System.out.println(\"Logarithm of y is: \" + Math.log(y));  \n",
    "          \n",
    "// return the logarithm of given value when base is 10      \n",
    "System.out.println(\"log10 of x is: \" + Math.log10(x));   \n",
    "System.out.println(\"log10 of y is: \" + Math.log10(y));    \n",
    "          \n",
    "// return the log of x + 1  \n",
    "System.out.println(\"log1p of x is: \" +Math.log1p(x));    \n",
    "  \n",
    "// return a power of 2    \n",
    "System.out.println(\"exp of a is: \" +Math.exp(x));    \n",
    "          \n",
    "// return (a power of 2)-1  \n",
    "System.out.println(\"expm1 of a is: \" +Math.expm1(x));  \n",
    "\n",
    "// returns a random number\n",
    "System.out.println(z); \n"
   ]
  },
  {
   "cell_type": "markdown",
   "metadata": {},
   "source": [
    "# Operators\n",
    "\n",
    "#### Addition (+)\n",
    "#### Subtraction (-)\n",
    "#### Division (/)\n",
    "\n",
    "A <mark>casting for doubles</mark> will temporarily create a double value so that instead of having an int, it will have a double temporarily.\n",
    "\n",
    "&ensp;&thinsp;&ensp;&thinsp;&ensp;&thinsp; Ex: 7/(double)3 will make a temporary 3.0\n",
    "\n",
    "A <mark>casting for integers or rounding</mark> will temporarily round a double value so that it is an integer.\n",
    "\n",
    "&ensp;&thinsp;&ensp;&thinsp;&ensp;&thinsp; Ex: 7/(int)3.333 will make a temporary 3\n",
    "#### Multiplication (*)\n",
    "#### Increment (++, --)"
   ]
  },
  {
   "cell_type": "code",
   "execution_count": 5,
   "metadata": {
    "vscode": {
     "languageId": "java"
    }
   },
   "outputs": [
    {
     "name": "stdout",
     "output_type": "stream",
     "text": [
      "60\n"
     ]
    }
   ],
   "source": [
    "int a = 5 + 10;\n",
    "int b = 20 - 5;\n",
    "int c = 45 / 3;\n",
    "int d = 5 * 3;\n",
    "System.out.println(a + b + c + d);"
   ]
  },
  {
   "cell_type": "markdown",
   "metadata": {},
   "source": [
    "# Video Learning Notes\n",
    "[Primitive Data Types in Java](https://www.youtube.com/watch?v=WQ7mvQFSmYc)\n",
    "\n",
    "A byte is just 8 bits. Int is used for integer values. Floats are used for values with few decimal digits, while doubles are used for values with many decimal digits. A boolean is used for false or true values. A char will have a single character. A string will have multiple characters."
   ]
  },
  {
   "cell_type": "code",
   "execution_count": 12,
   "metadata": {
    "vscode": {
     "languageId": "java"
    }
   },
   "outputs": [],
   "source": [
    "byte a = 12;\n",
    "int b = 5;\n",
    "float c = 6.3f;\n",
    "double d = 7.344345542;\n",
    "boolean e = true;\n",
    "char f = 'W';\n",
    "String g = \"Hello\";"
   ]
  },
  {
   "cell_type": "markdown",
   "metadata": {},
   "source": [
    "# Homework\n",
    "[Homework](https://jz21324.github.io/Vcode/jupyter/2022/11/30/primitives-hw.html)"
   ]
  }
 ],
 "metadata": {
  "kernelspec": {
   "display_name": "Java",
   "language": "java",
   "name": "java"
  },
  "language_info": {
   "codemirror_mode": "java",
   "file_extension": ".jshell",
   "mimetype": "text/x-java-source",
   "name": "Java",
   "pygments_lexer": "java",
   "version": "11.0.16+8-post-Ubuntu-0ubuntu120.04"
  },
  "orig_nbformat": 4
 },
 "nbformat": 4,
 "nbformat_minor": 2
}
