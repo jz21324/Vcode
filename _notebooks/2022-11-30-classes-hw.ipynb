{
 "cells": [
  {
   "cell_type": "markdown",
   "metadata": {},
   "source": [
    "# Unit 5 Lesson Homework\n",
    "\n",
    "- toc: true \n",
    "- badges: true\n",
    "- comments: true\n",
    "- categories: [jupyter]"
   ]
  },
  {
   "cell_type": "markdown",
   "metadata": {},
   "source": [
    "# Score 0.8/1.0"
   ]
  },
  {
   "cell_type": "markdown",
   "metadata": {},
   "source": [
    "## FRQ 2019 #2"
   ]
  },
  {
   "cell_type": "code",
   "execution_count": null,
   "metadata": {},
   "outputs": [],
   "source": [
    "public class StepTracker {\n",
    "    private int minSteps;\n",
    "    private int totalSteps;\n",
    "    private int numDays;\n",
    "    private int numActivateDays;\n",
    "\n",
    "    public StepTracker (int threshold) {\n",
    "        minSteps = threshold;\n",
    "        totalSteps = 0;\n",
    "        numDays = 0;\n",
    "        numActiveDays = 0;\n",
    "    }\n",
    "\n",
    "    public void addDailySteps(int steps) {\n",
    "        totalSteps += steps;\n",
    "        numDays++;\n",
    "    \n",
    "        if (steps >= minSteps) {\n",
    "            numActiveDays++;\n",
    "        }\n",
    "    }\n",
    "    public int activeDays() {\n",
    "        return numActiveDays;\n",
    "    }\n",
    "    \n",
    "    public double averageSteps() {\n",
    "        if (numDays == 0) {\n",
    "            return 0.0;\n",
    "        }\n",
    "        else {\n",
    "            return (double) totalSteps / numDays;\n",
    "        }\n",
    "    }\n",
    "}"
   ]
  }
 ],
 "metadata": {
  "kernelspec": {
   "display_name": "Java",
   "language": "java",
   "name": "java"
  },
  "language_info": {
   "name": "java",
   "version": "3.8.10"
  },
  "orig_nbformat": 4,
  "vscode": {
   "interpreter": {
    "hash": "916dbcbb3f70747c44a77c7bcd40155683ae19c65e1c03b4aa3499c5328201f1"
   }
  }
 },
 "nbformat": 4,
 "nbformat_minor": 2
}
