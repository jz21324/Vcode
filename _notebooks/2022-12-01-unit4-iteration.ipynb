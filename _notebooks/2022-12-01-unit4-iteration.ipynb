{
 "cells": [
  {
   "cell_type": "markdown",
   "metadata": {},
   "source": [
    "# Unit 4 Iteration\n",
    "\n",
    "- toc: true \n",
    "- badges: true\n",
    "- comments: true\n",
    "- categories: [jupyter]"
   ]
  },
  {
   "cell_type": "markdown",
   "metadata": {},
   "source": [
    "<mark>For loops</mark> allow a code to be repeated until a certain parameter is no longer true. There is then also <mark>nested loops</mark> where there will be a loop within a loop. And finally, a <mark>while loop</mark> will run through certain code as long as a certain condition is true."
   ]
  },
  {
   "cell_type": "code",
   "execution_count": 1,
   "metadata": {
    "vscode": {
     "languageId": "java"
    }
   },
   "outputs": [
    {
     "name": "stdout",
     "output_type": "stream",
     "text": [
      "0\n",
      "1\n",
      "2\n",
      "3\n",
      "4\n"
     ]
    }
   ],
   "source": [
    "for (int i = 0; i < 5; i++) {\n",
    "    System.out.println(i);\n",
    "  }"
   ]
  },
  {
   "cell_type": "code",
   "execution_count": 2,
   "metadata": {
    "vscode": {
     "languageId": "java"
    }
   },
   "outputs": [
    {
     "name": "stdout",
     "output_type": "stream",
     "text": [
      "Outer: 1\n",
      " Inner: 1\n",
      " Inner: 2\n",
      " Inner: 3\n",
      "Outer: 2\n",
      " Inner: 1\n",
      " Inner: 2\n",
      " Inner: 3\n"
     ]
    }
   ],
   "source": [
    "// Outer loop\n",
    "for (int i = 1; i <= 2; i++) {\n",
    "    System.out.println(\"Outer: \" + i); // Executes 2 times\n",
    "    \n",
    "    // Inner loop\n",
    "    for (int j = 1; j <= 3; j++) {\n",
    "      System.out.println(\" Inner: \" + j); // Executes 6 times (2 * 3)\n",
    "    }\n",
    "  } "
   ]
  },
  {
   "cell_type": "code",
   "execution_count": 3,
   "metadata": {
    "vscode": {
     "languageId": "java"
    }
   },
   "outputs": [
    {
     "name": "stdout",
     "output_type": "stream",
     "text": [
      "0\n",
      "1\n",
      "2\n",
      "3\n",
      "4\n"
     ]
    }
   ],
   "source": [
    "int i = 0;\n",
    "while (i < 5) {\n",
    "  System.out.println(i);\n",
    "  i++;\n",
    "}"
   ]
  },
  {
   "cell_type": "markdown",
   "metadata": {},
   "source": [
    "# Homework\n",
    "[Homework](https://jz21324.github.io/Vcode/jupyter/2022/11/30/iteration-hw.html)"
   ]
  }
 ],
 "metadata": {
  "kernelspec": {
   "display_name": "Java",
   "language": "java",
   "name": "java"
  },
  "language_info": {
   "codemirror_mode": "java",
   "file_extension": ".jshell",
   "mimetype": "text/x-java-source",
   "name": "Java",
   "pygments_lexer": "java",
   "version": "11.0.16+8-post-Ubuntu-0ubuntu120.04"
  },
  "orig_nbformat": 4,
  "vscode": {
   "interpreter": {
    "hash": "916dbcbb3f70747c44a77c7bcd40155683ae19c65e1c03b4aa3499c5328201f1"
   }
  }
 },
 "nbformat": 4,
 "nbformat_minor": 2
}
