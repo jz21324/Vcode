{
 "cells": [
  {
   "attachments": {},
   "cell_type": "markdown",
   "metadata": {},
   "source": [
    "# Data Sorting\n",
    "\n",
    "- toc: true \n",
    "- badges: true\n",
    "- comments: true\n",
    "- categories: [jupyter]"
   ]
  },
  {
   "attachments": {},
   "cell_type": "markdown",
   "metadata": {},
   "source": [
    "# Bubble Sort"
   ]
  },
  {
   "cell_type": "code",
   "execution_count": 11,
   "metadata": {
    "vscode": {
     "languageId": "java"
    }
   },
   "outputs": [
    {
     "name": "stdout",
     "output_type": "stream",
     "text": [
      "Sorted array:\n",
      "2 34 35 53 57 61 92 "
     ]
    }
   ],
   "source": [
    "public class BubbleSort {\n",
    "\n",
    "    public static void bubbleSort(int[] arr) {\n",
    "        int n = arr.length;\n",
    "        // iterate through each element in the array\n",
    "        for (int i = 0; i < n-1; i++) {\n",
    "            // compare adjacent elements in the array\n",
    "            for (int j = 0; j < n-i-1; j++) {\n",
    "                // if the element on the left is greater than the element on the right\n",
    "                if (arr[j] > arr[j+1]) {\n",
    "                    // swap the two elements\n",
    "                    int temp = arr[j];\n",
    "                    arr[j] = arr[j+1];\n",
    "                    arr[j+1] = temp;\n",
    "                }\n",
    "            }\n",
    "        }\n",
    "    }\n",
    "\n",
    "    public static void main(String[] args) {\n",
    "        // create an array of integers\n",
    "        int[] arr = {34, 57, 35, 92, 2, 61, 53};\n",
    "        // sort the array using the bubbleSort function\n",
    "        bubbleSort(arr);\n",
    "        // print out the sorted array\n",
    "        System.out.println(\"Sorted array:\");\n",
    "        for (int i = 0; i < arr.length; i++) {\n",
    "            System.out.print(arr[i] + \" \");\n",
    "        }\n",
    "    }\n",
    "}\n",
    "\n",
    "BubbleSort.main(null);"
   ]
  },
  {
   "attachments": {},
   "cell_type": "markdown",
   "metadata": {},
   "source": [
    "# Selection Sort"
   ]
  },
  {
   "cell_type": "code",
   "execution_count": 12,
   "metadata": {
    "vscode": {
     "languageId": "java"
    }
   },
   "outputs": [
    {
     "name": "stdout",
     "output_type": "stream",
     "text": [
      "Sorted array:\n",
      "2 10 11 12 46 90 134 "
     ]
    }
   ],
   "source": [
    "public class SelectionSort {\n",
    "\n",
    "    public static void selectionSort(int[] arr) {\n",
    "        int n = arr.length;\n",
    "        // iterate through each element in the array\n",
    "        for (int i = 0; i < n-1; i++) {\n",
    "            // find the minimum element in the unsorted part of the array\n",
    "            int minIndex = i;\n",
    "            for (int j = i+1; j < n; j++) {\n",
    "                if (arr[j] < arr[minIndex]) {\n",
    "                    minIndex = j;\n",
    "                }\n",
    "            }\n",
    "            // swap the minimum element with the first element in the unsorted part of the array\n",
    "            int temp = arr[minIndex];\n",
    "            arr[minIndex] = arr[i];\n",
    "            arr[i] = temp;\n",
    "        }\n",
    "    }\n",
    "\n",
    "    public static void main(String[] args) {\n",
    "        // create an array of integers\n",
    "        int[] arr = {46,134, 10, 12, 2, 11, 90};\n",
    "        // sort the array using the selectionSort function\n",
    "        selectionSort(arr);\n",
    "        // print out the sorted array\n",
    "        System.out.println(\"Sorted array:\");\n",
    "        for (int i = 0; i < arr.length; i++) {\n",
    "            System.out.print(arr[i] + \" \");\n",
    "        }\n",
    "    }\n",
    "}\n",
    "\n",
    "SelectionSort.main(null);"
   ]
  },
  {
   "attachments": {},
   "cell_type": "markdown",
   "metadata": {},
   "source": [
    "# Insertion Sort"
   ]
  },
  {
   "cell_type": "code",
   "execution_count": 13,
   "metadata": {
    "vscode": {
     "languageId": "java"
    }
   },
   "outputs": [
    {
     "name": "stdout",
     "output_type": "stream",
     "text": [
      "Sorted array:\n",
      "5 13 30 65 82 304 640 "
     ]
    }
   ],
   "source": [
    "public class InsertionSort {\n",
    "\n",
    "    public static void insertionSort(int[] arr) {\n",
    "        int n = arr.length;\n",
    "        // iterate through each element in the array\n",
    "        for (int i = 1; i < n; i++) {\n",
    "            // insert the i-th element into the correct position in the sorted part of the array\n",
    "            int key = arr[i];\n",
    "            int j = i - 1;\n",
    "            while (j >= 0 && arr[j] > key) {\n",
    "                arr[j+1] = arr[j];\n",
    "                j--;\n",
    "            }\n",
    "            arr[j+1] = key;\n",
    "        }\n",
    "    }\n",
    "\n",
    "    public static void main(String[] args) {\n",
    "        // create an array of integers\n",
    "        int[] arr = {640, 304, 65, 82, 5, 13, 30};\n",
    "        // sort the array using the insertionSort function\n",
    "        insertionSort(arr);\n",
    "        // print out the sorted array\n",
    "        System.out.println(\"Sorted array:\");\n",
    "        for (int i = 0; i < arr.length; i++) {\n",
    "            System.out.print(arr[i] + \" \");\n",
    "        }\n",
    "    }\n",
    "}\n",
    "\n",
    "InsertionSort.main(null);"
   ]
  },
  {
   "attachments": {},
   "cell_type": "markdown",
   "metadata": {},
   "source": [
    "# Merge Sort"
   ]
  },
  {
   "cell_type": "code",
   "execution_count": 14,
   "metadata": {
    "vscode": {
     "languageId": "java"
    }
   },
   "outputs": [
    {
     "name": "stdout",
     "output_type": "stream",
     "text": [
      "Sorted array:\n",
      "123 132 164 234 323 725 905 "
     ]
    }
   ],
   "source": [
    "public class MergeSort {\n",
    "\n",
    "    public static void mergeSort(int[] arr, int left, int right) {\n",
    "        if (left < right) {\n",
    "            // find the middle point\n",
    "            int middle = (left + right) / 2;\n",
    "\n",
    "            // recursively sort the left and right subarrays\n",
    "            mergeSort(arr, left, middle);\n",
    "            mergeSort(arr, middle + 1, right);\n",
    "\n",
    "            // merge the sorted subarrays\n",
    "            merge(arr, left, middle, right);\n",
    "        }\n",
    "    }\n",
    "\n",
    "    public static void merge(int[] arr, int left, int middle, int right) {\n",
    "        // find the sizes of the two subarrays\n",
    "        int n1 = middle - left + 1;\n",
    "        int n2 = right - middle;\n",
    "\n",
    "        // create temporary arrays for the left and right subarrays\n",
    "        int[] leftArray = new int[n1];\n",
    "        int[] rightArray = new int[n2];\n",
    "\n",
    "        // copy the elements of the left and right subarrays into the temporary arrays\n",
    "        for (int i = 0; i < n1; ++i) {\n",
    "            leftArray[i] = arr[left + i];\n",
    "        }\n",
    "        for (int j = 0; j < n2; ++j) {\n",
    "            rightArray[j] = arr[middle + 1 + j];\n",
    "        }\n",
    "\n",
    "        // merge the two temporary arrays back into the original array\n",
    "        int i = 0, j = 0;\n",
    "        int k = left;\n",
    "        while (i < n1 && j < n2) {\n",
    "            if (leftArray[i] <= rightArray[j]) {\n",
    "                arr[k] = leftArray[i];\n",
    "                i++;\n",
    "            } else {\n",
    "                arr[k] = rightArray[j];\n",
    "                j++;\n",
    "            }\n",
    "            k++;\n",
    "        }\n",
    "\n",
    "        // copy any remaining elements from the left and right subarrays into the original array\n",
    "        while (i < n1) {\n",
    "            arr[k] = leftArray[i];\n",
    "            i++;\n",
    "            k++;\n",
    "        }\n",
    "        while (j < n2) {\n",
    "            arr[k] = rightArray[j];\n",
    "            j++;\n",
    "            k++;\n",
    "        }\n",
    "    }\n",
    "\n",
    "    public static void main(String[] args) {\n",
    "        // create an array of integers\n",
    "        int[] arr = {164, 234, 725, 132, 323, 123, 905};\n",
    "        int n = arr.length;\n",
    "\n",
    "        // sort the array using the mergeSort function\n",
    "        mergeSort(arr, 0, n - 1);\n",
    "\n",
    "        // print out the sorted array\n",
    "        System.out.println(\"Sorted array:\");\n",
    "        for (int i = 0; i < n; ++i) {\n",
    "            System.out.print(arr[i] + \" \");\n",
    "        }\n",
    "    }\n",
    "}\n",
    "\n",
    "MergeSort.main(null);"
   ]
  }
 ],
 "metadata": {
  "kernelspec": {
   "display_name": "Java",
   "language": "java",
   "name": "java"
  },
  "language_info": {
   "codemirror_mode": "java",
   "file_extension": ".jshell",
   "mimetype": "text/x-java-source",
   "name": "Java",
   "pygments_lexer": "java",
   "version": "17.0.6+10-Ubuntu-0ubuntu120.04.1"
  },
  "orig_nbformat": 4
 },
 "nbformat": 4,
 "nbformat_minor": 2
}
