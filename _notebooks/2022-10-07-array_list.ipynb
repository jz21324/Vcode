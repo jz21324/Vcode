{
 "cells": [
  {
   "cell_type": "markdown",
   "metadata": {},
   "source": [
    "# Array List\n",
    "\n",
    "- toc: true \n",
    "- badges: true\n",
    "- comments: true\n",
    "- categories: [jupyter]"
   ]
  },
  {
   "cell_type": "code",
   "execution_count": 24,
   "metadata": {
    "vscode": {
     "languageId": "java"
    }
   },
   "outputs": [
    {
     "name": "stdout",
     "output_type": "stream",
     "text": [
      "[Football, Basketball, Soccer, Baseball, Tennis]\n",
      "Football\n",
      "Basketball\n",
      "Soccer\n",
      "Baseball\n",
      "Tennis\n"
     ]
    }
   ],
   "source": [
    "import java.util.ArrayList;\n",
    "\n",
    "public class Main {\n",
    "    public static void main() {\n",
    "        ArrayList<String> sports = new ArrayList<String>();\n",
    "        sports.add(\"Football\");\n",
    "        sports.add(\"Basketball\");\n",
    "        sports.add(\"Soccer\");\n",
    "        sports.add(\"Baseball\");\n",
    "        sports.add(\"Tennis\");\n",
    "        System.out.println(sports);\n",
    "        for (int i = 0; i < 5; i++) {\n",
    "            System.out.println(sports.get(i));\n",
    "        }\n",
    "    } \n",
    "}\n",
    "\n",
    "Main.main();\n",
    "\n"
   ]
  }
 ],
 "metadata": {
  "kernelspec": {
   "display_name": "Java",
   "language": "java",
   "name": "java"
  },
  "language_info": {
   "codemirror_mode": "java",
   "file_extension": ".jshell",
   "mimetype": "text/x-java-source",
   "name": "Java",
   "pygments_lexer": "java",
   "version": "11.0.16+8-post-Ubuntu-0ubuntu120.04"
  },
  "orig_nbformat": 4
 },
 "nbformat": 4,
 "nbformat_minor": 2
}
