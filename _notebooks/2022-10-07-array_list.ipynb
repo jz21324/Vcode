{
 "cells": [
  {
   "cell_type": "markdown",
   "metadata": {},
   "source": [
    "# Array List\n",
    "\n",
    "- toc: true \n",
    "- badges: true\n",
    "- comments: true\n",
    "- categories: [jupyter]"
   ]
  },
  {
   "cell_type": "code",
   "execution_count": 12,
   "metadata": {
    "vscode": {
     "languageId": "java"
    }
   },
   "outputs": [
    {
     "name": "stdout",
     "output_type": "stream",
     "text": [
      "[Football, Basketball, Soccer, Baseball, Tennis]\n",
      " \n",
      "Football\n",
      "Basketball\n",
      "Soccer\n",
      "Baseball\n",
      "Tennis\n",
      " \n",
      "The size of the array is 5\n",
      "The 3 array has been changed to Golf\n",
      " \n",
      "The array list is in alphabetical order:\n",
      "Basketball\n",
      "Football\n",
      "Golf\n",
      "Soccer\n",
      "Tennis\n",
      " \n",
      "The array list is now empty and says:[]\n"
     ]
    }
   ],
   "source": [
    "import java.util.ArrayList;\n",
    "import java.util.Collections;\n",
    "\n",
    "public class Main {\n",
    "    public static void main() {\n",
    "        ArrayList<String> sports = new ArrayList<String>();\n",
    "        sports.add(\"Football\");\n",
    "        sports.add(\"Basketball\");\n",
    "        sports.add(\"Soccer\");\n",
    "        sports.add(\"Baseball\");\n",
    "        sports.add(\"Tennis\");\n",
    "        System.out.println(sports);\n",
    "\n",
    "        System.out.println(\" \");\n",
    "\n",
    "        for (int i = 0; i < 5; i++) {\n",
    "            System.out.println(sports.get(i));\n",
    "        }\n",
    "\n",
    "        System.out.println(\" \");\n",
    "        System.out.println(\"The size of the array is \" + sports.size());\n",
    "\n",
    "        sports.set(3, \"Golf\");\n",
    "        System.out.println(\"The 3 array has been changed to \" + sports.get(3));\n",
    "\n",
    "        System.out.println(\" \");\n",
    "\n",
    "        Collections.sort(sports);\n",
    "        System.out.println(\"The array list is in alphabetical order:\");\n",
    "        for (String i : sports) {\n",
    "        System.out.println(i);\n",
    "        }\n",
    "\n",
    "        System.out.println(\" \");\n",
    "        sports.clear();\n",
    "        System.out.println(\"The array list is now empty and says:\" + sports);\n",
    "    }\n",
    "}\n",
    "\n",
    "Main.main();"
   ]
  }
 ],
 "metadata": {
  "kernelspec": {
   "display_name": "Java",
   "language": "java",
   "name": "java"
  },
  "language_info": {
   "codemirror_mode": "java",
   "file_extension": ".jshell",
   "mimetype": "text/x-java-source",
   "name": "Java",
   "pygments_lexer": "java",
   "version": "11.0.16+8-post-Ubuntu-0ubuntu120.04"
  },
  "orig_nbformat": 4
 },
 "nbformat": 4,
 "nbformat_minor": 2
}
