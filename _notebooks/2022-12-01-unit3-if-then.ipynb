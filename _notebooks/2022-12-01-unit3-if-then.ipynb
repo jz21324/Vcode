{
 "cells": [
  {
   "cell_type": "markdown",
   "metadata": {},
   "source": [
    "# Unit 3 If Then Statements\n",
    "\n",
    "- toc: true \n",
    "- badges: true\n",
    "- comments: true\n",
    "- categories: [jupyter]"
   ]
  },
  {
   "cell_type": "markdown",
   "metadata": {},
   "source": [
    "Compound Boolean Expression:"
   ]
  },
  {
   "cell_type": "code",
   "execution_count": null,
   "metadata": {},
   "outputs": [],
   "source": [
    "public class Example1\n",
    "{\n",
    "   public static void main(String[] args)\n",
    "   {\n",
    "     boolean cleanedRoom = true;\n",
    "     boolean didHomework = false;\n",
    "     if (cleanedRoom && didHomework)\n",
    "     {\n",
    "         System.out.println(\"You can go out\");\n",
    "     }\n",
    "     else\n",
    "     {\n",
    "         System.out.println(\"No, you can't go out\");\n",
    "     }\n",
    "   }\n",
    "   \n",
    "}"
   ]
  },
  {
   "cell_type": "markdown",
   "metadata": {},
   "source": [
    "De Morgan's Law:\n",
    "\n",
    "<mark>De Morgan's Law</mark> states that the \"!\" symbol will negate an And statement and an Or statement. This means that if a condition is written as a || b, !(a || b) would really be a && b. This goes for the other way around where !(a && b) is a || b. It will also cause a true statement to be false with !(true) and vice versa. "
   ]
  },
  {
   "cell_type": "code",
   "execution_count": 1,
   "metadata": {},
   "outputs": [
    {
     "name": "stdout",
     "output_type": "stream",
     "text": [
      "You have a hungry child\n"
     ]
    }
   ],
   "source": [
    "boolean child = true;\n",
    "boolean hungry = false;\n",
    "\n",
    "if (!(child && hungry)) {\n",
    "    System.out.println(\"You have a hungry child\");\n",
    "}\n",
    "else {\n",
    "    System.out.println(\"Who knows what's going on?\");\n",
    "}"
   ]
  },
  {
   "cell_type": "code",
   "execution_count": 2,
   "metadata": {},
   "outputs": [
    {
     "name": "stdout",
     "output_type": "stream",
     "text": [
      "It's probably a red apple\n"
     ]
    }
   ],
   "source": [
    "boolean fruit = true;\n",
    "boolean red = true;\n",
    "\n",
    "if (!(!(fruit) || !(red))) {\n",
    "    System.out.println(\"It's probably a red apple\");\n",
    "}\n",
    "else {\n",
    "    System.out.println(\"You have an unknown food\");\n",
    "}"
   ]
  }
 ],
 "metadata": {
  "kernelspec": {
   "display_name": "Java",
   "language": "java",
   "name": "java"
  },
  "language_info": {
   "codemirror_mode": "java",
   "file_extension": ".jshell",
   "mimetype": "text/x-java-source",
   "name": "java",
   "pygments_lexer": "java",
   "version": "11.0.16+8-post-Ubuntu-0ubuntu120.04"
  },
  "orig_nbformat": 4
 },
 "nbformat": 4,
 "nbformat_minor": 2
}
