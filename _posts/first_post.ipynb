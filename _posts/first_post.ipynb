{
 "cells": [
  {
   "cell_type": "code",
   "execution_count": null,
   "metadata": {},
   "outputs": [],
   "source": []
  },
  {
   "cell_type": "markdown",
   "metadata": {},
   "source": [
    "toc: true\n",
    "layout: post\n",
    "description: The first of many posts.\n",
    "categories: [markdown]\n",
    "title: My First Post\n",
    "---\n",
    "# My First Post\n",
    "\n",
    "## Welcome!\n",
    "\n",
    "This is a website that will include different resources and posts of different coding languages, such as python and java. Along with this, there will be multiple blogs like this one that will comment on the progress of this website."
   ]
  }
 ],
 "metadata": {
  "kernelspec": {
   "display_name": "Python 3.8.10 64-bit",
   "language": "python",
   "name": "python3"
  },
  "language_info": {
   "name": "python",
   "version": "3.8.10"
  },
  "orig_nbformat": 4,
  "vscode": {
   "interpreter": {
    "hash": "916dbcbb3f70747c44a77c7bcd40155683ae19c65e1c03b4aa3499c5328201f1"
   }
  }
 },
 "nbformat": 4,
 "nbformat_minor": 2
}
